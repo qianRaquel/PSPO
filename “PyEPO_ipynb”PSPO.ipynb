{
 "cells": [
  {
   "cell_type": "code",
   "execution_count": 24,
   "metadata": {
    "ExecuteTime": {
     "end_time": "2023-04-19T09:19:11.997321Z",
     "start_time": "2023-04-19T09:19:11.827061Z"
    },
    "colab": {
     "base_uri": "https://localhost:8080/"
    },
    "id": "YuPw6OC5RFwg",
    "outputId": "3e6a81df-73aa-4218-d219-8cb85b561ac7",
    "scrolled": false
   },
   "outputs": [
    {
     "name": "stdout",
     "output_type": "stream",
     "text": [
      "fatal: destination path 'PyEPO' already exists and is not an empty directory.\r\n"
     ]
    }
   ],
   "source": [
    "!git clone https://github.com/khalil-research/PyEPO.git"
   ]
  },
  {
   "cell_type": "code",
   "execution_count": 25,
   "metadata": {
    "ExecuteTime": {
     "end_time": "2023-04-19T09:19:14.499555Z",
     "start_time": "2023-04-19T09:19:13.987786Z"
    },
    "colab": {
     "base_uri": "https://localhost:8080/"
    },
    "id": "x929cTmRRLVX",
    "outputId": "56793a1e-fd9a-4117-900f-395038166f7b",
    "scrolled": true
   },
   "outputs": [
    {
     "name": "stdout",
     "output_type": "stream",
     "text": [
      "\u001b[31mERROR: Invalid requirement: 'PyEPO/pkg/.'\r\n",
      "Hint: It looks like a path. File 'PyEPO/pkg/.' does not exist.\u001b[0m\u001b[31m\r\n",
      "\u001b[0m"
     ]
    }
   ],
   "source": [
    "!pip install PyEPO/pkg/."
   ]
  },
  {
   "cell_type": "code",
   "execution_count": 3,
   "metadata": {
    "ExecuteTime": {
     "end_time": "2023-04-20T02:08:23.294314Z",
     "start_time": "2023-04-20T02:08:07.964595Z"
    },
    "colab": {
     "base_uri": "https://localhost:8080/"
    },
    "collapsed": true,
    "id": "tMq6VchyE4BQ",
    "outputId": "789ada89-7ce6-40cc-d795-d00f185cbcee"
   },
   "outputs": [
    {
     "name": "stdout",
     "output_type": "stream",
     "text": [
      "Looking in indexes: https://pypi.tuna.tsinghua.edu.cn/simple\n",
      "Collecting Auto-Sklearn\n",
      "  Using cached auto_sklearn-0.15.0-py3-none-any.whl\n",
      "Requirement already satisfied: pyyaml in /Users/qianraquel/opt/anaconda3/lib/python3.9/site-packages (from Auto-Sklearn) (6.0)\n",
      "Requirement already satisfied: threadpoolctl in /Users/qianraquel/opt/anaconda3/lib/python3.9/site-packages (from Auto-Sklearn) (2.2.0)\n",
      "Collecting pyrfr<0.9,>=0.8.1\n",
      "  Using cached https://pypi.tuna.tsinghua.edu.cn/packages/8c/1d/d7eff5e51ee6d054011323a16eb2b360a731c2026d3cff757e48aee8f950/pyrfr-0.8.3.tar.gz (293 kB)\n",
      "  Preparing metadata (setup.py) ... \u001b[?25ldone\n",
      "\u001b[?25hRequirement already satisfied: scipy>=1.7.0 in /Users/qianraquel/opt/anaconda3/lib/python3.9/site-packages (from Auto-Sklearn) (1.10.1)\n",
      "Collecting ConfigSpace<0.5,>=0.4.21\n",
      "  Using cached https://pypi.tuna.tsinghua.edu.cn/packages/ab/c2/62b6216a8cda702f859a38ac7eb0394c665420b7670e1638d7f8d595931e/ConfigSpace-0.4.21-cp39-cp39-macosx_10_9_x86_64.whl (882 kB)\n",
      "Collecting scikit-learn<0.25.0,>=0.24.0\n",
      "  Using cached https://pypi.tuna.tsinghua.edu.cn/packages/c6/6a/41fe5034d4f85c24aea9b7dca1f070bcca2ec29251d0624e87436bf5a2c0/scikit_learn-0.24.2-cp39-cp39-macosx_10_13_x86_64.whl (7.3 MB)\n",
      "Requirement already satisfied: pandas>=1.0 in /Users/qianraquel/opt/anaconda3/lib/python3.9/site-packages (from Auto-Sklearn) (1.5.3)\n",
      "Collecting pynisher<0.7,>=0.6.3\n",
      "  Using cached pynisher-0.6.4-py3-none-any.whl\n",
      "Requirement already satisfied: numpy>=1.9.0 in /Users/qianraquel/opt/anaconda3/lib/python3.9/site-packages (from Auto-Sklearn) (1.24.1)\n",
      "Collecting distro\n",
      "  Using cached https://pypi.tuna.tsinghua.edu.cn/packages/f4/2c/c90a3adaf0ddb70afe193f5ebfb539612af57cffe677c3126be533df3098/distro-1.8.0-py3-none-any.whl (20 kB)\n",
      "Collecting dask>=2021.12\n",
      "  Using cached https://pypi.tuna.tsinghua.edu.cn/packages/d3/52/2ffaf33d2d34494b09106d52b3429d8dd198a9c29c73a5320feaab984082/dask-2023.4.0-py3-none-any.whl (1.2 MB)\n",
      "Requirement already satisfied: setuptools in /Users/qianraquel/opt/anaconda3/lib/python3.9/site-packages (from Auto-Sklearn) (66.0.0)\n",
      "Collecting distributed>=2012.12\n",
      "  Using cached https://pypi.tuna.tsinghua.edu.cn/packages/b9/64/17f5441a0d53d884be6442351ae205ba7ac1493a0d5b9cf28a6f72ea140e/distributed-2023.4.0-py3-none-any.whl (961 kB)\n",
      "Collecting smac<1.3,>=1.2\n",
      "  Using cached smac-1.2-py3-none-any.whl\n",
      "Requirement already satisfied: joblib in /Users/qianraquel/opt/anaconda3/lib/python3.9/site-packages (from Auto-Sklearn) (1.1.1)\n",
      "Collecting liac-arff\n",
      "  Using cached liac_arff-2.5.0-py3-none-any.whl\n",
      "Requirement already satisfied: typing-extensions in /Users/qianraquel/opt/anaconda3/lib/python3.9/site-packages (from Auto-Sklearn) (4.4.0)\n",
      "Collecting cython\n",
      "  Using cached https://pypi.tuna.tsinghua.edu.cn/packages/d2/49/9845f14b6716614c832535b67e3b491434d7fdecf510fcb6fe254f60a974/Cython-0.29.34-py2.py3-none-any.whl (988 kB)\n",
      "Requirement already satisfied: pyparsing in /Users/qianraquel/opt/anaconda3/lib/python3.9/site-packages (from ConfigSpace<0.5,>=0.4.21->Auto-Sklearn) (3.0.9)\n",
      "Collecting partd>=1.2.0\n",
      "  Using cached https://pypi.tuna.tsinghua.edu.cn/packages/1a/56/900aae94a28a7bcc0aa90a4be7b739d2221be98c2dfae6f51e34bba29aab/partd-1.4.0-py3-none-any.whl (18 kB)\n",
      "Requirement already satisfied: toolz>=0.8.2 in /Users/qianraquel/opt/anaconda3/lib/python3.9/site-packages (from dask>=2021.12->Auto-Sklearn) (0.12.0)\n",
      "Collecting fsspec>=0.6.0\n",
      "  Using cached https://pypi.tuna.tsinghua.edu.cn/packages/d6/30/db3078afe553e9a07c87534cbfb87a8c8ebb083fa0a8847ca5bdc86b51a7/fsspec-2023.4.0-py3-none-any.whl (153 kB)\n",
      "Requirement already satisfied: packaging>=20.0 in /Users/qianraquel/opt/anaconda3/lib/python3.9/site-packages (from dask>=2021.12->Auto-Sklearn) (23.0)\n",
      "Requirement already satisfied: click>=7.0 in /Users/qianraquel/opt/anaconda3/lib/python3.9/site-packages (from dask>=2021.12->Auto-Sklearn) (8.0.4)\n",
      "Requirement already satisfied: importlib-metadata>=4.13.0 in /Users/qianraquel/opt/anaconda3/lib/python3.9/site-packages (from dask>=2021.12->Auto-Sklearn) (6.0.0)\n",
      "Collecting cloudpickle>=1.1.1\n",
      "  Using cached https://pypi.tuna.tsinghua.edu.cn/packages/15/80/44286939ca215e88fa827b2aeb6fa3fd2b4a7af322485c7170d6f9fd96e0/cloudpickle-2.2.1-py3-none-any.whl (25 kB)\n",
      "Requirement already satisfied: tblib>=1.6.0 in /Users/qianraquel/opt/anaconda3/lib/python3.9/site-packages (from distributed>=2012.12->Auto-Sklearn) (1.7.0)\n",
      "Collecting locket>=1.0.0\n",
      "  Using cached https://pypi.tuna.tsinghua.edu.cn/packages/db/bc/83e112abc66cd466c6b83f99118035867cecd41802f8d044638aa78a106e/locket-1.0.0-py2.py3-none-any.whl (4.4 kB)\n",
      "Requirement already satisfied: msgpack>=1.0.0 in /Users/qianraquel/opt/anaconda3/lib/python3.9/site-packages (from distributed>=2012.12->Auto-Sklearn) (1.0.5)\n",
      "Requirement already satisfied: jinja2>=2.10.3 in /Users/qianraquel/opt/anaconda3/lib/python3.9/site-packages (from distributed>=2012.12->Auto-Sklearn) (3.1.2)\n",
      "Requirement already satisfied: sortedcontainers>=2.0.5 in /Users/qianraquel/opt/anaconda3/lib/python3.9/site-packages (from distributed>=2012.12->Auto-Sklearn) (2.4.0)\n",
      "Requirement already satisfied: urllib3>=1.24.3 in /Users/qianraquel/opt/anaconda3/lib/python3.9/site-packages (from distributed>=2012.12->Auto-Sklearn) (1.26.15)\n",
      "Requirement already satisfied: zict>=2.2.0 in /Users/qianraquel/opt/anaconda3/lib/python3.9/site-packages (from distributed>=2012.12->Auto-Sklearn) (3.0.0)\n",
      "Requirement already satisfied: psutil>=5.7.0 in /Users/qianraquel/opt/anaconda3/lib/python3.9/site-packages (from distributed>=2012.12->Auto-Sklearn) (5.9.0)\n",
      "Requirement already satisfied: tornado>=6.0.3 in /Users/qianraquel/opt/anaconda3/lib/python3.9/site-packages (from distributed>=2012.12->Auto-Sklearn) (6.2)\n",
      "Requirement already satisfied: python-dateutil>=2.8.1 in /Users/qianraquel/opt/anaconda3/lib/python3.9/site-packages (from pandas>=1.0->Auto-Sklearn) (2.8.2)\n",
      "Requirement already satisfied: pytz>=2020.1 in /Users/qianraquel/opt/anaconda3/lib/python3.9/site-packages (from pandas>=1.0->Auto-Sklearn) (2022.7)\n",
      "Collecting emcee>=3.0.0\n",
      "  Using cached https://pypi.tuna.tsinghua.edu.cn/packages/1c/2c/426cf760d1f1161b2c57272c7efc495bef353b0d1d609d91708ddfb831a2/emcee-3.1.4-py2.py3-none-any.whl (46 kB)\n",
      "Requirement already satisfied: zipp>=0.5 in /Users/qianraquel/opt/anaconda3/lib/python3.9/site-packages (from importlib-metadata>=4.13.0->dask>=2021.12->Auto-Sklearn) (3.11.0)\n",
      "Requirement already satisfied: MarkupSafe>=2.0 in /Users/qianraquel/opt/anaconda3/lib/python3.9/site-packages (from jinja2>=2.10.3->distributed>=2012.12->Auto-Sklearn) (2.1.1)\n",
      "Requirement already satisfied: six>=1.5 in /Users/qianraquel/opt/anaconda3/lib/python3.9/site-packages (from python-dateutil>=2.8.1->pandas>=1.0->Auto-Sklearn) (1.16.0)\n",
      "Building wheels for collected packages: pyrfr\n",
      "  Building wheel for pyrfr (setup.py) ... \u001b[?25lerror\n",
      "  \u001b[1;31merror\u001b[0m: \u001b[1msubprocess-exited-with-error\u001b[0m\n",
      "  \n",
      "  \u001b[31m×\u001b[0m \u001b[32mpython setup.py bdist_wheel\u001b[0m did not run successfully.\n",
      "  \u001b[31m│\u001b[0m exit code: \u001b[1;36m1\u001b[0m\n",
      "  \u001b[31m╰─>\u001b[0m \u001b[31m[2 lines of output]\u001b[0m\n",
      "  \u001b[31m   \u001b[0m [<setuptools.extension.Extension('pyrfr._regression') at 0x10a537070>, <setuptools.extension.Extension('pyrfr._util') at 0x10a5370d0>]\n",
      "  \u001b[31m   \u001b[0m error: command 'swig' failed: No such file or directory\n",
      "  \u001b[31m   \u001b[0m \u001b[31m[end of output]\u001b[0m\n",
      "  \n",
      "  \u001b[1;35mnote\u001b[0m: This error originates from a subprocess, and is likely not a problem with pip.\n",
      "\u001b[31m  ERROR: Failed building wheel for pyrfr\u001b[0m\u001b[31m\n",
      "\u001b[0m\u001b[?25h  Running setup.py clean for pyrfr\n",
      "Failed to build pyrfr\n",
      "Installing collected packages: pyrfr, pynisher, locket, liac-arff, fsspec, emcee, distro, cython, cloudpickle, scikit-learn, partd, ConfigSpace, dask, distributed, smac, Auto-Sklearn\n",
      "  Running setup.py install for pyrfr ... \u001b[?25lerror\n",
      "  \u001b[1;31merror\u001b[0m: \u001b[1msubprocess-exited-with-error\u001b[0m\n",
      "  \n",
      "  \u001b[31m×\u001b[0m \u001b[32mRunning setup.py install for pyrfr\u001b[0m did not run successfully.\n",
      "  \u001b[31m│\u001b[0m exit code: \u001b[1;36m1\u001b[0m\n",
      "  \u001b[31m╰─>\u001b[0m \u001b[31m[4 lines of output]\u001b[0m\n",
      "  \u001b[31m   \u001b[0m [<setuptools.extension.Extension('pyrfr._regression') at 0x10a056070>, <setuptools.extension.Extension('pyrfr._util') at 0x10a0560d0>]\n",
      "  \u001b[31m   \u001b[0m /Users/qianraquel/opt/anaconda3/lib/python3.9/site-packages/setuptools/command/install.py:34: SetuptoolsDeprecationWarning: setup.py install is deprecated. Use build and pip and other standards-based tools.\n",
      "  \u001b[31m   \u001b[0m   warnings.warn(\n",
      "  \u001b[31m   \u001b[0m error: command 'swig' failed: No such file or directory\n",
      "  \u001b[31m   \u001b[0m \u001b[31m[end of output]\u001b[0m\n",
      "  \n",
      "  \u001b[1;35mnote\u001b[0m: This error originates from a subprocess, and is likely not a problem with pip.\n",
      "\u001b[1;31merror\u001b[0m: \u001b[1mlegacy-install-failure\u001b[0m\n",
      "\n",
      "\u001b[31m×\u001b[0m Encountered error while trying to install package.\n",
      "\u001b[31m╰─>\u001b[0m pyrfr\n",
      "\n",
      "\u001b[1;35mnote\u001b[0m: This is an issue with the package mentioned above, not pip.\n",
      "\u001b[1;36mhint\u001b[0m: See above for output from the failure.\n",
      "\u001b[?25h"
     ]
    }
   ],
   "source": [
    "!pip install Auto-Sklearn"
   ]
  },
  {
   "cell_type": "code",
   "execution_count": 8,
   "metadata": {
    "ExecuteTime": {
     "end_time": "2023-04-19T03:53:51.293486Z",
     "start_time": "2023-04-19T03:53:51.286358Z"
    }
   },
   "outputs": [
    {
     "name": "stdout",
     "output_type": "stream",
     "text": [
      "/Users/qianraquel/A PyEPO_ipynb\n"
     ]
    }
   ],
   "source": [
    "import os\n",
    "print(os.getcwd())\n"
   ]
  },
  {
   "cell_type": "code",
   "execution_count": 10,
   "metadata": {
    "ExecuteTime": {
     "end_time": "2023-04-19T09:08:48.578304Z",
     "start_time": "2023-04-19T09:08:48.569931Z"
    }
   },
   "outputs": [
    {
     "name": "stdout",
     "output_type": "stream",
     "text": [
      "/Users/qianraquel/opt/anaconda3/envs/gurobi_env/bin/python\n"
     ]
    }
   ],
   "source": [
    "import sys\n",
    "print(sys.executable)\n"
   ]
  },
  {
   "cell_type": "code",
   "execution_count": 14,
   "metadata": {
    "ExecuteTime": {
     "end_time": "2023-04-19T09:09:54.422223Z",
     "start_time": "2023-04-19T09:09:43.112449Z"
    },
    "collapsed": true
   },
   "outputs": [
    {
     "name": "stdout",
     "output_type": "stream",
     "text": [
      "Looking in indexes: https://pypi.tuna.tsinghua.edu.cn/simple\n",
      "Collecting pyomo\n",
      "  Downloading https://pypi.tuna.tsinghua.edu.cn/packages/50/7a/da61cc1f3104f4ffcf4eea9208261252cfff911917183e49f6337dd0bb8f/Pyomo-6.5.0-cp38-cp38-macosx_10_15_x86_64.whl (4.9 MB)\n",
      "\u001b[2K     \u001b[90m━━━━━━━━━━━━━━━━━━━━━━━━━━━━━━━━━━━━━━━━\u001b[0m \u001b[32m4.9/4.9 MB\u001b[0m \u001b[31m1.3 MB/s\u001b[0m eta \u001b[36m0:00:00\u001b[0ma \u001b[36m0:00:01\u001b[0m0m\n",
      "\u001b[?25hCollecting ply\n",
      "  Downloading https://pypi.tuna.tsinghua.edu.cn/packages/a3/58/35da89ee790598a0700ea49b2a66594140f44dec458c07e8e3d4979137fc/ply-3.11-py2.py3-none-any.whl (49 kB)\n",
      "\u001b[2K     \u001b[90m━━━━━━━━━━━━━━━━━━━━━━━━━━━━━━━━━━━━━━━━\u001b[0m \u001b[32m49.6/49.6 kB\u001b[0m \u001b[31m4.0 MB/s\u001b[0m eta \u001b[36m0:00:00\u001b[0m\n",
      "\u001b[?25hInstalling collected packages: ply, pyomo\n",
      "Successfully installed ply-3.11 pyomo-6.5.0\n"
     ]
    }
   ],
   "source": [
    "!{sys.executable} -m pip install pyomo"
   ]
  },
  {
   "cell_type": "markdown",
   "metadata": {},
   "source": [
    "### gurobi.version"
   ]
  },
  {
   "cell_type": "code",
   "execution_count": 7,
   "metadata": {
    "ExecuteTime": {
     "end_time": "2023-04-19T09:01:11.952551Z",
     "start_time": "2023-04-19T09:01:11.900621Z"
    },
    "collapsed": true
   },
   "outputs": [
    {
     "name": "stdout",
     "output_type": "stream",
     "text": [
      "(10, 0, 1)\n"
     ]
    }
   ],
   "source": [
    "import gurobipy as gp\n",
    "print(gp.gurobi.version())\n"
   ]
  },
  {
   "cell_type": "code",
   "execution_count": 23,
   "metadata": {
    "ExecuteTime": {
     "end_time": "2023-04-19T05:04:48.240783Z",
     "start_time": "2023-04-19T05:04:48.230737Z"
    }
   },
   "outputs": [
    {
     "name": "stdout",
     "output_type": "stream",
     "text": [
      "3.8.0 (default, Nov  6 2019, 15:49:01) \n",
      "[Clang 4.0.1 (tags/RELEASE_401/final)]\n"
     ]
    }
   ],
   "source": [
    "import sys\n",
    "print(sys.version)\n"
   ]
  },
  {
   "cell_type": "code",
   "execution_count": 8,
   "metadata": {
    "ExecuteTime": {
     "end_time": "2023-04-19T09:08:19.013394Z",
     "start_time": "2023-04-19T09:08:07.239188Z"
    }
   },
   "outputs": [],
   "source": [
    "import torch"
   ]
  },
  {
   "cell_type": "markdown",
   "metadata": {
    "ExecuteTime": {
     "end_time": "2023-04-19T03:43:36.632419Z",
     "start_time": "2023-04-19T03:43:36.625542Z"
    }
   },
   "source": [
    "# Warcraft Shortest Path"
   ]
  },
  {
   "cell_type": "code",
   "execution_count": 1,
   "metadata": {
    "ExecuteTime": {
     "end_time": "2023-05-17T02:36:31.899887Z",
     "start_time": "2023-05-17T02:36:31.884680Z"
    },
    "id": "kmWseHaz2kiO"
   },
   "outputs": [],
   "source": [
    "# set work dir\n",
    "import os\n",
    "os.chdir(\"/Users/qianraquel/A PyEPO_ipynb/PyEPO/pkg\")"
   ]
  },
  {
   "cell_type": "code",
   "execution_count": 2,
   "metadata": {
    "ExecuteTime": {
     "end_time": "2023-05-17T02:36:36.109216Z",
     "start_time": "2023-05-17T02:36:31.901945Z"
    },
    "colab": {
     "base_uri": "https://localhost:8080/"
    },
    "id": "o71r1ftg2xS8",
    "outputId": "2dd59576-690c-4869-fe45-09e939a14074",
    "scrolled": true
   },
   "outputs": [
    {
     "name": "stdout",
     "output_type": "stream",
     "text": [
      "Auto-Sklearn cannot be imported.\n"
     ]
    },
    {
     "data": {
      "text/plain": [
       "<torch._C.Generator at 0x7f90b03c79d0>"
      ]
     },
     "execution_count": 2,
     "metadata": {},
     "output_type": "execute_result"
    }
   ],
   "source": [
    "import time\n",
    "import random\n",
    "import pyepo\n",
    "import torch\n",
    "from torch import nn\n",
    "from matplotlib import pyplot as plt\n",
    "import numpy as np\n",
    "import pandas as pd\n",
    "from tqdm import tqdm\n",
    "# fix random seed\n",
    "random.seed(135)\n",
    "np.random.seed(135)\n",
    "torch.manual_seed(135)"
   ]
  },
  {
   "cell_type": "code",
   "execution_count": 3,
   "metadata": {
    "ExecuteTime": {
     "end_time": "2023-05-17T02:36:36.111834Z",
     "start_time": "2023-05-17T02:36:36.110230Z"
    },
    "id": "iuYvMHoO260K"
   },
   "outputs": [],
   "source": [
    "# map size\n",
    "k = 12\n",
    "# k = 18"
   ]
  },
  {
   "cell_type": "code",
   "execution_count": 4,
   "metadata": {
    "ExecuteTime": {
     "end_time": "2023-05-17T02:36:36.295703Z",
     "start_time": "2023-05-17T02:36:36.112665Z"
    }
   },
   "outputs": [],
   "source": [
    "tmaps_train = np.load(\"./data/train_maps.npy\".format(k,k))\n",
    "tmaps_val = np.load(\"./data/val_maps.npy\".format(k,k))\n",
    "tmaps_test = np.load(\"./data/test_maps.npy\".format(k,k))"
   ]
  },
  {
   "cell_type": "markdown",
   "metadata": {},
   "source": [
    "## maps"
   ]
  },
  {
   "cell_type": "code",
   "execution_count": 6,
   "metadata": {
    "ExecuteTime": {
     "end_time": "2023-05-17T02:36:59.183718Z",
     "start_time": "2023-05-17T02:36:59.176022Z"
    },
    "colab": {
     "base_uri": "https://localhost:8080/"
    },
    "id": "NkXugt_EN6kW",
    "outputId": "e0d7bccb-9391-4440-8abc-cec0b948a4f2"
   },
   "outputs": [
    {
     "data": {
      "text/plain": [
       "(10000, 96, 96, 3)"
      ]
     },
     "execution_count": 6,
     "metadata": {},
     "output_type": "execute_result"
    }
   ],
   "source": [
    "tmaps_train.shape"
   ]
  },
  {
   "cell_type": "code",
   "execution_count": 8,
   "metadata": {
    "ExecuteTime": {
     "end_time": "2023-04-24T08:44:38.031247Z",
     "start_time": "2023-04-24T08:44:37.880431Z"
    },
    "colab": {
     "base_uri": "https://localhost:8080/",
     "height": 248
    },
    "id": "PCyzwJeajb0C",
    "outputId": "66b61075-ec68-4043-efa5-970eab0440e4"
   },
   "outputs": [
    {
     "data": {
      "image/png": "[encoded data removed]",
      "text/plain": [
       "<Figure size 432x288 with 1 Axes>"
      ]
     },
     "metadata": {
      "needs_background": "light"
     },
     "output_type": "display_data"
    }
   ],
   "source": [
    "plt.axis(\"off\")\n",
    "plt.imshow(tmaps_train[0])\n",
    "plt.show()"
   ]
  },
  {
   "cell_type": "markdown",
   "metadata": {},
   "source": [
    "## costs"
   ]
  },
  {
   "cell_type": "code",
   "execution_count": 7,
   "metadata": {
    "ExecuteTime": {
     "end_time": "2023-05-17T02:37:22.016538Z",
     "start_time": "2023-05-17T02:37:22.003544Z"
    }
   },
   "outputs": [],
   "source": [
    "costs_train = np.load(\"./data/train_vertex_weights.npy\".format(k,k))\n",
    "costs_val = np.load(\"./data/val_vertex_weights.npy\".format(k,k))\n",
    "costs_test = np.load(\"./data/test_vertex_weights.npy\".format(k,k))"
   ]
  },
  {
   "cell_type": "code",
   "execution_count": 8,
   "metadata": {
    "ExecuteTime": {
     "end_time": "2023-05-17T02:37:35.420628Z",
     "start_time": "2023-05-17T02:37:35.292464Z"
    },
    "colab": {
     "base_uri": "https://localhost:8080/",
     "height": 905
    },
    "id": "mZVZgj9ej9rE",
    "outputId": "95704738-ed5d-4962-96f1-cd2b69a209d1",
    "scrolled": true
   },
   "outputs": [
    {
     "data": {
      "image/png": "[encoded data removed]",
      "text/plain": [
       "<Figure size 432x288 with 1 Axes>"
      ]
     },
     "metadata": {
      "needs_background": "light"
     },
     "output_type": "display_data"
    },
    {
     "data": {
      "text/plain": [
       "array([[0.8, 0.8, 0.8, 0.8, 0.8, 0.8, 0.8, 0.8, 1.2, 1.2, 1.2, 0.8],\n",
       "       [0.8, 0.8, 0.8, 0.8, 0.8, 1.2, 1.2, 1.2, 1.2, 9.2, 1.2, 1.2],\n",
       "       [0.8, 0.8, 0.8, 1.2, 1.2, 1.2, 1.2, 1.2, 1.2, 1.2, 1.2, 1.2],\n",
       "       [1.2, 0.8, 0.8, 1.2, 1.2, 0.8, 1.2, 1.2, 7.7, 7.7, 1.2, 1.2],\n",
       "       [1.2, 0.8, 1.2, 1.2, 0.8, 0.8, 0.8, 1.2, 1.2, 7.7, 1.2, 1.2],\n",
       "       [1.2, 0.8, 1.2, 1.2, 0.8, 0.8, 0.8, 0.8, 1.2, 7.7, 1.2, 1.2],\n",
       "       [1.2, 0.8, 1.2, 1.2, 1.2, 0.8, 0.8, 1.2, 1.2, 1.2, 7.7, 7.7],\n",
       "       [0.8, 0.8, 1.2, 1.2, 0.8, 0.8, 1.2, 0.8, 0.8, 1.2, 7.7, 7.7],\n",
       "       [0.8, 0.8, 1.2, 1.2, 1.2, 1.2, 1.2, 1.2, 1.2, 1.2, 7.7, 7.7],\n",
       "       [0.8, 0.8, 1.2, 9.2, 9.2, 9.2, 9.2, 1.2, 1.2, 7.7, 7.7, 7.7],\n",
       "       [0.8, 0.8, 1.2, 9.2, 9.2, 9.2, 9.2, 1.2, 1.2, 7.7, 7.7, 7.7],\n",
       "       [0.8, 0.8, 1.2, 9.2, 9.2, 9.2, 9.2, 1.2, 1.2, 1.2, 7.7, 7.7]],\n",
       "      dtype=float16)"
      ]
     },
     "execution_count": 8,
     "metadata": {},
     "output_type": "execute_result"
    }
   ],
   "source": [
    "i = 0\n",
    "plt.axis(\"off\")\n",
    "plt.imshow(tmaps_train[i])\n",
    "plt.show()\n",
    "costs_train[i]"
   ]
  },
  {
   "cell_type": "code",
   "execution_count": 9,
   "metadata": {
    "ExecuteTime": {
     "end_time": "2023-05-17T02:38:50.758179Z",
     "start_time": "2023-05-17T02:38:50.747294Z"
    }
   },
   "outputs": [
    {
     "name": "stdout",
     "output_type": "stream",
     "text": [
      "Min Value: 0.8\n",
      "Max Value: 9.2\n"
     ]
    }
   ],
   "source": [
    "import numpy as np\n",
    "\n",
    "print(\"Min Value:\", np.min(costs_train[i]))\n",
    "print(\"Max Value:\", np.max(costs_train[i]))\n"
   ]
  },
  {
   "cell_type": "code",
   "execution_count": 11,
   "metadata": {
    "ExecuteTime": {
     "end_time": "2023-04-24T08:45:51.278006Z",
     "start_time": "2023-04-24T08:45:51.225217Z"
    }
   },
   "outputs": [
    {
     "data": {
      "image/png": "[encoded data removed]",
      "text/plain": [
       "<Figure size 432x288 with 1 Axes>"
      ]
     },
     "metadata": {
      "needs_background": "light"
     },
     "output_type": "display_data"
    }
   ],
   "source": [
    "plt.axis(\"off\")\n",
    "plt.imshow(costs_train[0])\n",
    "plt.show()"
   ]
  },
  {
   "cell_type": "markdown",
   "metadata": {},
   "source": [
    "## shortest Paths"
   ]
  },
  {
   "cell_type": "code",
   "execution_count": 10,
   "metadata": {
    "ExecuteTime": {
     "end_time": "2023-05-17T02:54:03.915843Z",
     "start_time": "2023-05-17T02:54:03.879540Z"
    }
   },
   "outputs": [],
   "source": [
    "paths_train = np.load(\"./data/train_shortest_paths.npy\".format(k,k))\n",
    "paths_val = np.load(\"./data/val_shortest_paths.npy\".format(k,k))\n",
    "paths_test = np.load(\"./data/test_shortest_paths.npy\".format(k,k))"
   ]
  },
  {
   "cell_type": "code",
   "execution_count": 11,
   "metadata": {
    "ExecuteTime": {
     "end_time": "2023-05-17T02:54:03.979243Z",
     "start_time": "2023-05-17T02:54:03.917462Z"
    },
    "colab": {
     "base_uri": "https://localhost:8080/",
     "height": 248
    },
    "id": "E89QKcaHkdBE",
    "outputId": "866b6641-9bf8-4223-a30f-58dc33e76b27"
   },
   "outputs": [
    {
     "data": {
      "image/png": "[encoded data removed]",
      "text/plain": [
       "<Figure size 432x288 with 1 Axes>"
      ]
     },
     "metadata": {
      "needs_background": "light"
     },
     "output_type": "display_data"
    }
   ],
   "source": [
    "plt.axis(\"off\")\n",
    "plt.imshow(paths_train[0])\n",
    "plt.show()"
   ]
  },
  {
   "cell_type": "markdown",
   "metadata": {},
   "source": [
    "# 2 Data Loader"
   ]
  },
  {
   "cell_type": "code",
   "execution_count": 12,
   "metadata": {
    "ExecuteTime": {
     "end_time": "2023-05-17T02:54:09.899205Z",
     "start_time": "2023-05-17T02:54:09.884782Z"
    },
    "id": "7jNR_vKJkfQU"
   },
   "outputs": [],
   "source": [
    "from torch.utils.data import Dataset\n",
    "class mapDataset(Dataset):\n",
    "    def __init__(self, tmaps, costs, paths):\n",
    "        self.tmaps = tmaps\n",
    "        self.costs = costs\n",
    "        self.paths = paths\n",
    "        self.objs = (costs * paths).sum(axis=(1,2)).reshape(-1,1)\n",
    "        \n",
    "    def __len__(self):\n",
    "        return len(self.costs)\n",
    "    \n",
    "    def __getitem__(self, ind):\n",
    "        return (\n",
    "            torch.FloatTensor(self.tmaps[ind].transpose(2, 0, 1)/255).detach(), # image\n",
    "            torch.FloatTensor(self.costs[ind]).reshape(-1),\n",
    "            torch.FloatTensor(self.paths[ind]).reshape(-1),\n",
    "            torch.FloatTensor(self.objs[ind]),\n",
    "        )"
   ]
  },
  {
   "cell_type": "code",
   "execution_count": 13,
   "metadata": {
    "ExecuteTime": {
     "end_time": "2023-05-17T02:54:09.930189Z",
     "start_time": "2023-05-17T02:54:09.901638Z"
    },
    "id": "W5HFxQNkkhqQ"
   },
   "outputs": [],
   "source": [
    "# datasets\n",
    "dataset_train = mapDataset(tmaps_train, costs_train, paths_train)\n",
    "dataset_val = mapDataset(tmaps_val, costs_val, paths_val)\n",
    "dataset_test = mapDataset(tmaps_test, costs_test, paths_test)\n",
    "# dataloader\n",
    "from torch.utils.data import DataLoader\n",
    "batch_size = 70\n",
    "loader_train = DataLoader(dataset_train, batch_size=batch_size, shuffle=True)\n",
    "loader_val = DataLoader(dataset_val, batch_size=batch_size, shuffle=False)\n",
    "loader_test = DataLoader(dataset_test, batch_size=batch_size, shuffle=False)"
   ]
  },
  {
   "cell_type": "markdown",
   "metadata": {},
   "source": [
    "# 3 Neural Network: Truncated Resnet18"
   ]
  },
  {
   "cell_type": "code",
   "execution_count": 14,
   "metadata": {
    "ExecuteTime": {
     "end_time": "2023-05-17T02:54:16.575755Z",
     "start_time": "2023-05-17T02:54:15.965147Z"
    },
    "colab": {
     "base_uri": "https://localhost:8080/"
    },
    "collapsed": true,
    "id": "i4MT-OjwlXDm",
    "outputId": "3182f03d-84f7-46ae-ce28-ab9441303e54"
   },
   "outputs": [
    {
     "name": "stdout",
     "output_type": "stream",
     "text": [
      "ResNet(\n",
      "  (conv1): Conv2d(3, 64, kernel_size=(7, 7), stride=(2, 2), padding=(3, 3), bias=False)\n",
      "  (bn1): BatchNorm2d(64, eps=1e-05, momentum=0.1, affine=True, track_running_stats=True)\n",
      "  (relu): ReLU(inplace=True)\n",
      "  (maxpool): MaxPool2d(kernel_size=3, stride=2, padding=1, dilation=1, ceil_mode=False)\n",
      "  (layer1): Sequential(\n",
      "    (0): BasicBlock(\n",
      "      (conv1): Conv2d(64, 64, kernel_size=(3, 3), stride=(1, 1), padding=(1, 1), bias=False)\n",
      "      (bn1): BatchNorm2d(64, eps=1e-05, momentum=0.1, affine=True, track_running_stats=True)\n",
      "      (relu): ReLU(inplace=True)\n",
      "      (conv2): Conv2d(64, 64, kernel_size=(3, 3), stride=(1, 1), padding=(1, 1), bias=False)\n",
      "      (bn2): BatchNorm2d(64, eps=1e-05, momentum=0.1, affine=True, track_running_stats=True)\n",
      "    )\n",
      "    (1): BasicBlock(\n",
      "      (conv1): Conv2d(64, 64, kernel_size=(3, 3), stride=(1, 1), padding=(1, 1), bias=False)\n",
      "      (bn1): BatchNorm2d(64, eps=1e-05, momentum=0.1, affine=True, track_running_stats=True)\n",
      "      (relu): ReLU(inplace=True)\n",
      "      (conv2): Conv2d(64, 64, kernel_size=(3, 3), stride=(1, 1), padding=(1, 1), bias=False)\n",
      "      (bn2): BatchNorm2d(64, eps=1e-05, momentum=0.1, affine=True, track_running_stats=True)\n",
      "    )\n",
      "  )\n",
      "  (layer2): Sequential(\n",
      "    (0): BasicBlock(\n",
      "      (conv1): Conv2d(64, 128, kernel_size=(3, 3), stride=(2, 2), padding=(1, 1), bias=False)\n",
      "      (bn1): BatchNorm2d(128, eps=1e-05, momentum=0.1, affine=True, track_running_stats=True)\n",
      "      (relu): ReLU(inplace=True)\n",
      "      (conv2): Conv2d(128, 128, kernel_size=(3, 3), stride=(1, 1), padding=(1, 1), bias=False)\n",
      "      (bn2): BatchNorm2d(128, eps=1e-05, momentum=0.1, affine=True, track_running_stats=True)\n",
      "      (downsample): Sequential(\n",
      "        (0): Conv2d(64, 128, kernel_size=(1, 1), stride=(2, 2), bias=False)\n",
      "        (1): BatchNorm2d(128, eps=1e-05, momentum=0.1, affine=True, track_running_stats=True)\n",
      "      )\n",
      "    )\n",
      "    (1): BasicBlock(\n",
      "      (conv1): Conv2d(128, 128, kernel_size=(3, 3), stride=(1, 1), padding=(1, 1), bias=False)\n",
      "      (bn1): BatchNorm2d(128, eps=1e-05, momentum=0.1, affine=True, track_running_stats=True)\n",
      "      (relu): ReLU(inplace=True)\n",
      "      (conv2): Conv2d(128, 128, kernel_size=(3, 3), stride=(1, 1), padding=(1, 1), bias=False)\n",
      "      (bn2): BatchNorm2d(128, eps=1e-05, momentum=0.1, affine=True, track_running_stats=True)\n",
      "    )\n",
      "  )\n",
      "  (layer3): Sequential(\n",
      "    (0): BasicBlock(\n",
      "      (conv1): Conv2d(128, 256, kernel_size=(3, 3), stride=(2, 2), padding=(1, 1), bias=False)\n",
      "      (bn1): BatchNorm2d(256, eps=1e-05, momentum=0.1, affine=True, track_running_stats=True)\n",
      "      (relu): ReLU(inplace=True)\n",
      "      (conv2): Conv2d(256, 256, kernel_size=(3, 3), stride=(1, 1), padding=(1, 1), bias=False)\n",
      "      (bn2): BatchNorm2d(256, eps=1e-05, momentum=0.1, affine=True, track_running_stats=True)\n",
      "      (downsample): Sequential(\n",
      "        (0): Conv2d(128, 256, kernel_size=(1, 1), stride=(2, 2), bias=False)\n",
      "        (1): BatchNorm2d(256, eps=1e-05, momentum=0.1, affine=True, track_running_stats=True)\n",
      "      )\n",
      "    )\n",
      "    (1): BasicBlock(\n",
      "      (conv1): Conv2d(256, 256, kernel_size=(3, 3), stride=(1, 1), padding=(1, 1), bias=False)\n",
      "      (bn1): BatchNorm2d(256, eps=1e-05, momentum=0.1, affine=True, track_running_stats=True)\n",
      "      (relu): ReLU(inplace=True)\n",
      "      (conv2): Conv2d(256, 256, kernel_size=(3, 3), stride=(1, 1), padding=(1, 1), bias=False)\n",
      "      (bn2): BatchNorm2d(256, eps=1e-05, momentum=0.1, affine=True, track_running_stats=True)\n",
      "    )\n",
      "  )\n",
      "  (layer4): Sequential(\n",
      "    (0): BasicBlock(\n",
      "      (conv1): Conv2d(256, 512, kernel_size=(3, 3), stride=(2, 2), padding=(1, 1), bias=False)\n",
      "      (bn1): BatchNorm2d(512, eps=1e-05, momentum=0.1, affine=True, track_running_stats=True)\n",
      "      (relu): ReLU(inplace=True)\n",
      "      (conv2): Conv2d(512, 512, kernel_size=(3, 3), stride=(1, 1), padding=(1, 1), bias=False)\n",
      "      (bn2): BatchNorm2d(512, eps=1e-05, momentum=0.1, affine=True, track_running_stats=True)\n",
      "      (downsample): Sequential(\n",
      "        (0): Conv2d(256, 512, kernel_size=(1, 1), stride=(2, 2), bias=False)\n",
      "        (1): BatchNorm2d(512, eps=1e-05, momentum=0.1, affine=True, track_running_stats=True)\n",
      "      )\n",
      "    )\n",
      "    (1): BasicBlock(\n",
      "      (conv1): Conv2d(512, 512, kernel_size=(3, 3), stride=(1, 1), padding=(1, 1), bias=False)\n",
      "      (bn1): BatchNorm2d(512, eps=1e-05, momentum=0.1, affine=True, track_running_stats=True)\n",
      "      (relu): ReLU(inplace=True)\n",
      "      (conv2): Conv2d(512, 512, kernel_size=(3, 3), stride=(1, 1), padding=(1, 1), bias=False)\n",
      "      (bn2): BatchNorm2d(512, eps=1e-05, momentum=0.1, affine=True, track_running_stats=True)\n",
      "    )\n",
      "  )\n",
      "  (avgpool): AdaptiveAvgPool2d(output_size=(1, 1))\n",
      "  (fc): Linear(in_features=512, out_features=1000, bias=True)\n",
      ")\n"
     ]
    },
    {
     "name": "stderr",
     "output_type": "stream",
     "text": [
      "/Users/qianraquel/opt/anaconda3/envs/gurobi_env/lib/python3.8/site-packages/torchvision/models/_utils.py:208: UserWarning: The parameter 'pretrained' is deprecated since 0.13 and will be removed in 0.15, please use 'weights' instead.\n",
      "  warnings.warn(\n",
      "/Users/qianraquel/opt/anaconda3/envs/gurobi_env/lib/python3.8/site-packages/torchvision/models/_utils.py:223: UserWarning: Arguments other than a weight enum or `None` for 'weights' are deprecated since 0.13 and will be removed in 0.15. The current behavior is equivalent to passing `weights=None`.\n",
      "  warnings.warn(msg)\n"
     ]
    }
   ],
   "source": [
    "from torchvision.models import resnet18\n",
    "nnet = resnet18(pretrained=False)\n",
    "print(nnet)"
   ]
  },
  {
   "cell_type": "code",
   "execution_count": 15,
   "metadata": {
    "ExecuteTime": {
     "end_time": "2023-05-17T02:54:16.580543Z",
     "start_time": "2023-05-17T02:54:16.577024Z"
    },
    "id": "xxqKyDy2lZ_n"
   },
   "outputs": [],
   "source": [
    "# build new ResNet18 with Max Pooling\n",
    "class partialResNet(nn.Module):\n",
    "    \n",
    "    def __init__(self, k):\n",
    "        super(partialResNet, self).__init__()\n",
    "        # init resnet 18\n",
    "        resnet = resnet18(pretrained=False)\n",
    "        # first five layers of ResNet18\n",
    "        self.conv1 = resnet.conv1\n",
    "        self.bn = resnet.bn1\n",
    "        self.relu = resnet.relu\n",
    "        self.maxpool1 = resnet.maxpool\n",
    "        self.block = resnet.layer1\n",
    "        # conv to 1 channel\n",
    "        self.conv2  = nn.Conv2d(64, 1, kernel_size=(1, 1), stride=(1, 1), padding=(1, 1), bias=False)\n",
    "        # max pooling\n",
    "        self.maxpool2 = nn.AdaptiveMaxPool2d((k,k))\n",
    "        \n",
    "    def forward(self, x):\n",
    "        h = self.conv1(x)\n",
    "        h = self.bn(h)\n",
    "        h = self.relu(h)\n",
    "        h = self.maxpool1(h)\n",
    "        h = self.block(h)\n",
    "        h = self.conv2(h)\n",
    "        out = self.maxpool2(h)\n",
    "        # reshape for optmodel\n",
    "        out = torch.squeeze(out, 1)\n",
    "        out = out.reshape(out.shape[0], -1)\n",
    "        return out"
   ]
  },
  {
   "cell_type": "code",
   "execution_count": 16,
   "metadata": {
    "ExecuteTime": {
     "end_time": "2023-05-17T02:55:05.039356Z",
     "start_time": "2023-05-17T02:54:21.613886Z"
    },
    "collapsed": true
   },
   "outputs": [
    {
     "name": "stderr",
     "output_type": "stream",
     "text": [
      "[W NNPACK.cpp:51] Could not initialize NNPACK! Reason: Unsupported hardware.\n"
     ]
    },
    {
     "name": "stdout",
     "output_type": "stream",
     "text": [
      "Batch 0 Output range:  -1.0223027  to  2.13387\n",
      "Batch 1 Output range:  -1.3781141  to  2.2071643\n",
      "Batch 2 Output range:  -1.0362805  to  2.3401423\n",
      "Batch 3 Output range:  -1.0897328  to  2.0841982\n",
      "Batch 4 Output range:  -1.540965  to  1.9128793\n",
      "Batch 5 Output range:  -1.2985353  to  2.1267004\n",
      "Batch 6 Output range:  -1.2817655  to  1.9235705\n",
      "Batch 7 Output range:  -1.1004095  to  2.0882916\n",
      "Batch 8 Output range:  -1.0135428  to  2.1823812\n",
      "Batch 9 Output range:  -1.2262682  to  2.036108\n",
      "Batch 10 Output range:  -1.0711814  to  2.173751\n",
      "Batch 11 Output range:  -1.1165206  to  2.052712\n",
      "Batch 12 Output range:  -1.4997988  to  2.515087\n",
      "Batch 13 Output range:  -1.2895727  to  2.2381988\n",
      "Batch 14 Output range:  -1.2359344  to  2.124395\n",
      "Batch 15 Output range:  -1.0091822  to  2.096461\n",
      "Batch 16 Output range:  -1.2082789  to  2.0395212\n",
      "Batch 17 Output range:  -1.2267989  to  2.1577764\n",
      "Batch 18 Output range:  -1.283542  to  2.374349\n",
      "Batch 19 Output range:  -1.1679904  to  2.3268995\n",
      "Batch 20 Output range:  -1.0996537  to  2.0415232\n",
      "Batch 21 Output range:  -1.2265552  to  2.7662597\n",
      "Batch 22 Output range:  -1.2807757  to  2.1097353\n",
      "Batch 23 Output range:  -1.2839272  to  2.03964\n",
      "Batch 24 Output range:  -1.2204247  to  2.056637\n",
      "Batch 25 Output range:  -1.2866551  to  2.268212\n",
      "Batch 26 Output range:  -1.1388121  to  2.4078476\n",
      "Batch 27 Output range:  -1.1173264  to  2.279282\n",
      "Batch 28 Output range:  -1.4137008  to  2.2652526\n",
      "Batch 29 Output range:  -1.1236968  to  2.3061998\n",
      "Batch 30 Output range:  -1.2208182  to  2.0112407\n",
      "Batch 31 Output range:  -1.3112441  to  1.975703\n",
      "Batch 32 Output range:  -1.3747026  to  1.8814658\n",
      "Batch 33 Output range:  -1.2281537  to  1.9413453\n",
      "Batch 34 Output range:  -1.2380184  to  2.1379445\n",
      "Batch 35 Output range:  -1.1798607  to  2.336715\n",
      "Batch 36 Output range:  -1.0449817  to  2.1609037\n",
      "Batch 37 Output range:  -1.1929629  to  1.8683317\n",
      "Batch 38 Output range:  -1.3558565  to  1.8088994\n",
      "Batch 39 Output range:  -1.1919416  to  2.0729952\n",
      "Batch 40 Output range:  -1.2755  to  2.17024\n",
      "Batch 41 Output range:  -1.062215  to  2.059009\n",
      "Batch 42 Output range:  -1.2839204  to  1.8956683\n",
      "Batch 43 Output range:  -1.241029  to  2.2266607\n",
      "Batch 44 Output range:  -1.166286  to  2.11341\n",
      "Batch 45 Output range:  -1.1814108  to  1.8907341\n",
      "Batch 46 Output range:  -1.3312182  to  1.9390175\n",
      "Batch 47 Output range:  -1.0919874  to  2.5006716\n",
      "Batch 48 Output range:  -1.4008613  to  1.8363535\n",
      "Batch 49 Output range:  -1.240328  to  2.0504203\n",
      "Batch 50 Output range:  -1.1897602  to  1.9702022\n",
      "Batch 51 Output range:  -1.2158922  to  2.214804\n",
      "Batch 52 Output range:  -1.3253766  to  1.8895875\n",
      "Batch 53 Output range:  -1.1740329  to  1.8197749\n",
      "Batch 54 Output range:  -1.2836553  to  2.263086\n",
      "Batch 55 Output range:  -1.024749  to  1.9595032\n",
      "Batch 56 Output range:  -1.3054606  to  1.9909538\n",
      "Batch 57 Output range:  -1.2264035  to  2.1254466\n",
      "Batch 58 Output range:  -1.4775091  to  2.0227907\n",
      "Batch 59 Output range:  -1.3878611  to  2.373364\n",
      "Batch 60 Output range:  -1.2737772  to  1.9358453\n",
      "Batch 61 Output range:  -1.1542555  to  2.3683982\n",
      "Batch 62 Output range:  -1.2398808  to  2.1258976\n",
      "Batch 63 Output range:  -1.1101123  to  2.1836956\n",
      "Batch 64 Output range:  -1.30216  to  2.0155387\n",
      "Batch 65 Output range:  -1.4799393  to  1.9616305\n",
      "Batch 66 Output range:  -1.6562024  to  2.2750137\n",
      "Batch 67 Output range:  -1.1696936  to  2.2385375\n",
      "Batch 68 Output range:  -1.0373336  to  1.9154749\n",
      "Batch 69 Output range:  -1.1685107  to  1.9408733\n",
      "Batch 70 Output range:  -1.2935816  to  2.3180392\n",
      "Batch 71 Output range:  -1.3211514  to  1.9841688\n",
      "Batch 72 Output range:  -1.1359842  to  2.0561967\n",
      "Batch 73 Output range:  -1.1496611  to  1.7595342\n",
      "Batch 74 Output range:  -1.1960355  to  2.201882\n",
      "Batch 75 Output range:  -1.302339  to  1.966865\n",
      "Batch 76 Output range:  -1.1315614  to  2.0995388\n",
      "Batch 77 Output range:  -1.1477882  to  2.1121066\n",
      "Batch 78 Output range:  -1.123813  to  1.8294564\n",
      "Batch 79 Output range:  -1.1283106  to  2.0815594\n",
      "Batch 80 Output range:  -1.1838294  to  2.0182946\n",
      "Batch 81 Output range:  -1.1665858  to  2.5217566\n",
      "Batch 82 Output range:  -1.2743535  to  1.9656326\n",
      "Batch 83 Output range:  -1.082351  to  2.1626244\n",
      "Batch 84 Output range:  -1.190109  to  2.0786297\n",
      "Batch 85 Output range:  -1.0388589  to  2.307727\n",
      "Batch 86 Output range:  -1.1375928  to  2.038935\n",
      "Batch 87 Output range:  -1.2468696  to  2.4535968\n",
      "Batch 88 Output range:  -1.4879513  to  2.5842583\n",
      "Batch 89 Output range:  -1.2841448  to  1.850884\n",
      "Batch 90 Output range:  -1.0275477  to  2.0339463\n",
      "Batch 91 Output range:  -1.1633979  to  2.0688555\n",
      "Batch 92 Output range:  -1.2409729  to  2.2402275\n",
      "Batch 93 Output range:  -1.1965021  to  2.0717766\n",
      "Batch 94 Output range:  -1.1628803  to  1.7431713\n",
      "Batch 95 Output range:  -1.1640741  to  2.2903075\n",
      "Batch 96 Output range:  -1.056691  to  2.1625502\n",
      "Batch 97 Output range:  -1.0892313  to  2.2621148\n",
      "Batch 98 Output range:  -1.2686671  to  2.1672208\n",
      "Batch 99 Output range:  -1.2453268  to  2.000734\n",
      "Batch 100 Output range:  -1.3291082  to  1.9837682\n",
      "Batch 101 Output range:  -1.3161255  to  1.932704\n",
      "Batch 102 Output range:  -1.1638447  to  2.1299214\n",
      "Batch 103 Output range:  -1.0546145  to  2.318923\n",
      "Batch 104 Output range:  -1.1398271  to  2.1651633\n",
      "Batch 105 Output range:  -1.1761099  to  1.812961\n",
      "Batch 106 Output range:  -1.1303191  to  2.023716\n",
      "Batch 107 Output range:  -1.1429336  to  2.181427\n",
      "Batch 108 Output range:  -1.4439127  to  2.1286848\n",
      "Batch 109 Output range:  -1.0630057  to  1.9260722\n",
      "Batch 110 Output range:  -1.2055911  to  2.2192984\n",
      "Batch 111 Output range:  -1.0778427  to  1.9829078\n",
      "Batch 112 Output range:  -1.0871092  to  1.896222\n",
      "Batch 113 Output range:  -1.1610732  to  2.1670036\n",
      "Batch 114 Output range:  -1.3246588  to  2.0590615\n",
      "Batch 115 Output range:  -1.196446  to  1.9989803\n",
      "Batch 116 Output range:  -1.2678566  to  2.3159728\n",
      "Batch 117 Output range:  -1.0957648  to  2.1878626\n",
      "Batch 118 Output range:  -1.1378499  to  2.0401206\n",
      "Batch 119 Output range:  -1.1895262  to  2.0177827\n",
      "Batch 120 Output range:  -1.1960853  to  1.7644861\n",
      "Batch 121 Output range:  -1.2900307  to  2.2421587\n",
      "Batch 122 Output range:  -1.1397381  to  2.2620313\n",
      "Batch 123 Output range:  -0.9907362  to  2.1550665\n",
      "Batch 124 Output range:  -1.2916926  to  2.3229191\n",
      "Batch 125 Output range:  -1.1281455  to  2.2967377\n",
      "Batch 126 Output range:  -1.1025857  to  2.0440018\n",
      "Batch 127 Output range:  -1.4958762  to  2.574264\n",
      "Batch 128 Output range:  -1.2172414  to  2.244007\n",
      "Batch 129 Output range:  -1.2823373  to  2.1814725\n",
      "Batch 130 Output range:  -1.0242838  to  2.2254777\n",
      "Batch 131 Output range:  -1.118731  to  2.1905591\n",
      "Batch 132 Output range:  -1.0994716  to  2.1818066\n",
      "Batch 133 Output range:  -1.0680608  to  2.1543844\n",
      "Batch 134 Output range:  -1.4148943  to  1.9704814\n",
      "Batch 135 Output range:  -1.1272968  to  2.2264206\n",
      "Batch 136 Output range:  -1.1390643  to  2.1453314\n",
      "Batch 137 Output range:  -1.2804097  to  2.0285368\n",
      "Batch 138 Output range:  -1.224055  to  2.442305\n",
      "Batch 139 Output range:  -1.2678752  to  2.0958903\n"
     ]
    },
    {
     "ename": "KeyboardInterrupt",
     "evalue": "",
     "output_type": "error",
     "traceback": [
      "\u001b[0;31m---------------------------------------------------------------------------\u001b[0m",
      "\u001b[0;31mKeyboardInterrupt\u001b[0m                         Traceback (most recent call last)",
      "Input \u001b[0;32mIn [16]\u001b[0m, in \u001b[0;36m<cell line: 6>\u001b[0;34m()\u001b[0m\n\u001b[1;32m      7\u001b[0m input_data, _, _, _ \u001b[38;5;241m=\u001b[39m data\n\u001b[1;32m      9\u001b[0m \u001b[38;5;66;03m# Use the model to get the output\u001b[39;00m\n\u001b[0;32m---> 10\u001b[0m output \u001b[38;5;241m=\u001b[39m \u001b[43mmodel\u001b[49m\u001b[43m(\u001b[49m\u001b[43minput_data\u001b[49m\u001b[43m)\u001b[49m\n\u001b[1;32m     12\u001b[0m \u001b[38;5;66;03m# Convert the output data to numpy arrays\u001b[39;00m\n\u001b[1;32m     13\u001b[0m output_data \u001b[38;5;241m=\u001b[39m output\u001b[38;5;241m.\u001b[39mdata\u001b[38;5;241m.\u001b[39mcpu()\u001b[38;5;241m.\u001b[39mnumpy()\n",
      "File \u001b[0;32m~/opt/anaconda3/envs/gurobi_env/lib/python3.8/site-packages/torch/nn/modules/module.py:1130\u001b[0m, in \u001b[0;36mModule._call_impl\u001b[0;34m(self, *input, **kwargs)\u001b[0m\n\u001b[1;32m   1126\u001b[0m \u001b[38;5;66;03m# If we don't have any hooks, we want to skip the rest of the logic in\u001b[39;00m\n\u001b[1;32m   1127\u001b[0m \u001b[38;5;66;03m# this function, and just call forward.\u001b[39;00m\n\u001b[1;32m   1128\u001b[0m \u001b[38;5;28;01mif\u001b[39;00m \u001b[38;5;129;01mnot\u001b[39;00m (\u001b[38;5;28mself\u001b[39m\u001b[38;5;241m.\u001b[39m_backward_hooks \u001b[38;5;129;01mor\u001b[39;00m \u001b[38;5;28mself\u001b[39m\u001b[38;5;241m.\u001b[39m_forward_hooks \u001b[38;5;129;01mor\u001b[39;00m \u001b[38;5;28mself\u001b[39m\u001b[38;5;241m.\u001b[39m_forward_pre_hooks \u001b[38;5;129;01mor\u001b[39;00m _global_backward_hooks\n\u001b[1;32m   1129\u001b[0m         \u001b[38;5;129;01mor\u001b[39;00m _global_forward_hooks \u001b[38;5;129;01mor\u001b[39;00m _global_forward_pre_hooks):\n\u001b[0;32m-> 1130\u001b[0m     \u001b[38;5;28;01mreturn\u001b[39;00m \u001b[43mforward_call\u001b[49m\u001b[43m(\u001b[49m\u001b[38;5;241;43m*\u001b[39;49m\u001b[38;5;28;43minput\u001b[39;49m\u001b[43m,\u001b[49m\u001b[43m \u001b[49m\u001b[38;5;241;43m*\u001b[39;49m\u001b[38;5;241;43m*\u001b[39;49m\u001b[43mkwargs\u001b[49m\u001b[43m)\u001b[49m\n\u001b[1;32m   1131\u001b[0m \u001b[38;5;66;03m# Do not call functions when jit is used\u001b[39;00m\n\u001b[1;32m   1132\u001b[0m full_backward_hooks, non_full_backward_hooks \u001b[38;5;241m=\u001b[39m [], []\n",
      "Input \u001b[0;32mIn [15]\u001b[0m, in \u001b[0;36mpartialResNet.forward\u001b[0;34m(self, x)\u001b[0m\n\u001b[1;32m     22\u001b[0m h \u001b[38;5;241m=\u001b[39m \u001b[38;5;28mself\u001b[39m\u001b[38;5;241m.\u001b[39mrelu(h)\n\u001b[1;32m     23\u001b[0m h \u001b[38;5;241m=\u001b[39m \u001b[38;5;28mself\u001b[39m\u001b[38;5;241m.\u001b[39mmaxpool1(h)\n\u001b[0;32m---> 24\u001b[0m h \u001b[38;5;241m=\u001b[39m \u001b[38;5;28;43mself\u001b[39;49m\u001b[38;5;241;43m.\u001b[39;49m\u001b[43mblock\u001b[49m\u001b[43m(\u001b[49m\u001b[43mh\u001b[49m\u001b[43m)\u001b[49m\n\u001b[1;32m     25\u001b[0m h \u001b[38;5;241m=\u001b[39m \u001b[38;5;28mself\u001b[39m\u001b[38;5;241m.\u001b[39mconv2(h)\n\u001b[1;32m     26\u001b[0m out \u001b[38;5;241m=\u001b[39m \u001b[38;5;28mself\u001b[39m\u001b[38;5;241m.\u001b[39mmaxpool2(h)\n",
      "File \u001b[0;32m~/opt/anaconda3/envs/gurobi_env/lib/python3.8/site-packages/torch/nn/modules/module.py:1130\u001b[0m, in \u001b[0;36mModule._call_impl\u001b[0;34m(self, *input, **kwargs)\u001b[0m\n\u001b[1;32m   1126\u001b[0m \u001b[38;5;66;03m# If we don't have any hooks, we want to skip the rest of the logic in\u001b[39;00m\n\u001b[1;32m   1127\u001b[0m \u001b[38;5;66;03m# this function, and just call forward.\u001b[39;00m\n\u001b[1;32m   1128\u001b[0m \u001b[38;5;28;01mif\u001b[39;00m \u001b[38;5;129;01mnot\u001b[39;00m (\u001b[38;5;28mself\u001b[39m\u001b[38;5;241m.\u001b[39m_backward_hooks \u001b[38;5;129;01mor\u001b[39;00m \u001b[38;5;28mself\u001b[39m\u001b[38;5;241m.\u001b[39m_forward_hooks \u001b[38;5;129;01mor\u001b[39;00m \u001b[38;5;28mself\u001b[39m\u001b[38;5;241m.\u001b[39m_forward_pre_hooks \u001b[38;5;129;01mor\u001b[39;00m _global_backward_hooks\n\u001b[1;32m   1129\u001b[0m         \u001b[38;5;129;01mor\u001b[39;00m _global_forward_hooks \u001b[38;5;129;01mor\u001b[39;00m _global_forward_pre_hooks):\n\u001b[0;32m-> 1130\u001b[0m     \u001b[38;5;28;01mreturn\u001b[39;00m \u001b[43mforward_call\u001b[49m\u001b[43m(\u001b[49m\u001b[38;5;241;43m*\u001b[39;49m\u001b[38;5;28;43minput\u001b[39;49m\u001b[43m,\u001b[49m\u001b[43m \u001b[49m\u001b[38;5;241;43m*\u001b[39;49m\u001b[38;5;241;43m*\u001b[39;49m\u001b[43mkwargs\u001b[49m\u001b[43m)\u001b[49m\n\u001b[1;32m   1131\u001b[0m \u001b[38;5;66;03m# Do not call functions when jit is used\u001b[39;00m\n\u001b[1;32m   1132\u001b[0m full_backward_hooks, non_full_backward_hooks \u001b[38;5;241m=\u001b[39m [], []\n",
      "File \u001b[0;32m~/opt/anaconda3/envs/gurobi_env/lib/python3.8/site-packages/torch/nn/modules/container.py:139\u001b[0m, in \u001b[0;36mSequential.forward\u001b[0;34m(self, input)\u001b[0m\n\u001b[1;32m    137\u001b[0m \u001b[38;5;28;01mdef\u001b[39;00m \u001b[38;5;21mforward\u001b[39m(\u001b[38;5;28mself\u001b[39m, \u001b[38;5;28minput\u001b[39m):\n\u001b[1;32m    138\u001b[0m     \u001b[38;5;28;01mfor\u001b[39;00m module \u001b[38;5;129;01min\u001b[39;00m \u001b[38;5;28mself\u001b[39m:\n\u001b[0;32m--> 139\u001b[0m         \u001b[38;5;28minput\u001b[39m \u001b[38;5;241m=\u001b[39m \u001b[43mmodule\u001b[49m\u001b[43m(\u001b[49m\u001b[38;5;28;43minput\u001b[39;49m\u001b[43m)\u001b[49m\n\u001b[1;32m    140\u001b[0m     \u001b[38;5;28;01mreturn\u001b[39;00m \u001b[38;5;28minput\u001b[39m\n",
      "File \u001b[0;32m~/opt/anaconda3/envs/gurobi_env/lib/python3.8/site-packages/torch/nn/modules/module.py:1130\u001b[0m, in \u001b[0;36mModule._call_impl\u001b[0;34m(self, *input, **kwargs)\u001b[0m\n\u001b[1;32m   1126\u001b[0m \u001b[38;5;66;03m# If we don't have any hooks, we want to skip the rest of the logic in\u001b[39;00m\n\u001b[1;32m   1127\u001b[0m \u001b[38;5;66;03m# this function, and just call forward.\u001b[39;00m\n\u001b[1;32m   1128\u001b[0m \u001b[38;5;28;01mif\u001b[39;00m \u001b[38;5;129;01mnot\u001b[39;00m (\u001b[38;5;28mself\u001b[39m\u001b[38;5;241m.\u001b[39m_backward_hooks \u001b[38;5;129;01mor\u001b[39;00m \u001b[38;5;28mself\u001b[39m\u001b[38;5;241m.\u001b[39m_forward_hooks \u001b[38;5;129;01mor\u001b[39;00m \u001b[38;5;28mself\u001b[39m\u001b[38;5;241m.\u001b[39m_forward_pre_hooks \u001b[38;5;129;01mor\u001b[39;00m _global_backward_hooks\n\u001b[1;32m   1129\u001b[0m         \u001b[38;5;129;01mor\u001b[39;00m _global_forward_hooks \u001b[38;5;129;01mor\u001b[39;00m _global_forward_pre_hooks):\n\u001b[0;32m-> 1130\u001b[0m     \u001b[38;5;28;01mreturn\u001b[39;00m \u001b[43mforward_call\u001b[49m\u001b[43m(\u001b[49m\u001b[38;5;241;43m*\u001b[39;49m\u001b[38;5;28;43minput\u001b[39;49m\u001b[43m,\u001b[49m\u001b[43m \u001b[49m\u001b[38;5;241;43m*\u001b[39;49m\u001b[38;5;241;43m*\u001b[39;49m\u001b[43mkwargs\u001b[49m\u001b[43m)\u001b[49m\n\u001b[1;32m   1131\u001b[0m \u001b[38;5;66;03m# Do not call functions when jit is used\u001b[39;00m\n\u001b[1;32m   1132\u001b[0m full_backward_hooks, non_full_backward_hooks \u001b[38;5;241m=\u001b[39m [], []\n",
      "File \u001b[0;32m~/opt/anaconda3/envs/gurobi_env/lib/python3.8/site-packages/torchvision/models/resnet.py:96\u001b[0m, in \u001b[0;36mBasicBlock.forward\u001b[0;34m(self, x)\u001b[0m\n\u001b[1;32m     93\u001b[0m out \u001b[38;5;241m=\u001b[39m \u001b[38;5;28mself\u001b[39m\u001b[38;5;241m.\u001b[39mbn1(out)\n\u001b[1;32m     94\u001b[0m out \u001b[38;5;241m=\u001b[39m \u001b[38;5;28mself\u001b[39m\u001b[38;5;241m.\u001b[39mrelu(out)\n\u001b[0;32m---> 96\u001b[0m out \u001b[38;5;241m=\u001b[39m \u001b[38;5;28;43mself\u001b[39;49m\u001b[38;5;241;43m.\u001b[39;49m\u001b[43mconv2\u001b[49m\u001b[43m(\u001b[49m\u001b[43mout\u001b[49m\u001b[43m)\u001b[49m\n\u001b[1;32m     97\u001b[0m out \u001b[38;5;241m=\u001b[39m \u001b[38;5;28mself\u001b[39m\u001b[38;5;241m.\u001b[39mbn2(out)\n\u001b[1;32m     99\u001b[0m \u001b[38;5;28;01mif\u001b[39;00m \u001b[38;5;28mself\u001b[39m\u001b[38;5;241m.\u001b[39mdownsample \u001b[38;5;129;01mis\u001b[39;00m \u001b[38;5;129;01mnot\u001b[39;00m \u001b[38;5;28;01mNone\u001b[39;00m:\n",
      "File \u001b[0;32m~/opt/anaconda3/envs/gurobi_env/lib/python3.8/site-packages/torch/nn/modules/module.py:1130\u001b[0m, in \u001b[0;36mModule._call_impl\u001b[0;34m(self, *input, **kwargs)\u001b[0m\n\u001b[1;32m   1126\u001b[0m \u001b[38;5;66;03m# If we don't have any hooks, we want to skip the rest of the logic in\u001b[39;00m\n\u001b[1;32m   1127\u001b[0m \u001b[38;5;66;03m# this function, and just call forward.\u001b[39;00m\n\u001b[1;32m   1128\u001b[0m \u001b[38;5;28;01mif\u001b[39;00m \u001b[38;5;129;01mnot\u001b[39;00m (\u001b[38;5;28mself\u001b[39m\u001b[38;5;241m.\u001b[39m_backward_hooks \u001b[38;5;129;01mor\u001b[39;00m \u001b[38;5;28mself\u001b[39m\u001b[38;5;241m.\u001b[39m_forward_hooks \u001b[38;5;129;01mor\u001b[39;00m \u001b[38;5;28mself\u001b[39m\u001b[38;5;241m.\u001b[39m_forward_pre_hooks \u001b[38;5;129;01mor\u001b[39;00m _global_backward_hooks\n\u001b[1;32m   1129\u001b[0m         \u001b[38;5;129;01mor\u001b[39;00m _global_forward_hooks \u001b[38;5;129;01mor\u001b[39;00m _global_forward_pre_hooks):\n\u001b[0;32m-> 1130\u001b[0m     \u001b[38;5;28;01mreturn\u001b[39;00m \u001b[43mforward_call\u001b[49m\u001b[43m(\u001b[49m\u001b[38;5;241;43m*\u001b[39;49m\u001b[38;5;28;43minput\u001b[39;49m\u001b[43m,\u001b[49m\u001b[43m \u001b[49m\u001b[38;5;241;43m*\u001b[39;49m\u001b[38;5;241;43m*\u001b[39;49m\u001b[43mkwargs\u001b[49m\u001b[43m)\u001b[49m\n\u001b[1;32m   1131\u001b[0m \u001b[38;5;66;03m# Do not call functions when jit is used\u001b[39;00m\n\u001b[1;32m   1132\u001b[0m full_backward_hooks, non_full_backward_hooks \u001b[38;5;241m=\u001b[39m [], []\n",
      "File \u001b[0;32m~/opt/anaconda3/envs/gurobi_env/lib/python3.8/site-packages/torch/nn/modules/conv.py:457\u001b[0m, in \u001b[0;36mConv2d.forward\u001b[0;34m(self, input)\u001b[0m\n\u001b[1;32m    456\u001b[0m \u001b[38;5;28;01mdef\u001b[39;00m \u001b[38;5;21mforward\u001b[39m(\u001b[38;5;28mself\u001b[39m, \u001b[38;5;28minput\u001b[39m: Tensor) \u001b[38;5;241m-\u001b[39m\u001b[38;5;241m>\u001b[39m Tensor:\n\u001b[0;32m--> 457\u001b[0m     \u001b[38;5;28;01mreturn\u001b[39;00m \u001b[38;5;28;43mself\u001b[39;49m\u001b[38;5;241;43m.\u001b[39;49m\u001b[43m_conv_forward\u001b[49m\u001b[43m(\u001b[49m\u001b[38;5;28;43minput\u001b[39;49m\u001b[43m,\u001b[49m\u001b[43m \u001b[49m\u001b[38;5;28;43mself\u001b[39;49m\u001b[38;5;241;43m.\u001b[39;49m\u001b[43mweight\u001b[49m\u001b[43m,\u001b[49m\u001b[43m \u001b[49m\u001b[38;5;28;43mself\u001b[39;49m\u001b[38;5;241;43m.\u001b[39;49m\u001b[43mbias\u001b[49m\u001b[43m)\u001b[49m\n",
      "File \u001b[0;32m~/opt/anaconda3/envs/gurobi_env/lib/python3.8/site-packages/torch/nn/modules/conv.py:453\u001b[0m, in \u001b[0;36mConv2d._conv_forward\u001b[0;34m(self, input, weight, bias)\u001b[0m\n\u001b[1;32m    449\u001b[0m \u001b[38;5;28;01mif\u001b[39;00m \u001b[38;5;28mself\u001b[39m\u001b[38;5;241m.\u001b[39mpadding_mode \u001b[38;5;241m!=\u001b[39m \u001b[38;5;124m'\u001b[39m\u001b[38;5;124mzeros\u001b[39m\u001b[38;5;124m'\u001b[39m:\n\u001b[1;32m    450\u001b[0m     \u001b[38;5;28;01mreturn\u001b[39;00m F\u001b[38;5;241m.\u001b[39mconv2d(F\u001b[38;5;241m.\u001b[39mpad(\u001b[38;5;28minput\u001b[39m, \u001b[38;5;28mself\u001b[39m\u001b[38;5;241m.\u001b[39m_reversed_padding_repeated_twice, mode\u001b[38;5;241m=\u001b[39m\u001b[38;5;28mself\u001b[39m\u001b[38;5;241m.\u001b[39mpadding_mode),\n\u001b[1;32m    451\u001b[0m                     weight, bias, \u001b[38;5;28mself\u001b[39m\u001b[38;5;241m.\u001b[39mstride,\n\u001b[1;32m    452\u001b[0m                     _pair(\u001b[38;5;241m0\u001b[39m), \u001b[38;5;28mself\u001b[39m\u001b[38;5;241m.\u001b[39mdilation, \u001b[38;5;28mself\u001b[39m\u001b[38;5;241m.\u001b[39mgroups)\n\u001b[0;32m--> 453\u001b[0m \u001b[38;5;28;01mreturn\u001b[39;00m \u001b[43mF\u001b[49m\u001b[38;5;241;43m.\u001b[39;49m\u001b[43mconv2d\u001b[49m\u001b[43m(\u001b[49m\u001b[38;5;28;43minput\u001b[39;49m\u001b[43m,\u001b[49m\u001b[43m \u001b[49m\u001b[43mweight\u001b[49m\u001b[43m,\u001b[49m\u001b[43m \u001b[49m\u001b[43mbias\u001b[49m\u001b[43m,\u001b[49m\u001b[43m \u001b[49m\u001b[38;5;28;43mself\u001b[39;49m\u001b[38;5;241;43m.\u001b[39;49m\u001b[43mstride\u001b[49m\u001b[43m,\u001b[49m\n\u001b[1;32m    454\u001b[0m \u001b[43m                \u001b[49m\u001b[38;5;28;43mself\u001b[39;49m\u001b[38;5;241;43m.\u001b[39;49m\u001b[43mpadding\u001b[49m\u001b[43m,\u001b[49m\u001b[43m \u001b[49m\u001b[38;5;28;43mself\u001b[39;49m\u001b[38;5;241;43m.\u001b[39;49m\u001b[43mdilation\u001b[49m\u001b[43m,\u001b[49m\u001b[43m \u001b[49m\u001b[38;5;28;43mself\u001b[39;49m\u001b[38;5;241;43m.\u001b[39;49m\u001b[43mgroups\u001b[49m\u001b[43m)\u001b[49m\n",
      "\u001b[0;31mKeyboardInterrupt\u001b[0m: "
     ]
    }
   ],
   "source": [
    "# Initialize the model\n",
    "k=12\n",
    "model = partialResNet(k)\n",
    "\n",
    "# Assume that you're using the training loader to get the data\n",
    "for i, data in enumerate(loader_train, 0):\n",
    "    input_data, _, _, _ = data\n",
    "    \n",
    "    # Use the model to get the output\n",
    "    output = model(input_data)\n",
    "\n",
    "    # Convert the output data to numpy arrays\n",
    "    output_data = output.data.cpu().numpy()\n",
    "\n",
    "    # Print the minimum and maximum of the output\n",
    "    print(\"Batch\", i, \"Output range: \", output_data.min(), \" to \", output_data.max())\n"
   ]
  },
  {
   "cell_type": "markdown",
   "metadata": {},
   "source": [
    "# 4 Optimization Model: Linear Programming"
   ]
  },
  {
   "cell_type": "code",
   "execution_count": 18,
   "metadata": {
    "ExecuteTime": {
     "end_time": "2023-04-24T08:47:46.666273Z",
     "start_time": "2023-04-24T08:47:46.605397Z"
    }
   },
   "outputs": [
    {
     "name": "stdout",
     "output_type": "stream",
     "text": [
      "Set parameter Username\n",
      "Academic license - for non-commercial use only - expires 2024-04-18\n"
     ]
    }
   ],
   "source": [
    "import gurobipy as gp\n",
    "GLOBAL_VAR = gp.Env()\n"
   ]
  },
  {
   "cell_type": "code",
   "execution_count": 19,
   "metadata": {
    "ExecuteTime": {
     "end_time": "2023-04-24T08:47:59.920138Z",
     "start_time": "2023-04-24T08:47:59.903507Z"
    },
    "id": "9PogOaVHldhj"
   },
   "outputs": [],
   "source": [
    "import gurobipy as gp\n",
    "from gurobipy import GRB\n",
    "\n",
    "from pyepo.model.grb.grbmodel import optGrbModel\n",
    "\n",
    "class shortestPathModel(optGrbModel):\n",
    "    \"\"\"\n",
    "    This class is optimization model for shortest path problem on 2D grid with 8 neighbors\n",
    "\n",
    "    Attributes:\n",
    "        _model (GurobiPy model): Gurobi model\n",
    "        grid (tuple of int): Size of grid network\n",
    "        nodes (list): list of vertex\n",
    "        edges (list): List of arcs\n",
    "        nodes_map (ndarray): 2D array for node index\n",
    "    \"\"\"\n",
    "\n",
    "    def __init__(self, grid):\n",
    "        \"\"\"\n",
    "        Args:\n",
    "            grid (tuple of int): size of grid network\n",
    "        \"\"\"\n",
    "        self.grid = grid\n",
    "        self.nodes, self.edges, self.nodes_map = self._getEdges()\n",
    "        super().__init__()\n",
    "\n",
    "    def _getEdges(self):\n",
    "        \"\"\"\n",
    "        A method to get list of edges for grid network\n",
    "\n",
    "        Returns:\n",
    "            list: arcs\n",
    "        \"\"\"\n",
    "        # init list\n",
    "        nodes, edges = [], []\n",
    "        # init map from coord to ind\n",
    "        nodes_map = {}\n",
    "        for i in range(self.grid[0]):\n",
    "            for j in range(self.grid[1]):\n",
    "                u = self._calNode(i, j)\n",
    "                nodes_map[u] = (i,j)\n",
    "                nodes.append(u)\n",
    "                # edge to 8 neighbors\n",
    "                # up\n",
    "                if i != 0:\n",
    "                    v = self._calNode(i-1, j)\n",
    "                    edges.append((u,v))\n",
    "                    # up-right\n",
    "                    if j != self.grid[1] - 1:\n",
    "                        v = self._calNode(i-1, j+1)\n",
    "                        edges.append((u,v))\n",
    "                # right\n",
    "                if j != self.grid[1] - 1:\n",
    "                    v = self._calNode(i, j+1)\n",
    "                    edges.append((u,v))\n",
    "                    # down-right\n",
    "                    if i != self.grid[0] - 1:\n",
    "                        v = self._calNode(i+1, j+1)\n",
    "                        edges.append((u,v))\n",
    "                # down\n",
    "                if i != self.grid[0] - 1:\n",
    "                    v = self._calNode(i+1, j)\n",
    "                    edges.append((u,v))\n",
    "                    # down-left\n",
    "                    if j != 0:\n",
    "                        v = self._calNode(i+1, j-1)\n",
    "                        edges.append((u,v))\n",
    "                # left\n",
    "                if j != 0:\n",
    "                    v = self._calNode(i, j-1)\n",
    "                    edges.append((u,v))\n",
    "                    # top-left\n",
    "                    if i != 0:\n",
    "                        v = self._calNode(i-1, j-1)\n",
    "                        edges.append((u,v))\n",
    "        return nodes, edges, nodes_map\n",
    "    \n",
    "    def _calNode(self, x, y):\n",
    "        \"\"\"\n",
    "        A method to calculate index of node\n",
    "        \"\"\"\n",
    "        v = x * self.grid[1] + y\n",
    "        return v\n",
    "\n",
    "    def _getModel(self):\n",
    "        \"\"\"\n",
    "        Returns:\n",
    "            tuple: optimization model and variables\n",
    "        \"\"\"\n",
    "        global GLOBAL_VAR\n",
    "        # ceate a model\n",
    "        m = gp.Model(\"shortest path\",GLOBAL_VAR)\n",
    "        # varibles\n",
    "        x = m.addVars(self.edges, ub=1, name=\"x\")\n",
    "        # sense\n",
    "        m.modelSense = GRB.MINIMIZE\n",
    "        # constraints\n",
    "        for i in range(self.grid[0]):\n",
    "            for j in range(self.grid[1]):\n",
    "                v = self._calNode(i, j)\n",
    "                expr = 0\n",
    "                for e in self.edges:\n",
    "                    # flow in\n",
    "                    if v == e[1]:\n",
    "                        expr += x[e]\n",
    "                    # flow out\n",
    "                    elif v == e[0]:\n",
    "                        expr -= x[e]\n",
    "                # source\n",
    "                if i == 0 and j == 0:\n",
    "                    m.addConstr(expr == -1)\n",
    "                # sink\n",
    "                elif i == self.grid[0] - 1 and j == self.grid[0] - 1:\n",
    "                    m.addConstr(expr == 1)\n",
    "                # transition\n",
    "                else:\n",
    "                    m.addConstr(expr == 0)\n",
    "        return m, x\n",
    "    \n",
    "    def setObj(self, c):\n",
    "        # vector to matrix\n",
    "        c = c.reshape(self.grid)\n",
    "        # sum up vector cost \n",
    "        obj = c[0,0] + gp.quicksum(c[self.nodes_map[j]] * self.x[i,j] for i, j in self.x)\n",
    "        self._model.setObjective(obj)\n",
    "        \n",
    "    def solve(self):\n",
    "        \"\"\"\n",
    "        Returns:\n",
    "            tuple: optimal solution (list) and objective value (float)\n",
    "        \"\"\"\n",
    "        # update gurobi model\n",
    "        self._model.update()\n",
    "        # solve\n",
    "        self._model.optimize()\n",
    "        \n",
    "        # kxk solution map\n",
    "        sol = np.zeros(self.grid)\n",
    "        for i, j in self.edges:\n",
    "            # active edge\n",
    "            if abs(1 - self.x[i,j].x) < 1e-3:\n",
    "                # node on active edge\n",
    "                sol[self.nodes_map[i]] = 1\n",
    "                sol[self.nodes_map[j]] = 1\n",
    "        # matrix to vector\n",
    "        sol = sol.reshape(-1)\n",
    "        return sol, self._model.objVal"
   ]
  },
  {
   "cell_type": "code",
   "execution_count": 22,
   "metadata": {
    "ExecuteTime": {
     "end_time": "2023-04-24T10:52:27.359498Z",
     "start_time": "2023-04-24T10:52:27.245734Z"
    },
    "id": "rEEdOKYDlf-m"
   },
   "outputs": [],
   "source": [
    "# init model\n",
    "grid = (k, k)\n",
    "optmodel = shortestPathModel(grid)"
   ]
  },
  {
   "cell_type": "code",
   "execution_count": 23,
   "metadata": {
    "ExecuteTime": {
     "end_time": "2023-04-24T10:52:27.558231Z",
     "start_time": "2023-04-24T10:52:27.362707Z"
    },
    "colab": {
     "base_uri": "https://localhost:8080/",
     "height": 284
    },
    "id": "yhsF-C-1lhkf",
    "outputId": "bf1bf5c7-11d1-44cc-cc5b-fedf27336a4f",
    "scrolled": true
   },
   "outputs": [
    {
     "name": "stdout",
     "output_type": "stream",
     "text": [
      "Obj: 26.998046875\n",
      "Path:\n"
     ]
    },
    {
     "data": {
      "image/png": "[encoded data removed]",
      "text/plain": [
       "<Figure size 432x288 with 1 Axes>"
      ]
     },
     "metadata": {
      "needs_background": "light"
     },
     "output_type": "display_data"
    }
   ],
   "source": [
    "# test\n",
    "optmodel.setObj(costs_train[0]) # assign cost\n",
    "sol, obj = optmodel.solve() # solve\n",
    "print(\"Obj: {}\".format(obj))\n",
    "print(\"Path:\")\n",
    "plt.axis(\"off\")\n",
    "plt.imshow(sol.reshape(k,k))\n",
    "plt.show()"
   ]
  },
  {
   "cell_type": "markdown",
   "metadata": {},
   "source": [
    "# 5 Useful Functions"
   ]
  },
  {
   "cell_type": "code",
   "execution_count": 24,
   "metadata": {
    "ExecuteTime": {
     "end_time": "2023-04-24T10:58:34.321746Z",
     "start_time": "2023-04-24T10:58:34.304749Z"
    },
    "colab": {
     "base_uri": "https://localhost:8080/",
     "height": 72
    },
    "id": "pS4zY8CsljiS",
    "outputId": "538a5cb3-afea-4a9b-92fc-93b566f8396c"
   },
   "outputs": [],
   "source": [
    "class earlyStopper:\n",
    "    \"\"\"\n",
    "    Early stopping for training\n",
    "    \"\"\"\n",
    "    def __init__(self, patience=3):\n",
    "        self.patience = patience\n",
    "        self.counter = 0\n",
    "        self.min_regret = np.inf\n",
    "\n",
    "    def stop(self, regret):\n",
    "        if regret + 1e-5 < self.min_regret:\n",
    "            self.min_regret = regret\n",
    "            self.counter = 0\n",
    "        else:\n",
    "            self.counter += 1\n",
    "            if self.counter >= self.patience:\n",
    "                return True\n",
    "        return False"
   ]
  },
  {
   "cell_type": "code",
   "execution_count": 25,
   "metadata": {
    "ExecuteTime": {
     "end_time": "2023-04-24T10:58:34.341363Z",
     "start_time": "2023-04-24T10:58:34.323785Z"
    },
    "id": "LKsNnVYUGBfD"
   },
   "outputs": [],
   "source": [
    "import numpy as np\n",
    "import torch\n",
    "class EarlyStopping:\n",
    "    \"\"\"Early stops the training if validation loss doesn't improve after a given patience.\"\"\"\n",
    "    def __init__(self, patience=7, verbose=False, delta=0.0, path='checkpoint.pth', trace_func=print):\n",
    "        \"\"\"\n",
    "        Args:\n",
    "            patience (int): How long to wait after last time validation loss improved.\n",
    "                            Default: 7\n",
    "            verbose (bool): If True, prints a message for each validation loss improvement. \n",
    "                            Default: False\n",
    "            delta (float): Minimum change in the monitored quantity to qualify as an improvement.\n",
    "                            Default: 0\n",
    "            path (str): Path for the checkpoint to be saved to.\n",
    "                            Default: 'checkpoint.pt'\n",
    "            trace_func (function): trace print function.\n",
    "                            Default: print            \n",
    "        \"\"\"\n",
    "        self.patience = patience\n",
    "        self.verbose = verbose\n",
    "        self.counter = 0\n",
    "        self.best_score = None\n",
    "        self.early_stop = False\n",
    "        self.val_loss_min = np.Inf\n",
    "        self.delta = delta\n",
    "        self.path = path\n",
    "        self.trace_func = trace_func\n",
    "    def __call__(self, val_loss, model):\n",
    "\n",
    "        score = val_loss\n",
    "\n",
    "        if self.best_score is None:\n",
    "            self.best_score = score\n",
    "            self.save_checkpoint(val_loss, model)\n",
    "        elif score > self.best_score + self.delta:#for regret, the smaller the better\n",
    "            self.counter += 1\n",
    "            self.trace_func(f'EarlyStopping counter: {self.counter} out of {self.patience}')\n",
    "            if self.counter >= self.patience:\n",
    "                self.early_stop = True\n",
    "        else:\n",
    "            self.best_score = score\n",
    "            self.save_checkpoint(val_loss, model)\n",
    "            self.counter = 0\n",
    "\n",
    "    def save_checkpoint(self, val_loss, model):\n",
    "        '''Saves model when validation loss decrease.'''\n",
    "        if self.verbose:\n",
    "            self.trace_func(f'Validation regret decreased ({self.val_loss_min:.6f} --> {val_loss:.6f}).  Saving model ...')\n",
    "        torch.save(model.state_dict(), self.path)\n",
    "        self.val_loss_min = val_loss"
   ]
  },
  {
   "cell_type": "code",
   "execution_count": 26,
   "metadata": {
    "ExecuteTime": {
     "end_time": "2023-04-24T10:58:34.357565Z",
     "start_time": "2023-04-24T10:58:34.344072Z"
    },
    "id": "xIGzbFPfllpa"
   },
   "outputs": [],
   "source": [
    "def evaluate(nnet, optmodel, dataloader):\n",
    "    # init data\n",
    "    data = {\"Regret\":[], \"Relative Regret\":[], \"Accuracy\":[], \"Optimal\":[]}\n",
    "    # eval\n",
    "    nnet.eval()\n",
    "    for x, c, w, z in tqdm(dataloader):\n",
    "        # cuda\n",
    "        if next(nnet.parameters()).is_cuda:\n",
    "            x, c, w, z = x.cuda(), c.cuda(), w.cuda(), z.cuda()\n",
    "        # predict\n",
    "        cp = nnet(x)\n",
    "        # to numpy\n",
    "        c = c.to(\"cpu\").detach().numpy()\n",
    "        w = w.to(\"cpu\").detach().numpy()\n",
    "        z = z.to(\"cpu\").detach().numpy()\n",
    "        cp = cp.to(\"cpu\").detach().numpy()\n",
    "        # solve\n",
    "        for i in range(cp.shape[0]):\n",
    "            # sol for pred cost\n",
    "            optmodel.setObj(cp[i])\n",
    "            wpi, _ = optmodel.solve()\n",
    "            # obj with true cost\n",
    "            zpi = np.dot(wpi, c[i])\n",
    "            # round\n",
    "            zpi = zpi.round(1)\n",
    "            zi = z[i,0].round(1)\n",
    "            # regret\n",
    "            regret = (zpi - zi).round(1)\n",
    "            data[\"Regret\"].append(regret)\n",
    "            data[\"Relative Regret\"].append(regret / zi)\n",
    "            # accuracy\n",
    "            data[\"Accuracy\"].append((abs(wpi - w[i]) < 0.5).mean())\n",
    "            # optimal\n",
    "            data[\"Optimal\"].append(abs(regret) < 1e-5)\n",
    "    # dataframe\n",
    "    df = pd.DataFrame.from_dict(data)\n",
    "    # print\n",
    "    time.sleep(1)\n",
    "    print(\"Avg Regret: {:.4f}\".format(df[\"Regret\"].mean()))\n",
    "    print(\"Avg Rel Regret: {:.2f}%\".format(df[\"Relative Regret\"].mean()*100))\n",
    "    print(\"Path Accuracy: {:.2f}%\".format(df[\"Accuracy\"].mean()*100))\n",
    "    print(\"Optimality Ratio: {:.2f}%\".format(df[\"Optimal\"].mean()*100))\n",
    "    return df"
   ]
  },
  {
   "cell_type": "code",
   "execution_count": 27,
   "metadata": {
    "ExecuteTime": {
     "end_time": "2023-04-24T11:02:38.784593Z",
     "start_time": "2023-04-24T11:02:38.767763Z"
    },
    "id": "wNyHUfTxlnau"
   },
   "outputs": [],
   "source": [
    "def plotLearningCurve(loss_log, regret_log):\n",
    "    # draw loss during training\n",
    "    plt.figure(figsize=(8, 4))\n",
    "    plt.plot(loss_log, color=\"c\")\n",
    "    plt.xticks(fontsize=10)\n",
    "    #yticks = [0.5,1,5]\n",
    "    plt.yticks(fontsize=10)\n",
    "    plt.xlim(-epoch/50, epochs+epoch/50)\n",
    "    plt.ylim(0, max(loss_log[:])*1.1)\n",
    "    #plt.ylim(0,5)\n",
    "    plt.xlabel(\"Epochs\", fontsize=12)\n",
    "    plt.ylabel(\"Loss\", fontsize=12)\n",
    "    plt.title(\"Learning Curve on Training Set\", fontsize=12)\n",
    "    plt.show()\n",
    "    # draw normalized regret on test\n",
    "    plt.figure(figsize=(8, 4))\n",
    "    plt.plot([i*log_step for i in range(len(regret_log))], regret_log, color=\"royalblue\")\n",
    "    plt.xticks(fontsize=10)\n",
    "    plt.yticks(fontsize=10)\n",
    "    plt.xlim(-epoch/50, epochs+epoch/50)\n",
    "    plt.ylim(0, max(regret_log[1:])*1.1)\n",
    "    plt.xlabel(\"Epochs\", fontsize=12)\n",
    "    plt.ylabel(\"Normalized Regret\", fontsize=12)\n",
    "    plt.title(\"Learning Curve on Validation Set\", fontsize=12)\n",
    "    plt.show()"
   ]
  },
  {
   "cell_type": "markdown",
   "metadata": {},
   "source": [
    "# 6 Training"
   ]
  },
  {
   "cell_type": "code",
   "execution_count": 28,
   "metadata": {
    "ExecuteTime": {
     "end_time": "2023-04-24T11:02:47.192234Z",
     "start_time": "2023-04-24T11:02:47.186813Z"
    },
    "id": "vAvaPyhElper"
   },
   "outputs": [],
   "source": [
    "# number of epochs\n",
    "epochs = 50\n",
    "# learning rate\n",
    "lr = 5e-4\n",
    "# log step\n",
    "log_step = 1"
   ]
  },
  {
   "cell_type": "code",
   "execution_count": 29,
   "metadata": {
    "ExecuteTime": {
     "end_time": "2023-04-24T11:02:47.548228Z",
     "start_time": "2023-04-24T11:02:47.195788Z"
    },
    "id": "RNVSr-8KlrTZ"
   },
   "outputs": [],
   "source": [
    "# init net\n",
    "nnet = partialResNet(k=12)#k is equal to map size\n",
    "# cuda\n",
    "if torch.cuda.is_available():\n",
    "    nnet = nnet.cuda()\n",
    "# set optimizer\n",
    "optimizer = torch.optim.Adam(nnet.parameters(), lr=lr)"
   ]
  },
  {
   "cell_type": "code",
   "execution_count": 30,
   "metadata": {
    "ExecuteTime": {
     "end_time": "2023-04-24T11:02:47.553607Z",
     "start_time": "2023-04-24T11:02:47.549643Z"
    },
    "id": "KBPFMc-klu0h"
   },
   "outputs": [],
   "source": [
    "# set loss\n",
    "mseloss = nn.MSELoss()"
   ]
  },
  {
   "cell_type": "code",
   "execution_count": 32,
   "metadata": {
    "ExecuteTime": {
     "end_time": "2023-04-24T11:43:13.612619Z",
     "start_time": "2023-04-24T11:35:50.669629Z"
    },
    "scrolled": true
   },
   "outputs": [
    {
     "name": "stderr",
     "output_type": "stream",
     "text": [
      "[W NNPACK.cpp:51] Could not initialize NNPACK! Reason: Unsupported hardware.\n",
      "Epoch:  0, Loss: 2.1622:   2%|▎               | 1/50 [03:12<2:37:07, 192.39s/it]"
     ]
    },
    {
     "name": "stdout",
     "output_type": "stream",
     "text": [
      "Validation regret decreased (inf --> 0.033201).  Saving model ...\n"
     ]
    },
    {
     "name": "stderr",
     "output_type": "stream",
     "text": [
      "Epoch:  1, Loss: 0.8138:   4%|▋               | 2/50 [06:35<2:38:45, 198.45s/it]"
     ]
    },
    {
     "name": "stdout",
     "output_type": "stream",
     "text": [
      "Validation regret decreased (0.033201 --> 0.022565).  Saving model ...\n"
     ]
    },
    {
     "name": "stderr",
     "output_type": "stream",
     "text": [
      "Epoch:  1, Loss: 0.8138:   4%|▋               | 2/50 [06:59<2:47:44, 209.69s/it]\n",
      "\n",
      "KeyboardInterrupt\n",
      "\n"
     ]
    }
   ],
   "source": [
    "# set stopper\n",
    "#stopper = earlyStopper(patience=7)\n",
    "early_stopping = EarlyStopping(patience=7, verbose=True,path='./model_weights/TS0424.pth')\n",
    "# train\n",
    "loss_log1, regret_log1 = [], [pyepo.metric.regret(nnet, optmodel, loader_val)]\n",
    "tbar = tqdm(range(epochs))\n",
    "for epoch in tbar:\n",
    "    nnet.train()\n",
    "    train_loss=0\n",
    "    batch_idx=0\n",
    "    for x, c, w, z in loader_train:\n",
    "        # cuda\n",
    "        if torch.cuda.is_available():\n",
    "            x, c, w, z = x.cuda(), c.cuda(), w.cuda(), z.cuda()\n",
    "        # forward pass\n",
    "        cp = nnet(x) # predicted cost\n",
    "        loss = mseloss(cp, c) # loss\n",
    "        # backward pass\n",
    "        optimizer.zero_grad()\n",
    "        loss.backward()\n",
    "        optimizer.step()\n",
    "        # log       \n",
    "        train_loss += loss.item()\n",
    "        batch_idx+=1\n",
    "    loss_log1.append(train_loss/batch_idx)\n",
    "    tbar.set_description(\"Epoch: {:2}, Loss: {:3.4f}\".format(epoch, train_loss/batch_idx))\n",
    "    # scheduled learning rate\n",
    "    if (epoch == int(epochs*0.6)) or (epoch == int(epochs*0.8)):\n",
    "        for g in optimizer.param_groups:\n",
    "            g['lr'] /= 10\n",
    "    if epoch % log_step == 0:\n",
    "        # log regret\n",
    "        regret = pyepo.metric.regret(nnet, optmodel, loader_val) # regret on val\n",
    "        regret_log1.append(regret)\n",
    "        # early stop\n",
    "        #regret = pyepo.metric.regret(nnet, optmodel, loader_val) # regret on val\n",
    "        early_stopping(regret,nnet)  \n",
    "        if early_stopping.early_stop:\n",
    "        #print(\"Early stopping\")\n",
    "          break\n",
    "        #if stopper.stop(regret):\n",
    "            #break"
   ]
  },
  {
   "cell_type": "code",
   "execution_count": 35,
   "metadata": {
    "ExecuteTime": {
     "end_time": "2023-04-24T12:45:10.414960Z",
     "start_time": "2023-04-24T12:42:29.655276Z"
    },
    "collapsed": true
   },
   "outputs": [
    {
     "name": "stderr",
     "output_type": "stream",
     "text": [
      "Epoch:  0, Loss: 0.5810:   0%|                           | 0/50 [01:58<?, ?it/s]"
     ]
    },
    {
     "name": "stdout",
     "output_type": "stream",
     "text": [
      "Validation regret decreased (inf --> 0.014400).  Saving model ...\n"
     ]
    },
    {
     "name": "stderr",
     "output_type": "stream",
     "text": [
      "\r",
      "Epoch:  0, Loss: 0.5810:   0%|                           | 0/50 [02:22<?, ?it/s]"
     ]
    },
    {
     "name": "stdout",
     "output_type": "stream",
     "text": [
      "x:  [[[[0.43529412 0.42745098 0.43529412 ... 0.32156864 0.22745098\n",
      "    0.18431373]\n",
      "   [0.44313726 0.43529412 0.44313726 ... 0.2901961  0.2627451\n",
      "    0.17254902]\n",
      "   [0.3137255  0.3764706  0.42352942 ... 0.30588236 0.27450982\n",
      "    0.22745098]\n",
      "   ...\n",
      "   [0.11372549 0.1254902  0.14901961 ... 0.16470589 0.16078432\n",
      "    0.16862746]\n",
      "   [0.1254902  0.11372549 0.1254902  ... 0.16470589 0.15294118\n",
      "    0.16470589]\n",
      "   [0.12941177 0.12941177 0.11372549 ... 0.15686275 0.16470589\n",
      "    0.16470589]]\n",
      "\n",
      "  [[0.24705882 0.25490198 0.25882354 ... 0.32156864 0.22745098\n",
      "    0.18431373]\n",
      "   [0.25490198 0.25490198 0.25882354 ... 0.2901961  0.2627451\n",
      "    0.17254902]\n",
      "   [0.30980393 0.27450982 0.25882354 ... 0.30588236 0.27450982\n",
      "    0.22745098]\n",
      "   ...\n",
      "   [0.29411766 0.3019608  0.30980393 ... 0.3254902  0.32941177\n",
      "    0.32941177]\n",
      "   [0.29803923 0.2784314  0.29803923 ... 0.32941177 0.31764707\n",
      "    0.33333334]\n",
      "   [0.29411766 0.29803923 0.28235295 ... 0.32156864 0.3372549\n",
      "    0.33333334]]\n",
      "\n",
      "  [[0.         0.00392157 0.00784314 ... 0.32156864 0.22745098\n",
      "    0.18431373]\n",
      "   [0.00392157 0.00392157 0.00784314 ... 0.2901961  0.2627451\n",
      "    0.17254902]\n",
      "   [0.03921569 0.01568628 0.00784314 ... 0.30588236 0.27450982\n",
      "    0.22745098]\n",
      "   ...\n",
      "   [0.03137255 0.03529412 0.03529412 ... 0.04313726 0.04313726\n",
      "    0.04705882]\n",
      "   [0.03137255 0.01960784 0.03137255 ... 0.04705882 0.03921569\n",
      "    0.04705882]\n",
      "   [0.02745098 0.03137255 0.02352941 ... 0.04313726 0.04705882\n",
      "    0.04705882]]]\n",
      "\n",
      "\n",
      " [[[0.41568628 0.43137255 0.43529412 ... 0.21960784 0.21568628\n",
      "    0.24313726]\n",
      "   [0.43137255 0.42745098 0.4392157  ... 0.15294118 0.2784314\n",
      "    0.25882354]\n",
      "   [0.43137255 0.44313726 0.44313726 ... 0.03529412 0.09803922\n",
      "    0.13333334]\n",
      "   ...\n",
      "   [0.15686275 0.15686275 0.15686275 ... 0.38039216 0.4\n",
      "    0.4       ]\n",
      "   [0.16862746 0.16470589 0.15686275 ... 0.34901962 0.3764706\n",
      "    0.40784314]\n",
      "   [0.15686275 0.16078432 0.16862746 ... 0.39607844 0.4117647\n",
      "    0.4392157 ]]\n",
      "\n",
      "  [[0.24705882 0.25490198 0.25882354 ... 0.17254902 0.22745098\n",
      "    0.23921569]\n",
      "   [0.25490198 0.25490198 0.25882354 ... 0.19215687 0.19215687\n",
      "    0.16470589]\n",
      "   [0.25490198 0.25882354 0.25882354 ... 0.16862746 0.21176471\n",
      "    0.17254902]\n",
      "   ...\n",
      "   [0.32941177 0.32156864 0.3254902  ... 0.29803923 0.27450982\n",
      "    0.2784314 ]\n",
      "   [0.3372549  0.3372549  0.3254902  ... 0.28235295 0.26666668\n",
      "    0.25490198]\n",
      "   [0.32941177 0.31764707 0.3372549  ... 0.27450982 0.2627451\n",
      "    0.2509804 ]]\n",
      "\n",
      "  [[0.         0.00392157 0.00784314 ... 0.01568628 0.00784314\n",
      "    0.03529412]\n",
      "   [0.00392157 0.00392157 0.00784314 ... 0.22745098 0.05490196\n",
      "    0.        ]\n",
      "   [0.00392157 0.00784314 0.00784314 ... 0.33333334 0.3372549\n",
      "    0.22352941]\n",
      "   ...\n",
      "   [0.04705882 0.03921569 0.04313726 ... 0.03137255 0.01960784\n",
      "    0.01960784]\n",
      "   [0.04705882 0.04705882 0.04313726 ... 0.02745098 0.01568628\n",
      "    0.01176471]\n",
      "   [0.04313726 0.03921569 0.05098039 ... 0.01960784 0.00784314\n",
      "    0.00392157]]]\n",
      "\n",
      "\n",
      " [[[0.3882353  0.39607844 0.4        ... 0.24313726 0.14901961\n",
      "    0.1254902 ]\n",
      "   [0.39215687 0.40392157 0.39215687 ... 0.25882354 0.18039216\n",
      "    0.04313726]\n",
      "   [0.39607844 0.38431373 0.38039216 ... 0.20784314 0.20392157\n",
      "    0.15294118]\n",
      "   ...\n",
      "   [0.12941177 0.14901961 0.14509805 ... 0.38039216 0.4\n",
      "    0.4       ]\n",
      "   [0.12941177 0.14901961 0.14509805 ... 0.34901962 0.3764706\n",
      "    0.40784314]\n",
      "   [0.14117648 0.14509805 0.15294118 ... 0.39607844 0.4117647\n",
      "    0.4392157 ]]\n",
      "\n",
      "  [[0.22745098 0.23529412 0.23529412 ... 0.24313726 0.14901961\n",
      "    0.1254902 ]\n",
      "   [0.23137255 0.23921569 0.23137255 ... 0.25882354 0.18039216\n",
      "    0.04313726]\n",
      "   [0.23529412 0.22352941 0.22352941 ... 0.20784314 0.20392157\n",
      "    0.15294118]\n",
      "   ...\n",
      "   [0.29803923 0.30588236 0.30980393 ... 0.29803923 0.27450982\n",
      "    0.2784314 ]\n",
      "   [0.3019608  0.3254902  0.3137255  ... 0.28235295 0.26666668\n",
      "    0.25490198]\n",
      "   [0.3137255  0.30588236 0.3254902  ... 0.27450982 0.2627451\n",
      "    0.2509804 ]]\n",
      "\n",
      "  [[0.         0.         0.         ... 0.24313726 0.14901961\n",
      "    0.1254902 ]\n",
      "   [0.         0.         0.         ... 0.25882354 0.18039216\n",
      "    0.04313726]\n",
      "   [0.         0.         0.         ... 0.20784314 0.20392157\n",
      "    0.15294118]\n",
      "   ...\n",
      "   [0.03137255 0.03137255 0.03529412 ... 0.03137255 0.01960784\n",
      "    0.01960784]\n",
      "   [0.03529412 0.04705882 0.03921569 ... 0.02745098 0.01568628\n",
      "    0.01176471]\n",
      "   [0.03921569 0.03137255 0.04705882 ... 0.01960784 0.00784314\n",
      "    0.00392157]]]\n",
      "\n",
      "\n",
      " ...\n",
      "\n",
      "\n",
      " [[[0.1254902  0.13333334 0.11764706 ... 0.44313726 0.45490196\n",
      "    0.43137255]\n",
      "   [0.11372549 0.10588235 0.11372549 ... 0.40784314 0.36862746\n",
      "    0.4117647 ]\n",
      "   [0.10196079 0.12941177 0.11372549 ... 0.4117647  0.38431373\n",
      "    0.43529412]\n",
      "   ...\n",
      "   [0.42352942 0.39215687 0.40784314 ... 0.11764706 0.14509805\n",
      "    0.3019608 ]\n",
      "   [0.40392157 0.41568628 0.43137255 ... 0.3137255  0.1764706\n",
      "    0.24313726]\n",
      "   [0.41960785 0.4117647  0.41568628 ... 0.36078432 0.2784314\n",
      "    0.1254902 ]]\n",
      "\n",
      "  [[0.29411766 0.29411766 0.2901961  ... 0.25882354 0.25882354\n",
      "    0.2509804 ]\n",
      "   [0.28627452 0.28235295 0.28235295 ... 0.27058825 0.2784314\n",
      "    0.27058825]\n",
      "   [0.28235295 0.3019608  0.2901961  ... 0.25490198 0.2627451\n",
      "    0.25882354]\n",
      "   ...\n",
      "   [0.24705882 0.23137255 0.23921569 ... 0.11764706 0.14509805\n",
      "    0.3019608 ]\n",
      "   [0.23921569 0.24705882 0.25490198 ... 0.3137255  0.1764706\n",
      "    0.24313726]\n",
      "   [0.24705882 0.23921569 0.24705882 ... 0.36078432 0.2784314\n",
      "    0.1254902 ]]\n",
      "\n",
      "  [[0.02745098 0.02745098 0.02352941 ... 0.00784314 0.00784314\n",
      "    0.00392157]\n",
      "   [0.02745098 0.02745098 0.02352941 ... 0.01568628 0.02352941\n",
      "    0.01568628]\n",
      "   [0.02352941 0.03137255 0.02745098 ... 0.00784314 0.01176471\n",
      "    0.00784314]\n",
      "   ...\n",
      "   [0.00392157 0.         0.00392157 ... 0.11764706 0.14509805\n",
      "    0.3019608 ]\n",
      "   [0.         0.         0.00784314 ... 0.3137255  0.1764706\n",
      "    0.24313726]\n",
      "   [0.00392157 0.00392157 0.00392157 ... 0.36078432 0.2784314\n",
      "    0.1254902 ]]]\n",
      "\n",
      "\n",
      " [[[0.15294118 0.31764707 0.3647059  ... 0.12941177 0.12941177\n",
      "    0.13725491]\n",
      "   [0.3764706  0.30588236 0.30588236 ... 0.13333334 0.11764706\n",
      "    0.10980392]\n",
      "   [0.5254902  0.47058824 0.2        ... 0.13333334 0.13333334\n",
      "    0.12156863]\n",
      "   ...\n",
      "   [0.39215687 0.4117647  0.4392157  ... 0.15686275 0.16078432\n",
      "    0.16470589]\n",
      "   [0.38039216 0.39607844 0.42745098 ... 0.15686275 0.15686275\n",
      "    0.15686275]\n",
      "   [0.39215687 0.38431373 0.42352942 ... 0.16470589 0.16078432\n",
      "    0.16078432]]\n",
      "\n",
      "  [[0.15294118 0.31764707 0.3647059  ... 0.29411766 0.29411766\n",
      "    0.30588236]\n",
      "   [0.3764706  0.30588236 0.30588236 ... 0.29803923 0.29803923\n",
      "    0.28627452]\n",
      "   [0.5254902  0.47058824 0.2        ... 0.29803923 0.29803923\n",
      "    0.29411766]\n",
      "   ...\n",
      "   [0.22745098 0.24313726 0.25882354 ... 0.3254902  0.33333334\n",
      "    0.32941177]\n",
      "   [0.21960784 0.23137255 0.2509804  ... 0.31764707 0.3254902\n",
      "    0.3254902 ]\n",
      "   [0.22745098 0.22352941 0.24705882 ... 0.3372549  0.32156864\n",
      "    0.32941177]]\n",
      "\n",
      "  [[0.15294118 0.31764707 0.3647059  ... 0.02745098 0.02745098\n",
      "    0.03137255]\n",
      "   [0.3764706  0.30588236 0.30588236 ... 0.02745098 0.03137255\n",
      "    0.02745098]\n",
      "   [0.5254902  0.47058824 0.2        ... 0.02745098 0.03137255\n",
      "    0.02745098]\n",
      "   ...\n",
      "   [0.         0.00392157 0.00392157 ... 0.04313726 0.04705882\n",
      "    0.04313726]\n",
      "   [0.         0.         0.00392157 ... 0.03921569 0.04313726\n",
      "    0.04313726]\n",
      "   [0.         0.         0.00392157 ... 0.04705882 0.04313726\n",
      "    0.04705882]]]\n",
      "\n",
      "\n",
      " [[[0.43137255 0.41568628 0.4392157  ... 0.41960785 0.32156864\n",
      "    0.3882353 ]\n",
      "   [0.45490196 0.3372549  0.20784314 ... 0.34509805 0.40784314\n",
      "    0.44313726]\n",
      "   [0.42352942 0.3254902  0.1764706  ... 0.3254902  0.41960785\n",
      "    0.40392157]\n",
      "   ...\n",
      "   [0.03529412 0.08627451 0.08235294 ... 0.0627451  0.01568628\n",
      "    0.02745098]\n",
      "   [0.03529412 0.00784314 0.04705882 ... 0.21568628 0.03921569\n",
      "    0.        ]\n",
      "   [0.         0.         0.01176471 ... 0.08627451 0.01568628\n",
      "    0.        ]]\n",
      "\n",
      "  [[0.2509804  0.25490198 0.2627451  ... 0.26666668 0.29411766\n",
      "    0.26666668]\n",
      "   [0.2627451  0.3019608  0.32941177 ... 0.28235295 0.24313726\n",
      "    0.2627451 ]\n",
      "   [0.24313726 0.26666668 0.34509805 ... 0.27450982 0.23137255\n",
      "    0.26666668]\n",
      "   ...\n",
      "   [0.3137255  0.3647059  0.35686275 ... 0.3372549  0.25882354\n",
      "    0.30980393]\n",
      "   [0.23137255 0.22352941 0.28627452 ... 0.45490196 0.2784314\n",
      "    0.18431373]\n",
      "   [0.23529412 0.20392157 0.24705882 ... 0.3529412  0.21960784\n",
      "    0.15294118]]\n",
      "\n",
      "  [[0.00392157 0.00392157 0.00784314 ... 0.01176471 0.03137255\n",
      "    0.01568628]\n",
      "   [0.00784314 0.03529412 0.04705882 ... 0.02352941 0.00392157\n",
      "    0.00784314]\n",
      "   [0.00392157 0.01960784 0.05882353 ... 0.03137255 0.00392157\n",
      "    0.01568628]\n",
      "   ...\n",
      "   [0.01568628 0.05098039 0.04313726 ... 0.03921569 0.01176471\n",
      "    0.01568628]\n",
      "   [0.00392157 0.         0.03529412 ... 0.11764706 0.02745098\n",
      "    0.        ]\n",
      "   [0.         0.         0.         ... 0.04705882 0.00392157\n",
      "    0.        ]]]]\n",
      "cp:  [[1.6557294  8.790498   8.790498   ... 0.8474572  0.8474572  0.6162318 ]\n",
      " [0.9319997  7.029551   7.632333   ... 1.0851954  1.0851954  1.0376563 ]\n",
      " [1.1798985  1.2220889  1.1090779  ... 8.567511   7.8989997  0.76988083]\n",
      " ...\n",
      " [0.8990166  0.8990166  0.82714516 ... 9.318992   8.961212   9.323637  ]\n",
      " [8.360828   8.460089   8.902854   ... 0.72648454 0.9618704  0.9618704 ]\n",
      " [0.86681855 0.86681855 0.613371   ... 3.5389767  5.4481773  5.360386  ]]\n"
     ]
    },
    {
     "name": "stderr",
     "output_type": "stream",
     "text": [
      "\n"
     ]
    },
    {
     "ename": "NameError",
     "evalue": "name 'wpi' is not defined",
     "output_type": "error",
     "traceback": [
      "\u001b[0;31m---------------------------------------------------------------------------\u001b[0m",
      "\u001b[0;31mNameError\u001b[0m                                 Traceback (most recent call last)",
      "Input \u001b[0;32mIn [35]\u001b[0m, in \u001b[0;36m<cell line: 8>\u001b[0;34m()\u001b[0m\n\u001b[1;32m     54\u001b[0m \u001b[38;5;28mprint\u001b[39m(\u001b[38;5;124m\"\u001b[39m\u001b[38;5;124mx: \u001b[39m\u001b[38;5;124m\"\u001b[39m, x_val\u001b[38;5;241m.\u001b[39mcpu()\u001b[38;5;241m.\u001b[39mnumpy())\n\u001b[1;32m     55\u001b[0m \u001b[38;5;28mprint\u001b[39m(\u001b[38;5;124m\"\u001b[39m\u001b[38;5;124mcp: \u001b[39m\u001b[38;5;124m\"\u001b[39m, cp_val\u001b[38;5;241m.\u001b[39mcpu()\u001b[38;5;241m.\u001b[39mnumpy())\n\u001b[0;32m---> 56\u001b[0m \u001b[38;5;28mprint\u001b[39m(\u001b[38;5;124m\"\u001b[39m\u001b[38;5;124mwpi: \u001b[39m\u001b[38;5;124m\"\u001b[39m, \u001b[43mwpi\u001b[49m)\n\u001b[1;32m     57\u001b[0m \u001b[38;5;28mprint\u001b[39m(\u001b[38;5;124m\"\u001b[39m\u001b[38;5;124mzpi: \u001b[39m\u001b[38;5;124m\"\u001b[39m, zpi)\n\u001b[1;32m     58\u001b[0m \u001b[38;5;28mprint\u001b[39m(\u001b[38;5;124m\"\u001b[39m\u001b[38;5;124mzi: \u001b[39m\u001b[38;5;124m\"\u001b[39m, zi)\n",
      "\u001b[0;31mNameError\u001b[0m: name 'wpi' is not defined"
     ]
    }
   ],
   "source": [
    "from tqdm import tqdm\n",
    "\n",
    "# set stopper\n",
    "early_stopping = EarlyStopping(patience=7, verbose=True, path='./model_weights/TS0424.pth')\n",
    "# train\n",
    "loss_log1, regret_log1 = [], [pyepo.metric.regret(nnet, optmodel, loader_val)]\n",
    "tbar = tqdm(range(epochs))\n",
    "for epoch in tbar:\n",
    "    nnet.train()\n",
    "    train_loss = 0\n",
    "    batch_idx = 0\n",
    "    for x, c, w, z in loader_train:\n",
    "        # cuda\n",
    "        if torch.cuda.is_available():\n",
    "            x, c, w, z = x.cuda(), c.cuda(), w.cuda(), z.cuda()\n",
    "        # forward pass\n",
    "        cp = nnet(x)  # predicted cost\n",
    "        loss = mseloss(cp, c)  # loss\n",
    "        # backward pass\n",
    "        optimizer.zero_grad()\n",
    "        loss.backward()\n",
    "        optimizer.step()\n",
    "        # log\n",
    "        train_loss += loss.item()\n",
    "        batch_idx += 1\n",
    "    loss_log1.append(train_loss / batch_idx)\n",
    "    tbar.set_description(\"Epoch: {:2}, Loss: {:3.4f}\".format(epoch, train_loss / batch_idx))\n",
    "    \n",
    "    # scheduled learning rate\n",
    "    if (epoch == int(epochs * 0.6)) or (epoch == int(epochs * 0.8)):\n",
    "        for g in optimizer.param_groups:\n",
    "            g['lr'] /= 10\n",
    "    \n",
    "    if epoch % log_step == 0:\n",
    "        # log regret\n",
    "        regret = pyepo.metric.regret(nnet, optmodel, loader_val)  # regret on val\n",
    "        regret_log1.append(regret)\n",
    "        # early stop\n",
    "        early_stopping(regret, nnet)\n",
    "        if early_stopping.early_stop:\n",
    "            break\n",
    "    \n",
    "    # After each epoch, check x, cp, wpi, zpi, zi, etc.\n",
    "    with torch.no_grad():\n",
    "        # Here, loader_val is used as an example. You can replace it with the dataloader you want to use.\n",
    "        for x_val, c_val, w_val, z_val in loader_val:\n",
    "            x_val = x_val.cuda() if torch.cuda.is_available() else x_val\n",
    "            cp_val = nnet(x_val)\n",
    "            \n",
    "            # Calculate wpi, zpi, zi, etc.\n",
    "            # ... Your code for calculating wpi, zpi, and zi ...\n",
    "            \n",
    "            # Print the results\n",
    "            print(\"x: \", x_val.cpu().numpy())\n",
    "            print(\"cp: \", cp_val.cpu().numpy())\n",
    "            print(\"wpi: \", wpi)\n",
    "            print(\"zpi: \", zpi)\n",
    "            print(\"zi: \", zi)\n",
    "            \n",
    "            # Assuming you want to check only one sample, use break to exit the loop\n",
    "            break\n"
   ]
  },
  {
   "cell_type": "code",
   "execution_count": 53,
   "metadata": {
    "ExecuteTime": {
     "end_time": "2023-04-20T12:27:32.345476Z",
     "start_time": "2023-04-20T12:27:31.984641Z"
    },
    "collapsed": true
   },
   "outputs": [
    {
     "data": {
      "image/png": "[encoded data removed]",
      "text/plain": [
       "<Figure size 576x288 with 1 Axes>"
      ]
     },
     "metadata": {
      "needs_background": "light"
     },
     "output_type": "display_data"
    },
    {
     "data": {
      "image/png": "[encoded data removed]",
      "text/plain": [
       "<Figure size 576x288 with 1 Axes>"
      ]
     },
     "metadata": {
      "needs_background": "light"
     },
     "output_type": "display_data"
    },
    {
     "ename": "FileNotFoundError",
     "evalue": "[Errno 2] No such file or directory: '/content/drive/MyDrive/PSPO/12/TS_loss_log1.csv'",
     "output_type": "error",
     "traceback": [
      "\u001b[0;31m---------------------------------------------------------------------------\u001b[0m",
      "\u001b[0;31mFileNotFoundError\u001b[0m                         Traceback (most recent call last)",
      "Input \u001b[0;32mIn [53]\u001b[0m, in \u001b[0;36m<cell line: 3>\u001b[0;34m()\u001b[0m\n\u001b[1;32m      1\u001b[0m \u001b[38;5;66;03m# plot    \u001b[39;00m\n\u001b[1;32m      2\u001b[0m plotLearningCurve(loss_log1, regret_log1)\n\u001b[0;32m----> 3\u001b[0m \u001b[43mnp\u001b[49m\u001b[38;5;241;43m.\u001b[39;49m\u001b[43msavetxt\u001b[49m\u001b[43m(\u001b[49m\u001b[38;5;124;43m\"\u001b[39;49m\u001b[38;5;124;43m/content/drive/MyDrive/PSPO/12/TS_loss_log1.csv\u001b[39;49m\u001b[38;5;124;43m\"\u001b[39;49m\u001b[43m,\u001b[49m\u001b[43m \u001b[49m\u001b[43mnp\u001b[49m\u001b[38;5;241;43m.\u001b[39;49m\u001b[43marray\u001b[49m\u001b[43m(\u001b[49m\u001b[43mloss_log1\u001b[49m\u001b[43m)\u001b[49m\u001b[43m)\u001b[49m\n\u001b[1;32m      4\u001b[0m np\u001b[38;5;241m.\u001b[39msavetxt(\u001b[38;5;124m\"\u001b[39m\u001b[38;5;124m/content/drive/MyDrive/PSPO/12/TS_regret_log1.csv\u001b[39m\u001b[38;5;124m\"\u001b[39m, np\u001b[38;5;241m.\u001b[39marray(regret_log1))\n\u001b[1;32m      5\u001b[0m \u001b[38;5;66;03m# eval \u001b[39;00m\n",
      "File \u001b[0;32m<__array_function__ internals>:180\u001b[0m, in \u001b[0;36msavetxt\u001b[0;34m(*args, **kwargs)\u001b[0m\n",
      "File \u001b[0;32m~/opt/anaconda3/envs/gurobi_env/lib/python3.8/site-packages/numpy/lib/npyio.py:1523\u001b[0m, in \u001b[0;36msavetxt\u001b[0;34m(fname, X, fmt, delimiter, newline, header, footer, comments, encoding)\u001b[0m\n\u001b[1;32m   1520\u001b[0m     fname \u001b[38;5;241m=\u001b[39m os_fspath(fname)\n\u001b[1;32m   1521\u001b[0m \u001b[38;5;28;01mif\u001b[39;00m _is_string_like(fname):\n\u001b[1;32m   1522\u001b[0m     \u001b[38;5;66;03m# datasource doesn't support creating a new file ...\u001b[39;00m\n\u001b[0;32m-> 1523\u001b[0m     \u001b[38;5;28;43mopen\u001b[39;49m\u001b[43m(\u001b[49m\u001b[43mfname\u001b[49m\u001b[43m,\u001b[49m\u001b[43m \u001b[49m\u001b[38;5;124;43m'\u001b[39;49m\u001b[38;5;124;43mwt\u001b[39;49m\u001b[38;5;124;43m'\u001b[39;49m\u001b[43m)\u001b[49m\u001b[38;5;241m.\u001b[39mclose()\n\u001b[1;32m   1524\u001b[0m     fh \u001b[38;5;241m=\u001b[39m np\u001b[38;5;241m.\u001b[39mlib\u001b[38;5;241m.\u001b[39m_datasource\u001b[38;5;241m.\u001b[39mopen(fname, \u001b[38;5;124m'\u001b[39m\u001b[38;5;124mwt\u001b[39m\u001b[38;5;124m'\u001b[39m, encoding\u001b[38;5;241m=\u001b[39mencoding)\n\u001b[1;32m   1525\u001b[0m     own_fh \u001b[38;5;241m=\u001b[39m \u001b[38;5;28;01mTrue\u001b[39;00m\n",
      "\u001b[0;31mFileNotFoundError\u001b[0m: [Errno 2] No such file or directory: '/content/drive/MyDrive/PSPO/12/TS_loss_log1.csv'"
     ]
    }
   ],
   "source": [
    "# plot    \n",
    "plotLearningCurve(loss_log1, regret_log1)\n",
    "np.savetxt(\"/content/drive/MyDrive/PSPO/12/TS_loss_log1.csv\", np.array(loss_log1))\n",
    "np.savetxt(\"/content/drive/MyDrive/PSPO/12/TS_regret_log1.csv\", np.array(regret_log1))\n",
    "# eval \n",
    "nnet.load_state_dict(torch.load('/content/drive/MyDrive/PSPO/12/TS.pth'))\n",
    "print(\"Test set:\")\n",
    "df1 = evaluate(nnet, optmodel, loader_test)"
   ]
  },
  {
   "cell_type": "code",
   "execution_count": null,
   "metadata": {
    "colab": {
     "base_uri": "https://localhost:8080/",
     "height": 688
    },
    "id": "_P_pupzctJAH",
    "outputId": "9ac615b2-3d13-43d5-836b-58d3a7acd7e4"
   },
   "outputs": [
    {
     "data": {
      "image/png": "[encoded data removed]",
      "text/plain": [
       "<Figure size 576x288 with 1 Axes>"
      ]
     },
     "metadata": {},
     "output_type": "display_data"
    },
    {
     "data": {
      "image/png": "[encoded data removed]",
      "text/plain": [
       "<Figure size 576x288 with 1 Axes>"
      ]
     },
     "metadata": {},
     "output_type": "display_data"
    },
    {
     "name": "stdout",
     "output_type": "stream",
     "text": [
      "Test set:\n"
     ]
    },
    {
     "name": "stderr",
     "output_type": "stream",
     "text": [
      "100%|██████████| 15/15 [00:32<00:00,  2.20s/it]\n"
     ]
    },
    {
     "name": "stdout",
     "output_type": "stream",
     "text": [
      "Avg Regret: 0.1456\n",
      "Avg Rel Regret: 0.67%\n",
      "Path Accuracy: 94.42%\n",
      "Optimality Ratio: 81.10%\n"
     ]
    }
   ],
   "source": [
    "# plot    \n",
    "plotLearningCurve(loss_log1, regret_log1)\n",
    "np.savetxt(\"/content/drive/MyDrive/PSPO/12/TS_loss_log1.csv\", np.array(loss_log1))\n",
    "np.savetxt(\"/content/drive/MyDrive/PSPO/12/TS_regret_log1.csv\", np.array(regret_log1))\n",
    "# eval \n",
    "nnet.load_state_dict(torch.load('/content/drive/MyDrive/PSPO/12/TS.pth'))\n",
    "print(\"Test set:\")\n",
    "df1 = evaluate(nnet, optmodel, loader_test)"
   ]
  },
  {
   "cell_type": "code",
   "execution_count": null,
   "metadata": {
    "id": "pneKUZIyp4o_"
   },
   "outputs": [],
   "source": [
    "state = {\n",
    "        'net': nnet.state_dict(),\n",
    "        'acc': 94.55,\n",
    "        'epoch': 50,\n",
    "    }\n",
    "\n",
    "torch.save(state, '/content/drive/MyDrive/nnet_pyepo_mse_k=30_10000.pth')"
   ]
  },
  {
   "cell_type": "code",
   "execution_count": null,
   "metadata": {
    "id": "VfvV1Bq9hLmO"
   },
   "outputs": [],
   "source": [
    "np.savetxt(\"/content/drive/MyDrive/nnet_pyepo_mse_k=30_10000loss_log1.csv\", np.array(loss_log1))\n",
    "np.savetxt(\"/content/drive/MyDrive/nnet_pyepo_mse_k=30_10000regret_log1.csv\", np.array(regret_log1))"
   ]
  },
  {
   "cell_type": "markdown",
   "metadata": {},
   "source": [
    "## 6.3 SPO+"
   ]
  },
  {
   "cell_type": "code",
   "execution_count": null,
   "metadata": {},
   "outputs": [],
   "source": [
    "# init net\n",
    "nnet = partialResNet(k=12)\n",
    "# cuda\n",
    "if torch.cuda.is_available():\n",
    "    nnet = nnet.cuda()\n",
    "# set optimizer\n",
    "optimizer = torch.optim.Adam(nnet.parameters(), lr=lr)\n",
    "# set stopper\n",
    "#stopper = earlyStopper(patience=7)"
   ]
  },
  {
   "cell_type": "code",
   "execution_count": null,
   "metadata": {},
   "outputs": [],
   "source": [
    "# set loss\n",
    "spoploss = pyepo.func.SPOPlus(optmodel, processes=1)"
   ]
  },
  {
   "cell_type": "code",
   "execution_count": null,
   "metadata": {},
   "outputs": [],
   "source": [
    "# train\n",
    "loss_log3, regret_log3 = [], [pyepo.metric.regret(nnet, optmodel, loader_test)]\n",
    "tbar = tqdm(range(epochs))\n",
    "for epoch in tbar:\n",
    "    nnet.train()\n",
    "    for x, c, w, z in loader_train:\n",
    "        # cuda\n",
    "        if torch.cuda.is_available():\n",
    "            x, c, w, z = x.cuda(), c.cuda(), w.cuda(), z.cuda()\n",
    "        # forward pass\n",
    "        cp = nnet(x) # predicted cost\n",
    "        loss = spoploss(cp, c, w, z).mean() # loss\n",
    "        # backward pass\n",
    "        optimizer.zero_grad()\n",
    "        loss.backward()\n",
    "        optimizer.step()\n",
    "        # log loss\n",
    "        loss_log3.append(loss.item())\n",
    "        tbar.set_description(\"Epoch: {:2}, Loss: {:3.4f}\".format(epoch, loss.item()))\n",
    "    # scheduled learning rate\n",
    "    if (epoch == int(epochs*0.6)) or (epoch == int(epochs*0.8)):\n",
    "        for g in optimizer.param_groups:\n",
    "            g['lr'] /= 10\n",
    "    if epoch % log_step == 0:\n",
    "        # log regret\n",
    "        regret = pyepo.metric.regret(nnet, optmodel, loader_test) # regret on test\n",
    "        regret_log3.append(regret)\n",
    "        # early stop\n",
    "        #regret = pyepo.metric.regret(nnet, optmodel, loader_val) # regret on val\n",
    "        #if stopper.stop(regret):\n",
    "        #    break"
   ]
  },
  {
   "cell_type": "markdown",
   "metadata": {},
   "source": [
    "## pre-traing+SPO"
   ]
  },
  {
   "cell_type": "code",
   "execution_count": null,
   "metadata": {
    "colab": {
     "base_uri": "https://localhost:8080/"
    },
    "id": "xZTxok9YtSX7",
    "outputId": "1b4fffd6-8287-4575-d821-b75818d6ca4a"
   },
   "outputs": [
    {
     "name": "stdout",
     "output_type": "stream",
     "text": [
      "Num of cores: 1\n"
     ]
    }
   ],
   "source": [
    "# init net\n",
    "nnet = partialResNet(k=18)\n",
    "# cuda\n",
    "if torch.cuda.is_available():\n",
    "    nnet = nnet.cuda()\n",
    "#load parameters from mse\n",
    "nnet.load_state_dict(torch.load('/content/drive/MyDrive/PSPO/18/TS.pth'))\n",
    "# set optimizer\n",
    "optimizer = torch.optim.Adam(nnet.parameters(), lr=lr)\n",
    "# set stopper\n",
    "early_stopping = EarlyStopping(patience=50,delta=0, verbose=True,path='/content/drive/MyDrive/PSPO/18/PSPO.pth')\n",
    "# set loss\n",
    "spoploss = pyepo.func.SPOPlus(optmodel, processes=1)"
   ]
  },
  {
   "cell_type": "code",
   "execution_count": null,
   "metadata": {
    "colab": {
     "base_uri": "https://localhost:8080/",
     "height": 435
    },
    "collapsed": true,
    "id": "QD7M0OiNuT5X",
    "outputId": "c93bb24e-ecd7-47ca-ed6c-09723400afce"
   },
   "outputs": [
    {
     "ename": "KeyboardInterrupt",
     "evalue": "ignored",
     "output_type": "error",
     "traceback": [
      "\u001b[0;31m---------------------------------------------------------------------------\u001b[0m",
      "\u001b[0;31mKeyboardInterrupt\u001b[0m                         Traceback (most recent call last)",
      "\u001b[0;32m<ipython-input-26-354b4371584a>\u001b[0m in \u001b[0;36m<module>\u001b[0;34m\u001b[0m\n\u001b[1;32m      1\u001b[0m \u001b[0;31m# train\u001b[0m\u001b[0;34m\u001b[0m\u001b[0;34m\u001b[0m\u001b[0;34m\u001b[0m\u001b[0m\n\u001b[1;32m      2\u001b[0m \u001b[0;31m#train_loss_list=[]\u001b[0m\u001b[0;34m\u001b[0m\u001b[0;34m\u001b[0m\u001b[0;34m\u001b[0m\u001b[0m\n\u001b[0;32m----> 3\u001b[0;31m \u001b[0mloss_log3\u001b[0m\u001b[0;34m,\u001b[0m \u001b[0mregret_log3\u001b[0m \u001b[0;34m=\u001b[0m \u001b[0;34m[\u001b[0m\u001b[0;34m]\u001b[0m\u001b[0;34m,\u001b[0m \u001b[0;34m[\u001b[0m\u001b[0mpyepo\u001b[0m\u001b[0;34m.\u001b[0m\u001b[0mmetric\u001b[0m\u001b[0;34m.\u001b[0m\u001b[0mregret\u001b[0m\u001b[0;34m(\u001b[0m\u001b[0mnnet\u001b[0m\u001b[0;34m,\u001b[0m \u001b[0moptmodel\u001b[0m\u001b[0;34m,\u001b[0m \u001b[0mloader_val\u001b[0m\u001b[0;34m)\u001b[0m\u001b[0;34m]\u001b[0m\u001b[0;34m\u001b[0m\u001b[0;34m\u001b[0m\u001b[0m\n\u001b[0m\u001b[1;32m      4\u001b[0m \u001b[0mtbar\u001b[0m \u001b[0;34m=\u001b[0m \u001b[0mtqdm\u001b[0m\u001b[0;34m(\u001b[0m\u001b[0mrange\u001b[0m\u001b[0;34m(\u001b[0m\u001b[0mepochs\u001b[0m\u001b[0;34m)\u001b[0m\u001b[0;34m)\u001b[0m\u001b[0;34m\u001b[0m\u001b[0;34m\u001b[0m\u001b[0m\n\u001b[1;32m      5\u001b[0m \u001b[0;32mfor\u001b[0m \u001b[0mepoch\u001b[0m \u001b[0;32min\u001b[0m \u001b[0mtbar\u001b[0m\u001b[0;34m:\u001b[0m\u001b[0;34m\u001b[0m\u001b[0;34m\u001b[0m\u001b[0m\n",
      "\u001b[0;32m/content/PyEPO/pkg/pyepo/metric/regret.py\u001b[0m in \u001b[0;36mregret\u001b[0;34m(predmodel, optmodel, dataloader)\u001b[0m\n\u001b[1;32m     38\u001b[0m         \u001b[0;32mfor\u001b[0m \u001b[0mj\u001b[0m \u001b[0;32min\u001b[0m \u001b[0mrange\u001b[0m\u001b[0;34m(\u001b[0m\u001b[0mcp\u001b[0m\u001b[0;34m.\u001b[0m\u001b[0mshape\u001b[0m\u001b[0;34m[\u001b[0m\u001b[0;36m0\u001b[0m\u001b[0;34m]\u001b[0m\u001b[0;34m)\u001b[0m\u001b[0;34m:\u001b[0m\u001b[0;34m\u001b[0m\u001b[0;34m\u001b[0m\u001b[0m\n\u001b[1;32m     39\u001b[0m             \u001b[0;31m# accumulate loss\u001b[0m\u001b[0;34m\u001b[0m\u001b[0;34m\u001b[0m\u001b[0;34m\u001b[0m\u001b[0m\n\u001b[0;32m---> 40\u001b[0;31m             loss += calRegret(optmodel, cp[j], c[j].to(\"cpu\").detach().numpy(),\n\u001b[0m\u001b[1;32m     41\u001b[0m                               z[j].item())\n\u001b[1;32m     42\u001b[0m         \u001b[0moptsum\u001b[0m \u001b[0;34m+=\u001b[0m \u001b[0mabs\u001b[0m\u001b[0;34m(\u001b[0m\u001b[0mz\u001b[0m\u001b[0;34m)\u001b[0m\u001b[0;34m.\u001b[0m\u001b[0msum\u001b[0m\u001b[0;34m(\u001b[0m\u001b[0;34m)\u001b[0m\u001b[0;34m.\u001b[0m\u001b[0mitem\u001b[0m\u001b[0;34m(\u001b[0m\u001b[0;34m)\u001b[0m\u001b[0;34m\u001b[0m\u001b[0;34m\u001b[0m\u001b[0m\n",
      "\u001b[0;32m/content/PyEPO/pkg/pyepo/metric/regret.py\u001b[0m in \u001b[0;36mcalRegret\u001b[0;34m(optmodel, pred_cost, true_cost, true_obj)\u001b[0m\n\u001b[1;32m     61\u001b[0m     \"\"\"\n\u001b[1;32m     62\u001b[0m     \u001b[0;31m# opt sol for pred cost\u001b[0m\u001b[0;34m\u001b[0m\u001b[0;34m\u001b[0m\u001b[0;34m\u001b[0m\u001b[0m\n\u001b[0;32m---> 63\u001b[0;31m     \u001b[0moptmodel\u001b[0m\u001b[0;34m.\u001b[0m\u001b[0msetObj\u001b[0m\u001b[0;34m(\u001b[0m\u001b[0mpred_cost\u001b[0m\u001b[0;34m)\u001b[0m\u001b[0;34m\u001b[0m\u001b[0;34m\u001b[0m\u001b[0m\n\u001b[0m\u001b[1;32m     64\u001b[0m     \u001b[0msol\u001b[0m\u001b[0;34m,\u001b[0m \u001b[0m_\u001b[0m \u001b[0;34m=\u001b[0m \u001b[0moptmodel\u001b[0m\u001b[0;34m.\u001b[0m\u001b[0msolve\u001b[0m\u001b[0;34m(\u001b[0m\u001b[0;34m)\u001b[0m\u001b[0;34m\u001b[0m\u001b[0;34m\u001b[0m\u001b[0m\n\u001b[1;32m     65\u001b[0m     \u001b[0;31m# obj with true cost\u001b[0m\u001b[0;34m\u001b[0m\u001b[0;34m\u001b[0m\u001b[0;34m\u001b[0m\u001b[0m\n",
      "\u001b[0;32m<ipython-input-17-347a3b066d07>\u001b[0m in \u001b[0;36msetObj\u001b[0;34m(self, c)\u001b[0m\n\u001b[1;32m    129\u001b[0m         \u001b[0mc\u001b[0m \u001b[0;34m=\u001b[0m \u001b[0mc\u001b[0m\u001b[0;34m.\u001b[0m\u001b[0mreshape\u001b[0m\u001b[0;34m(\u001b[0m\u001b[0mself\u001b[0m\u001b[0;34m.\u001b[0m\u001b[0mgrid\u001b[0m\u001b[0;34m)\u001b[0m\u001b[0;34m\u001b[0m\u001b[0;34m\u001b[0m\u001b[0m\n\u001b[1;32m    130\u001b[0m         \u001b[0;31m# sum up vector cost\u001b[0m\u001b[0;34m\u001b[0m\u001b[0;34m\u001b[0m\u001b[0;34m\u001b[0m\u001b[0m\n\u001b[0;32m--> 131\u001b[0;31m         \u001b[0mobj\u001b[0m \u001b[0;34m=\u001b[0m \u001b[0mc\u001b[0m\u001b[0;34m[\u001b[0m\u001b[0;36m0\u001b[0m\u001b[0;34m,\u001b[0m\u001b[0;36m0\u001b[0m\u001b[0;34m]\u001b[0m \u001b[0;34m+\u001b[0m \u001b[0mgp\u001b[0m\u001b[0;34m.\u001b[0m\u001b[0mquicksum\u001b[0m\u001b[0;34m(\u001b[0m\u001b[0mc\u001b[0m\u001b[0;34m[\u001b[0m\u001b[0mself\u001b[0m\u001b[0;34m.\u001b[0m\u001b[0mnodes_map\u001b[0m\u001b[0;34m[\u001b[0m\u001b[0mj\u001b[0m\u001b[0;34m]\u001b[0m\u001b[0;34m]\u001b[0m \u001b[0;34m*\u001b[0m \u001b[0mself\u001b[0m\u001b[0;34m.\u001b[0m\u001b[0mx\u001b[0m\u001b[0;34m[\u001b[0m\u001b[0mi\u001b[0m\u001b[0;34m,\u001b[0m\u001b[0mj\u001b[0m\u001b[0;34m]\u001b[0m \u001b[0;32mfor\u001b[0m \u001b[0mi\u001b[0m\u001b[0;34m,\u001b[0m \u001b[0mj\u001b[0m \u001b[0;32min\u001b[0m \u001b[0mself\u001b[0m\u001b[0;34m.\u001b[0m\u001b[0mx\u001b[0m\u001b[0;34m)\u001b[0m\u001b[0;34m\u001b[0m\u001b[0;34m\u001b[0m\u001b[0m\n\u001b[0m\u001b[1;32m    132\u001b[0m         \u001b[0mself\u001b[0m\u001b[0;34m.\u001b[0m\u001b[0m_model\u001b[0m\u001b[0;34m.\u001b[0m\u001b[0msetObjective\u001b[0m\u001b[0;34m(\u001b[0m\u001b[0mobj\u001b[0m\u001b[0;34m)\u001b[0m\u001b[0;34m\u001b[0m\u001b[0;34m\u001b[0m\u001b[0m\n\u001b[1;32m    133\u001b[0m \u001b[0;34m\u001b[0m\u001b[0m\n",
      "\u001b[0;32msrc/gurobipy/gurobi.pxi\u001b[0m in \u001b[0;36mgurobipy.quicksum\u001b[0;34m()\u001b[0m\n",
      "\u001b[0;32m<ipython-input-17-347a3b066d07>\u001b[0m in \u001b[0;36m<genexpr>\u001b[0;34m(.0)\u001b[0m\n\u001b[1;32m    129\u001b[0m         \u001b[0mc\u001b[0m \u001b[0;34m=\u001b[0m \u001b[0mc\u001b[0m\u001b[0;34m.\u001b[0m\u001b[0mreshape\u001b[0m\u001b[0;34m(\u001b[0m\u001b[0mself\u001b[0m\u001b[0;34m.\u001b[0m\u001b[0mgrid\u001b[0m\u001b[0;34m)\u001b[0m\u001b[0;34m\u001b[0m\u001b[0;34m\u001b[0m\u001b[0m\n\u001b[1;32m    130\u001b[0m         \u001b[0;31m# sum up vector cost\u001b[0m\u001b[0;34m\u001b[0m\u001b[0;34m\u001b[0m\u001b[0;34m\u001b[0m\u001b[0m\n\u001b[0;32m--> 131\u001b[0;31m         \u001b[0mobj\u001b[0m \u001b[0;34m=\u001b[0m \u001b[0mc\u001b[0m\u001b[0;34m[\u001b[0m\u001b[0;36m0\u001b[0m\u001b[0;34m,\u001b[0m\u001b[0;36m0\u001b[0m\u001b[0;34m]\u001b[0m \u001b[0;34m+\u001b[0m \u001b[0mgp\u001b[0m\u001b[0;34m.\u001b[0m\u001b[0mquicksum\u001b[0m\u001b[0;34m(\u001b[0m\u001b[0mc\u001b[0m\u001b[0;34m[\u001b[0m\u001b[0mself\u001b[0m\u001b[0;34m.\u001b[0m\u001b[0mnodes_map\u001b[0m\u001b[0;34m[\u001b[0m\u001b[0mj\u001b[0m\u001b[0;34m]\u001b[0m\u001b[0;34m]\u001b[0m \u001b[0;34m*\u001b[0m \u001b[0mself\u001b[0m\u001b[0;34m.\u001b[0m\u001b[0mx\u001b[0m\u001b[0;34m[\u001b[0m\u001b[0mi\u001b[0m\u001b[0;34m,\u001b[0m\u001b[0mj\u001b[0m\u001b[0;34m]\u001b[0m \u001b[0;32mfor\u001b[0m \u001b[0mi\u001b[0m\u001b[0;34m,\u001b[0m \u001b[0mj\u001b[0m \u001b[0;32min\u001b[0m \u001b[0mself\u001b[0m\u001b[0;34m.\u001b[0m\u001b[0mx\u001b[0m\u001b[0;34m)\u001b[0m\u001b[0;34m\u001b[0m\u001b[0;34m\u001b[0m\u001b[0m\n\u001b[0m\u001b[1;32m    132\u001b[0m         \u001b[0mself\u001b[0m\u001b[0;34m.\u001b[0m\u001b[0m_model\u001b[0m\u001b[0;34m.\u001b[0m\u001b[0msetObjective\u001b[0m\u001b[0;34m(\u001b[0m\u001b[0mobj\u001b[0m\u001b[0;34m)\u001b[0m\u001b[0;34m\u001b[0m\u001b[0;34m\u001b[0m\u001b[0m\n\u001b[1;32m    133\u001b[0m \u001b[0;34m\u001b[0m\u001b[0m\n",
      "\u001b[0;31mKeyboardInterrupt\u001b[0m: "
     ]
    }
   ],
   "source": [
    "# train\n",
    "#train_loss_list=[]\n",
    "loss_log3, regret_log3 = [], [pyepo.metric.regret(nnet, optmodel, loader_val)]\n",
    "tbar = tqdm(range(epochs))\n",
    "for epoch in tbar:\n",
    "    nnet.train()\n",
    "    train_loss=0\n",
    "    batch_idx=0\n",
    "    for x, c, w, z in loader_train:\n",
    "        # cuda\n",
    "        if torch.cuda.is_available():\n",
    "            x, c, w, z = x.cuda(), c.cuda(), w.cuda(), z.cuda()\n",
    "        # forward pass\n",
    "        cp = nnet(x) # predicted cost\n",
    "        loss = spoploss(cp, c, w, z).mean() # loss\n",
    "        # backward pass\n",
    "        optimizer.zero_grad()\n",
    "        loss.backward()\n",
    "        optimizer.step()\n",
    "        # log loss\n",
    "        tbar.set_description(\"Epoch: {:2}, Loss: {:3.4f}\".format(epoch, loss.item()))\n",
    "        train_loss+=loss.item()\n",
    "        batch_idx+=1\n",
    "    loss_log3.append(train_loss/batch_idx)\n",
    "    \n",
    "    #train_loss_list.append(train_loss/(batch_idx+1))\n",
    "    # scheduled learning rate\n",
    "    if (epoch == int(epochs*0.6)) or (epoch == int(epochs*0.8)):\n",
    "        for g in optimizer.param_groups:\n",
    "            g['lr'] /= 10\n",
    "    if epoch % log_step == 0:\n",
    "        # log regret\n",
    "        regret = pyepo.metric.regret(nnet, optmodel, loader_val) # regret on val\n",
    "        regret_log3.append(regret)\n",
    "        # early stop\n",
    "        #regret = pyepo.metric.regret(nnet, optmodel, loader_val) # regret on val\n",
    "        early_stopping(regret,nnet)  \n",
    "        if early_stopping.early_stop:\n",
    "          print(\"Early stopping\")\n",
    "          break\n",
    "    if epoch==24:\n",
    "      #plotLearningCurve(loss_log3, regret_log3)\n",
    "      # eval\n",
    "      print(\"Test set:\")\n",
    "      df3 = evaluate(nnet, optmodel, loader_test)\n",
    "    #gc.collect()"
   ]
  },
  {
   "cell_type": "code",
   "execution_count": null,
   "metadata": {
    "id": "KjtxYrqLudSv"
   },
   "outputs": [],
   "source": [
    "df3 =pd.read_csv('/content/drive/MyDrive/PSPO/18/PSPO_evaluate.csv')"
   ]
  },
  {
   "cell_type": "code",
   "execution_count": null,
   "metadata": {
    "colab": {
     "base_uri": "https://localhost:8080/"
    },
    "id": "YXIGZWIpuFoR",
    "outputId": "f0caae80-87e8-4218-c3ab-1ed1c4743258"
   },
   "outputs": [
    {
     "data": {
      "text/plain": [
       "<bound method NDFrame._add_numeric_operations.<locals>.mean of      Unnamed: 0  Regret  Relative Regret  Accuracy  Optimal\n",
       "0             0    -0.0        -0.000000  0.981481     True\n",
       "1             1     0.0         0.000000  0.962963     True\n",
       "2             2     0.4         0.015385  0.938272    False\n",
       "3             3     0.0         0.000000  0.981481     True\n",
       "4             4     0.8         0.017279  0.925926    False\n",
       "..          ...     ...              ...       ...      ...\n",
       "995         995     0.4         0.012579  0.987654    False\n",
       "996         996     0.0         0.000000  1.000000     True\n",
       "997         997     0.0         0.000000  0.993827     True\n",
       "998         998     0.0         0.000000  1.000000     True\n",
       "999         999     0.8         0.019277  0.910494    False\n",
       "\n",
       "[1000 rows x 5 columns]>"
      ]
     },
     "execution_count": 31,
     "metadata": {},
     "output_type": "execute_result"
    }
   ],
   "source": [
    "df3.mean"
   ]
  },
  {
   "cell_type": "code",
   "execution_count": null,
   "metadata": {
    "id": "RJIXiNMXlyOP"
   },
   "outputs": [],
   "source": [
    "# plot    \n",
    "plotLearningCurve(loss_log3, regret_log3)\n",
    "np.savetxt(\"/content/drive/MyDrive/PSPO/18/PSPO_loss_log3.csv\", np.array(loss_log3))\n",
    "np.savetxt(\"/content/drive/MyDrive/PSPO/18/PSPO_regret_log3.csv\", np.array(regret_log3))\n",
    "\n",
    "# eval \n",
    "nnet.load_state_dict(torch.load('/content/drive/MyDrive/PSPO/18/PSPO.pth'))\n",
    "print(\"Test set:\")\n",
    "df3 = evaluate(nnet, optmodel, loader_test)\n",
    "df3.to_csv(\"/content/drive/MyDrive/PSPO/18/PSPO_evaluate.csv\")\n",
    "'''\n",
    "# plot\n",
    "plotLearningCurve(loss_log3, regret_log3)\n",
    "# eval\n",
    "print(\"Test set:\")\n",
    "df3 = evaluate(nnet, optmodel, loader_test)'''"
   ]
  },
  {
   "cell_type": "code",
   "execution_count": null,
   "metadata": {
    "colab": {
     "base_uri": "https://localhost:8080/"
    },
    "id": "E6aB-vsBtlZC",
    "outputId": "2d3feb16-246b-4965-910f-fddbe9282936"
   },
   "outputs": [
    {
     "name": "stdout",
     "output_type": "stream",
     "text": [
      "Test set:\n"
     ]
    },
    {
     "name": "stderr",
     "output_type": "stream",
     "text": [
      "100%|██████████| 15/15 [01:11<00:00,  4.75s/it]\n"
     ]
    },
    {
     "name": "stdout",
     "output_type": "stream",
     "text": [
      "Avg Regret: 0.1430\n",
      "Avg Rel Regret: 0.46%\n",
      "Path Accuracy: 97.73%\n",
      "Optimality Ratio: 81.50%\n"
     ]
    }
   ],
   "source": [
    "nnet.load_state_dict(torch.load('/content/drive/MyDrive/PSPO/18/PSPO.pth'))\n",
    "print(\"Test set:\")\n",
    "df3 = evaluate(nnet, optmodel, loader_test)"
   ]
  },
  {
   "cell_type": "code",
   "execution_count": null,
   "metadata": {
    "colab": {
     "background_save": true
    },
    "id": "W4xLM1l-pCFw"
   },
   "outputs": [],
   "source": [
    "state = {\n",
    "        'net': nnet.state_dict(),\n",
    "        'acc': 97.68,\n",
    "        'epoch': 50,\n",
    "    }\n",
    "\n",
    "torch.save(state, '/content/drive/MyDrive/nnet_pyepo_spo50_k=30_10000.pth')"
   ]
  },
  {
   "cell_type": "code",
   "execution_count": null,
   "metadata": {
    "colab": {
     "background_save": true
    },
    "id": "73CXeDM4lscd"
   },
   "outputs": [],
   "source": [
    "np.savetxt(\"/content/drive/MyDrive/nnet_pyepo_pspo_k=30_10000loss_log3.csv\", np.array(loss_log3))\n",
    "np.savetxt(\"/content/drive/MyDrive/nnet_pyepo_spo_k=30_10000regret_log3.csv\", np.array(regret_log3))"
   ]
  },
  {
   "cell_type": "code",
   "execution_count": null,
   "metadata": {
    "id": "T2kyk9-swLBA"
   },
   "outputs": [],
   "source": [
    "# init net\n",
    "nnet_spo = partialResNet(k=12)\n",
    "# cuda\n",
    "if torch.cuda.is_available():\n",
    "    nnet_spo = nnet_spo.cuda()\n",
    "# set optimizer\n",
    "optimizer = torch.optim.Adam(nnet_spo.parameters(), lr=lr)\n",
    "# set stopper\n",
    "#stopper = earlyStopper(patience=7)\n",
    "# set loss\n",
    "spoploss = pyepo.func.SPOPlus(optmodel, processes=1)\n",
    "# train\n",
    "loss_log3, regret_log3 = [], [pyepo.metric.regret(nnet_spo, optmodel, loader_test)]\n",
    "tbar = tqdm(range(epochs))\n",
    "for epoch in tbar:\n",
    "    nnet_spo.train()\n",
    "    train_loss=0\n",
    "    for batch_idx,x, c, w, z in enumerate(loader_train):\n",
    "        # cuda\n",
    "        if torch.cuda.is_available():\n",
    "            x, c, w, z = x.cuda(), c.cuda(), w.cuda(), z.cuda()\n",
    "        # forward pass\n",
    "        cp = nnet_spo(x) # predicted cost\n",
    "        loss = spoploss(cp, c, w, z).mean() # loss\n",
    "        # backward pass\n",
    "        optimizer.zero_grad()\n",
    "        loss.backward()\n",
    "        optimizer.step()\n",
    "        # log loss\n",
    "        train_loss+=loss.item()\n",
    "    loss_log3.append(train_loss(batch_idx+1))\n",
    "    tbar.set_description(\"Epoch: {:2}, Loss: {:3.4f}\".format(epoch, train_loss(batch_idx+1)))\n",
    "    # scheduled learning rate\n",
    "    if (epoch == int(epochs*0.6)) or (epoch == int(epochs*0.8)):\n",
    "        for g in optimizer.param_groups:\n",
    "            g['lr'] /= 10\n",
    "    if epoch % log_step == 0:\n",
    "        # log regret\n",
    "        regret = pyepo.metric.regret(nnet_spo, optmodel, loader_test) # regret on test\n",
    "        regret_log3.append(regret)\n",
    "        # early stop\n",
    "        #regret = pyepo.metric.regret(nnet_spo, optmodel, loader_test) # regret on val\n",
    "        #if stopper.stop(regret):\n",
    "            #break\n",
    "    if epoch==24:\n",
    "      plotLearningCurve(loss_log3, regret_log3)\n",
    "      # eval\n",
    "      print(\"Test set:\")\n",
    "      df3 = evaluate(nnet_spo, optmodel, loader_test)"
   ]
  },
  {
   "cell_type": "code",
   "execution_count": null,
   "metadata": {
    "id": "jUiVmUL3RCDc"
   },
   "outputs": [],
   "source": [
    "#!/usr/bin/env python\n",
    "# coding: utf-8\n",
    "\"\"\"\n",
    "True regret loss\n",
    "\"\"\"\n",
    "\n",
    "import numpy as np\n",
    "import torch\n",
    "\n",
    "from pyepo import EPO\n",
    "\n",
    "def regret_w(predmodel, optmodel, dataloader):\n",
    "    \"\"\"\n",
    "    A function to evaluate model performance with normalized true regret\n",
    "\n",
    "    Args:\n",
    "        predmodel (nn): a regression neural network for cost prediction\n",
    "        optmodel (optModel): an PyEPO optimization model\n",
    "        dataloader (DataLoader): Torch dataloader from optDataSet\n",
    "\n",
    "    Returns:\n",
    "        float: true regret loss\n",
    "    \"\"\"\n",
    "    # evaluate\n",
    "    predmodel.eval()\n",
    "    loss = 0\n",
    "    optsum = 0\n",
    "    # load data\n",
    "    for data in dataloader:\n",
    "        x, c, w, z = data\n",
    "        # cuda\n",
    "        if next(predmodel.parameters()).is_cuda:\n",
    "            x, c, w, z = x.cuda(), c.cuda(), w.cuda(), z.cuda()\n",
    "        # predict\n",
    "        with torch.no_grad(): # no grad\n",
    "            cp = predmodel(x).to(\"cpu\").detach().numpy()\n",
    "        # solve\n",
    "        for j in range(cp.shape[0]):\n",
    "            # accumulate loss\n",
    "            loss += calRegret_w(optmodel, cp[j], c[j].to(\"cpu\").detach().numpy(),\n",
    "                              z[j].item())\n",
    "        optsum += abs(z).sum().item()\n",
    "        #break\n",
    "    # turn back train mode\n",
    "    predmodel.train()\n",
    "    # normalized\n",
    "    print(loss)\n",
    "    print(optsum)\n",
    "    return loss / (optsum + 1e-7)\n",
    "\n",
    "\n",
    "def calRegret_w(optmodel, pred_cost, true_cost, true_obj):\n",
    "    \"\"\"\n",
    "    A function to calculate normalized true regret for a batch\n",
    "\n",
    "    Args:\n",
    "        optmodel (optModel): optimization model\n",
    "        pred_cost (torch.tensor): predicted costs\n",
    "        true_cost (torch.tensor): true costs\n",
    "        true_obj (torch.tensor): true optimal objective values\n",
    "\n",
    "    Returns:predmodel\n",
    "        float: true regret losses\n",
    "    \"\"\"\n",
    "    # opt sol for pred cost\n",
    "    optmodel.setObj(true_cost)\n",
    "    #sol, _ = optmodel.solve()\n",
    "    # obj with true cost\n",
    "    #print(cp)\n",
    "    _, idx = cp.topk(8)\n",
    "    cp.fill_(0)\n",
    "    for idx in enumerate(idx):\n",
    "      cp[idx] = 1\n",
    "    #print(cp)\n",
    "    obj = np.dot(cp.detach().numpy(), true_cost)\n",
    "    \n",
    "    # loss\n",
    "    if optmodel.modelSense == EPO.MINIMIZE:\n",
    "        loss = obj - true_obj\n",
    "    if optmodel.modelSense == EPO.MAXIMIZE:\n",
    "        loss = true_obj - obj\n",
    "    \n",
    "    return loss\n"
   ]
  },
  {
   "cell_type": "code",
   "execution_count": null,
   "metadata": {
    "colab": {
     "base_uri": "https://localhost:8080/"
    },
    "id": "rYoKJzLNSsby",
    "outputId": "251821ab-8696-47da-e9ec-4f827401407f"
   },
   "outputs": [
    {
     "name": "stdout",
     "output_type": "stream",
     "text": [
      "Restricted license - for non-production use only - expires 2024-10-28\n",
      "Optimizing for optDataset...\n"
     ]
    },
    {
     "name": "stderr",
     "output_type": "stream",
     "text": [
      "100%|██████████| 1000/1000 [00:01<00:00, 654.67it/s]\n"
     ]
    }
   ],
   "source": [
    "import pyepo\n",
    "import torch\n",
    "from torch import nn\n",
    "from torch.utils.data import DataLoader\n",
    "\n",
    "# model for shortest path\n",
    "grid = (5,5) # grid size\n",
    "optmodel = pyepo.model.grb.shortestPathModel(grid)\n",
    "\n",
    "# generate data\n",
    "num_data = 1000 # number of data\n",
    "num_feat = 5 # size of feature\n",
    "deg = 8 # polynomial degree\n",
    "noise_width = 0.5 # noise width\n",
    "x, c = pyepo.data.shortestpath.genData(num_data, num_feat, grid, deg, noise_width, seed=135)\n",
    "\n",
    "# build dataset\n",
    "dataset = pyepo.data.dataset.optDataset(optmodel, x, c)\n",
    "\n",
    "# get data loader\n",
    "dataloader = DataLoader(dataset, batch_size=1, shuffle=True)"
   ]
  },
  {
   "cell_type": "code",
   "execution_count": null,
   "metadata": {
    "colab": {
     "base_uri": "https://localhost:8080/",
     "height": 1000
    },
    "collapsed": true,
    "id": "vZqJBgrb9204",
    "outputId": "b1052600-1f1d-4d6c-d72d-909426177436"
   },
   "outputs": [
    {
     "name": "stdout",
     "output_type": "stream",
     "text": [
      "Num of cores: 0\n",
      "tensor(23.3951, grad_fn=<DivBackward0>)\n",
      "tensor(22.3319, grad_fn=<DivBackward0>)\n",
      "tensor(21.9331, grad_fn=<DivBackward0>)\n",
      "tensor(21.7339, grad_fn=<DivBackward0>)\n",
      "tensor(21.5781, grad_fn=<DivBackward0>)\n",
      "tensor(21.4321, grad_fn=<DivBackward0>)\n",
      "tensor(21.2809, grad_fn=<DivBackward0>)\n",
      "tensor(21.2353, grad_fn=<DivBackward0>)\n",
      "tensor(21.0929, grad_fn=<DivBackward0>)\n",
      "tensor(21.0182, grad_fn=<DivBackward0>)\n",
      "tensor(20.9376, grad_fn=<DivBackward0>)\n",
      "tensor(20.8659, grad_fn=<DivBackward0>)\n",
      "tensor(20.8272, grad_fn=<DivBackward0>)\n",
      "tensor(20.7852, grad_fn=<DivBackward0>)\n",
      "tensor(20.6783, grad_fn=<DivBackward0>)\n",
      "tensor(20.6777, grad_fn=<DivBackward0>)\n",
      "tensor(20.6029, grad_fn=<DivBackward0>)\n",
      "tensor(20.6026, grad_fn=<DivBackward0>)\n",
      "tensor(20.4730, grad_fn=<DivBackward0>)\n",
      "tensor(20.4654, grad_fn=<DivBackward0>)\n",
      "tensor(20.3855, grad_fn=<DivBackward0>)\n",
      "tensor(20.3852, grad_fn=<DivBackward0>)\n",
      "tensor(20.3476, grad_fn=<DivBackward0>)\n",
      "tensor(20.3113, grad_fn=<DivBackward0>)\n",
      "tensor(20.2550, grad_fn=<DivBackward0>)\n",
      "tensor(20.2286, grad_fn=<DivBackward0>)\n",
      "tensor(20.2306, grad_fn=<DivBackward0>)\n",
      "tensor(20.1405, grad_fn=<DivBackward0>)\n",
      "tensor(20.0973, grad_fn=<DivBackward0>)\n",
      "tensor(20.1294, grad_fn=<DivBackward0>)\n",
      "tensor(20.0489, grad_fn=<DivBackward0>)\n",
      "tensor(20.0829, grad_fn=<DivBackward0>)\n",
      "tensor(20.0254, grad_fn=<DivBackward0>)\n",
      "tensor(19.9552, grad_fn=<DivBackward0>)\n",
      "tensor(19.9870, grad_fn=<DivBackward0>)\n",
      "tensor(19.9487, grad_fn=<DivBackward0>)\n",
      "tensor(19.9030, grad_fn=<DivBackward0>)\n",
      "tensor(19.9121, grad_fn=<DivBackward0>)\n",
      "tensor(19.8631, grad_fn=<DivBackward0>)\n",
      "tensor(19.8416, grad_fn=<DivBackward0>)\n",
      "tensor(19.8579, grad_fn=<DivBackward0>)\n",
      "tensor(19.7916, grad_fn=<DivBackward0>)\n",
      "tensor(19.7959, grad_fn=<DivBackward0>)\n",
      "tensor(19.7779, grad_fn=<DivBackward0>)\n",
      "tensor(19.8047, grad_fn=<DivBackward0>)\n",
      "tensor(19.7499, grad_fn=<DivBackward0>)\n",
      "tensor(19.6855, grad_fn=<DivBackward0>)\n",
      "tensor(19.6847, grad_fn=<DivBackward0>)\n",
      "tensor(19.6905, grad_fn=<DivBackward0>)\n",
      "tensor(19.6523, grad_fn=<DivBackward0>)\n",
      "tensor(19.6152, grad_fn=<DivBackward0>)\n",
      "tensor(19.6306, grad_fn=<DivBackward0>)\n",
      "tensor(19.6071, grad_fn=<DivBackward0>)\n",
      "tensor(19.6035, grad_fn=<DivBackward0>)\n",
      "tensor(19.5719, grad_fn=<DivBackward0>)\n",
      "tensor(19.5311, grad_fn=<DivBackward0>)\n",
      "tensor(19.5322, grad_fn=<DivBackward0>)\n",
      "tensor(19.5528, grad_fn=<DivBackward0>)\n",
      "tensor(19.5043, grad_fn=<DivBackward0>)\n",
      "tensor(19.4964, grad_fn=<DivBackward0>)\n",
      "tensor(19.4529, grad_fn=<DivBackward0>)\n",
      "tensor(19.4612, grad_fn=<DivBackward0>)\n",
      "tensor(19.4346, grad_fn=<DivBackward0>)\n"
     ]
    },
    {
     "ename": "KeyboardInterrupt",
     "evalue": "ignored",
     "output_type": "error",
     "traceback": [
      "\u001b[0;31m---------------------------------------------------------------------------\u001b[0m",
      "\u001b[0;31mKeyboardInterrupt\u001b[0m                         Traceback (most recent call last)",
      "\u001b[0;32m<ipython-input-11-0ad2643818bf>\u001b[0m in \u001b[0;36m<module>\u001b[0;34m\u001b[0m\n\u001b[1;32m     33\u001b[0m       \u001b[0moptimizer\u001b[0m\u001b[0;34m.\u001b[0m\u001b[0mzero_grad\u001b[0m\u001b[0;34m(\u001b[0m\u001b[0;34m)\u001b[0m\u001b[0;34m\u001b[0m\u001b[0;34m\u001b[0m\u001b[0m\n\u001b[1;32m     34\u001b[0m       \u001b[0mloss\u001b[0m\u001b[0;34m.\u001b[0m\u001b[0mbackward\u001b[0m\u001b[0;34m(\u001b[0m\u001b[0;34m)\u001b[0m\u001b[0;34m\u001b[0m\u001b[0;34m\u001b[0m\u001b[0m\n\u001b[0;32m---> 35\u001b[0;31m       \u001b[0moptimizer\u001b[0m\u001b[0;34m.\u001b[0m\u001b[0mstep\u001b[0m\u001b[0;34m(\u001b[0m\u001b[0;34m)\u001b[0m\u001b[0;34m\u001b[0m\u001b[0;34m\u001b[0m\u001b[0m\n\u001b[0m\u001b[1;32m     36\u001b[0m \u001b[0;34m\u001b[0m\u001b[0m\n\u001b[1;32m     37\u001b[0m       \u001b[0mtrainloss\u001b[0m\u001b[0;34m+=\u001b[0m\u001b[0mloss\u001b[0m\u001b[0;34m\u001b[0m\u001b[0;34m\u001b[0m\u001b[0m\n",
      "\u001b[0;32m/usr/local/lib/python3.8/dist-packages/torch/optim/optimizer.py\u001b[0m in \u001b[0;36mwrapper\u001b[0;34m(*args, **kwargs)\u001b[0m\n\u001b[1;32m    138\u001b[0m                 \u001b[0mprofile_name\u001b[0m \u001b[0;34m=\u001b[0m \u001b[0;34m\"Optimizer.step#{}.step\"\u001b[0m\u001b[0;34m.\u001b[0m\u001b[0mformat\u001b[0m\u001b[0;34m(\u001b[0m\u001b[0mobj\u001b[0m\u001b[0;34m.\u001b[0m\u001b[0m__class__\u001b[0m\u001b[0;34m.\u001b[0m\u001b[0m__name__\u001b[0m\u001b[0;34m)\u001b[0m\u001b[0;34m\u001b[0m\u001b[0;34m\u001b[0m\u001b[0m\n\u001b[1;32m    139\u001b[0m                 \u001b[0;32mwith\u001b[0m \u001b[0mtorch\u001b[0m\u001b[0;34m.\u001b[0m\u001b[0mautograd\u001b[0m\u001b[0;34m.\u001b[0m\u001b[0mprofiler\u001b[0m\u001b[0;34m.\u001b[0m\u001b[0mrecord_function\u001b[0m\u001b[0;34m(\u001b[0m\u001b[0mprofile_name\u001b[0m\u001b[0;34m)\u001b[0m\u001b[0;34m:\u001b[0m\u001b[0;34m\u001b[0m\u001b[0;34m\u001b[0m\u001b[0m\n\u001b[0;32m--> 140\u001b[0;31m                     \u001b[0mout\u001b[0m \u001b[0;34m=\u001b[0m \u001b[0mfunc\u001b[0m\u001b[0;34m(\u001b[0m\u001b[0;34m*\u001b[0m\u001b[0margs\u001b[0m\u001b[0;34m,\u001b[0m \u001b[0;34m**\u001b[0m\u001b[0mkwargs\u001b[0m\u001b[0;34m)\u001b[0m\u001b[0;34m\u001b[0m\u001b[0;34m\u001b[0m\u001b[0m\n\u001b[0m\u001b[1;32m    141\u001b[0m                     \u001b[0mobj\u001b[0m\u001b[0;34m.\u001b[0m\u001b[0m_optimizer_step_code\u001b[0m\u001b[0;34m(\u001b[0m\u001b[0;34m)\u001b[0m\u001b[0;34m\u001b[0m\u001b[0;34m\u001b[0m\u001b[0m\n\u001b[1;32m    142\u001b[0m                     \u001b[0;32mreturn\u001b[0m \u001b[0mout\u001b[0m\u001b[0;34m\u001b[0m\u001b[0;34m\u001b[0m\u001b[0m\n",
      "\u001b[0;32m/usr/local/lib/python3.8/dist-packages/torch/optim/optimizer.py\u001b[0m in \u001b[0;36m_use_grad\u001b[0;34m(self, *args, **kwargs)\u001b[0m\n\u001b[1;32m     21\u001b[0m         \u001b[0;32mtry\u001b[0m\u001b[0;34m:\u001b[0m\u001b[0;34m\u001b[0m\u001b[0;34m\u001b[0m\u001b[0m\n\u001b[1;32m     22\u001b[0m             \u001b[0mtorch\u001b[0m\u001b[0;34m.\u001b[0m\u001b[0mset_grad_enabled\u001b[0m\u001b[0;34m(\u001b[0m\u001b[0mself\u001b[0m\u001b[0;34m.\u001b[0m\u001b[0mdefaults\u001b[0m\u001b[0;34m[\u001b[0m\u001b[0;34m'differentiable'\u001b[0m\u001b[0;34m]\u001b[0m\u001b[0;34m)\u001b[0m\u001b[0;34m\u001b[0m\u001b[0;34m\u001b[0m\u001b[0m\n\u001b[0;32m---> 23\u001b[0;31m             \u001b[0mret\u001b[0m \u001b[0;34m=\u001b[0m \u001b[0mfunc\u001b[0m\u001b[0;34m(\u001b[0m\u001b[0mself\u001b[0m\u001b[0;34m,\u001b[0m \u001b[0;34m*\u001b[0m\u001b[0margs\u001b[0m\u001b[0;34m,\u001b[0m \u001b[0;34m**\u001b[0m\u001b[0mkwargs\u001b[0m\u001b[0;34m)\u001b[0m\u001b[0;34m\u001b[0m\u001b[0;34m\u001b[0m\u001b[0m\n\u001b[0m\u001b[1;32m     24\u001b[0m         \u001b[0;32mfinally\u001b[0m\u001b[0;34m:\u001b[0m\u001b[0;34m\u001b[0m\u001b[0;34m\u001b[0m\u001b[0m\n\u001b[1;32m     25\u001b[0m             \u001b[0mtorch\u001b[0m\u001b[0;34m.\u001b[0m\u001b[0mset_grad_enabled\u001b[0m\u001b[0;34m(\u001b[0m\u001b[0mprev_grad\u001b[0m\u001b[0;34m)\u001b[0m\u001b[0;34m\u001b[0m\u001b[0;34m\u001b[0m\u001b[0m\n",
      "\u001b[0;32m/usr/local/lib/python3.8/dist-packages/torch/optim/adam.py\u001b[0m in \u001b[0;36mstep\u001b[0;34m(self, closure, grad_scaler)\u001b[0m\n\u001b[1;32m    232\u001b[0m                     \u001b[0mstate_steps\u001b[0m\u001b[0;34m.\u001b[0m\u001b[0mappend\u001b[0m\u001b[0;34m(\u001b[0m\u001b[0mstate\u001b[0m\u001b[0;34m[\u001b[0m\u001b[0;34m'step'\u001b[0m\u001b[0;34m]\u001b[0m\u001b[0;34m)\u001b[0m\u001b[0;34m\u001b[0m\u001b[0;34m\u001b[0m\u001b[0m\n\u001b[1;32m    233\u001b[0m \u001b[0;34m\u001b[0m\u001b[0m\n\u001b[0;32m--> 234\u001b[0;31m             adam(params_with_grad,\n\u001b[0m\u001b[1;32m    235\u001b[0m                  \u001b[0mgrads\u001b[0m\u001b[0;34m,\u001b[0m\u001b[0;34m\u001b[0m\u001b[0;34m\u001b[0m\u001b[0m\n\u001b[1;32m    236\u001b[0m                  \u001b[0mexp_avgs\u001b[0m\u001b[0;34m,\u001b[0m\u001b[0;34m\u001b[0m\u001b[0;34m\u001b[0m\u001b[0m\n",
      "\u001b[0;32m/usr/local/lib/python3.8/dist-packages/torch/optim/adam.py\u001b[0m in \u001b[0;36madam\u001b[0;34m(params, grads, exp_avgs, exp_avg_sqs, max_exp_avg_sqs, state_steps, foreach, capturable, differentiable, fused, grad_scale, found_inf, amsgrad, beta1, beta2, lr, weight_decay, eps, maximize)\u001b[0m\n\u001b[1;32m    298\u001b[0m         \u001b[0mfunc\u001b[0m \u001b[0;34m=\u001b[0m \u001b[0m_single_tensor_adam\u001b[0m\u001b[0;34m\u001b[0m\u001b[0;34m\u001b[0m\u001b[0m\n\u001b[1;32m    299\u001b[0m \u001b[0;34m\u001b[0m\u001b[0m\n\u001b[0;32m--> 300\u001b[0;31m     func(params,\n\u001b[0m\u001b[1;32m    301\u001b[0m          \u001b[0mgrads\u001b[0m\u001b[0;34m,\u001b[0m\u001b[0;34m\u001b[0m\u001b[0;34m\u001b[0m\u001b[0m\n\u001b[1;32m    302\u001b[0m          \u001b[0mexp_avgs\u001b[0m\u001b[0;34m,\u001b[0m\u001b[0;34m\u001b[0m\u001b[0;34m\u001b[0m\u001b[0m\n",
      "\u001b[0;32m/usr/local/lib/python3.8/dist-packages/torch/optim/adam.py\u001b[0m in \u001b[0;36m_single_tensor_adam\u001b[0;34m(params, grads, exp_avgs, exp_avg_sqs, max_exp_avg_sqs, state_steps, grad_scale, found_inf, amsgrad, beta1, beta2, lr, weight_decay, eps, maximize, capturable, differentiable)\u001b[0m\n\u001b[1;32m    349\u001b[0m \u001b[0;34m\u001b[0m\u001b[0m\n\u001b[1;32m    350\u001b[0m         \u001b[0;31m# update step\u001b[0m\u001b[0;34m\u001b[0m\u001b[0;34m\u001b[0m\u001b[0;34m\u001b[0m\u001b[0m\n\u001b[0;32m--> 351\u001b[0;31m         \u001b[0mstep_t\u001b[0m \u001b[0;34m+=\u001b[0m \u001b[0;36m1\u001b[0m\u001b[0;34m\u001b[0m\u001b[0;34m\u001b[0m\u001b[0m\n\u001b[0m\u001b[1;32m    352\u001b[0m \u001b[0;34m\u001b[0m\u001b[0m\n\u001b[1;32m    353\u001b[0m         \u001b[0;32mif\u001b[0m \u001b[0mweight_decay\u001b[0m \u001b[0;34m!=\u001b[0m \u001b[0;36m0\u001b[0m\u001b[0;34m:\u001b[0m\u001b[0;34m\u001b[0m\u001b[0;34m\u001b[0m\u001b[0m\n",
      "\u001b[0;31mKeyboardInterrupt\u001b[0m: "
     ]
    }
   ],
   "source": [
    "\n",
    "\n",
    "# build linear model\n",
    "class LinearRegression(nn.Module):\n",
    "\n",
    "    def __init__(self):\n",
    "        super(LinearRegression, self).__init__()\n",
    "        self.linear1 = nn.Linear(5, 1024)\n",
    "        self.relu=nn.ReLU()\n",
    "        self.linear2 = nn.Linear(1024, 40)\n",
    "    def forward(self, x):\n",
    "        x = self.linear1(x)\n",
    "        x=self.relu(x)\n",
    "        x=self.linear2(x)\n",
    "        return x\n",
    "# init\n",
    "predmodel = LinearRegression()\n",
    "# set optimizer\n",
    "optimizer = torch.optim.Adam(predmodel.parameters(), lr=1e-3)\n",
    "# init SPO+ loss\n",
    "spo = pyepo.func.SPOPlus(optmodel, processes=0)\n",
    "criterion = nn.CrossEntropyLoss()\n",
    "# training\n",
    "num_epochs = 100\n",
    "for epoch in range(num_epochs):\n",
    "    trainloss=0\n",
    "    for data in dataloader:\n",
    "      x, c, w, z = data\n",
    "        # forward pass\n",
    "      cp = predmodel(x)\n",
    "      #print(cp)\n",
    "        #loss = spo(cp, c, w, z).mean()\n",
    "      loss = criterion(cp, w).mean()\n",
    "        # backward pass\n",
    "      optimizer.zero_grad()\n",
    "      loss.backward()\n",
    "      optimizer.step()\n",
    "\n",
    "      trainloss+=loss\n",
    "    print(trainloss/1000)\n",
    "      \n",
    "        \n",
    "# eval\n",
    "print((regret_w(predmodel, optmodel, dataloader)))"
   ]
  },
  {
   "cell_type": "code",
   "execution_count": null,
   "metadata": {
    "colab": {
     "base_uri": "https://localhost:8080/"
    },
    "id": "ecqUsX1pPThJ",
    "outputId": "4836cdd3-c02e-4c39-9d55-a60124604a7d"
   },
   "outputs": [
    {
     "data": {
      "text/plain": [
       "array([[0.17887975]], dtype=float32)"
      ]
     },
     "execution_count": 55,
     "metadata": {},
     "output_type": "execute_result"
    }
   ],
   "source": [
    "import numpy as np\n",
    "np.dot(c,w.T)"
   ]
  },
  {
   "cell_type": "code",
   "execution_count": null,
   "metadata": {
    "colab": {
     "base_uri": "https://localhost:8080/"
    },
    "id": "g1S7UfSoEBEI",
    "outputId": "2e914a6d-9421-4dda-a2f5-7c6e3055eb41"
   },
   "outputs": [
    {
     "name": "stdout",
     "output_type": "stream",
     "text": [
      "Optimizing for optDataset...\n"
     ]
    },
    {
     "name": "stderr",
     "output_type": "stream",
     "text": [
      "100%|██████████| 1100/1100 [00:01<00:00, 558.96it/s]\n"
     ]
    }
   ],
   "source": [
    "import pyepo\n",
    "import torch\n",
    "from torch import nn\n",
    "from torch.utils.data import DataLoader\n",
    "from torch.utils.data import random_split\n",
    "\n",
    "# model for shortest path\n",
    "grid = (5,5) # grid size\n",
    "optmodel = pyepo.model.grb.shortestPathModel(grid)\n",
    "\n",
    "# generate data\n",
    "num_data = 1100 # number of data\n",
    "num_feat = 5 # size of feature\n",
    "deg = 8 # polynomial degree\n",
    "noise_width = 0.5 # noise width\n",
    "x, c = pyepo.data.shortestpath.genData(num_data, num_feat, grid, deg, noise_width, seed=135)\n",
    "\n",
    "# build dataset\n",
    "dataset = pyepo.data.dataset.optDataset(optmodel, x, c)\n",
    "torch.manual_seed(0)\n",
    "train_set,val_set = random_split(dataset,[100,1000])\n",
    "\n",
    "# get data loader\n",
    "trainloader = DataLoader(train_set, batch_size=32, shuffle=True)\n",
    "testloader = DataLoader(val_set, batch_size=256, shuffle=False)\n",
    "\n",
    "# build linear model\n",
    "class LinearRegression(nn.Module):\n",
    "\n",
    "    def __init__(self):\n",
    "        super(LinearRegression, self).__init__()\n",
    "        self.linear = nn.Linear(5, 40)\n",
    "\n",
    "    def forward(self, x):\n",
    "        out = self.linear(x)\n",
    "        return out\n"
   ]
  },
  {
   "cell_type": "code",
   "execution_count": null,
   "metadata": {
    "id": "Sl9Vb8yxITIx"
   },
   "outputs": [],
   "source": [
    "class LinearRegression_double(nn.Module):\n",
    "\n",
    "    def __init__(self):\n",
    "        super(LinearRegression_double, self).__init__()\n",
    "        self.linear1 = nn.Linear(5, 40)\n",
    "        #for p in self.parameters():\n",
    "          #p.requires_grad=False\n",
    "        #self.linear2 = nn.Linear(40, 40)\n",
    "\n",
    "    def forward(self, x):\n",
    "        x = self.linear1(x)\n",
    "        #out = self.linear2(x)\n",
    "        return x\n"
   ]
  },
  {
   "cell_type": "code",
   "execution_count": null,
   "metadata": {
    "colab": {
     "base_uri": "https://localhost:8080/"
    },
    "id": "SoR5hn8z11jK",
    "outputId": "80f8c1b5-fe29-44e0-ad93-5a3fc79608cf"
   },
   "outputs": [
    {
     "name": "stdout",
     "output_type": "stream",
     "text": [
      "Num of cores: 0\n"
     ]
    }
   ],
   "source": [
    "  # init\n",
    "predmodel = LinearRegression()\n",
    "  # set optimizer\n",
    "optimizer = torch.optim.Adam(predmodel.parameters(), lr=1e-3)\n",
    "  # init L1Loss loss\n",
    "#criterion = nn.L1Loss()\n",
    "spo = pyepo.func.SPOPlus(optmodel, processes=0)\n",
    "\n",
    "train_loss_list = []\n",
    "test_loss_list = []\n",
    "train_regret_list = []\n",
    "test_regret_list = []\n",
    "  # training\n",
    "num_epochs = 100\n",
    "\n",
    "for epoch in range(num_epochs):\n",
    "    train_loss = 0\n",
    "    for batch_idx,data in enumerate(trainloader):\n",
    "        x, c, w, z = data\n",
    "        # forward pass\n",
    "        cp = predmodel(x)\n",
    "        #loss = criterion(cp, c).mean()\n",
    "        loss = spo(cp, c, w, z).mean()\n",
    "        # backward pass\n",
    "        optimizer.zero_grad()\n",
    "        loss.backward()\n",
    "        optimizer.step()\n",
    "\n",
    "        train_loss += loss.item()\n",
    "    train_loss_list.append(train_loss/(batch_idx+1))\n",
    "    train_regret=pyepo.metric.regret(predmodel, optmodel, trainloader)\n",
    "    train_regret_list.append(train_regret)\n",
    "\n",
    "\n",
    "    '''test_loss = 0\n",
    "    with torch.inference_mode():\n",
    "      for batch_idx,data in enumerate(testloader):\n",
    "          x, c, w, z = data\n",
    "          # forward pass\n",
    "          cp = predmodel(x)\n",
    "          #loss = criterion(cp, c).mean()\n",
    "          loss = spo(cp, c, w, z).mean()\n",
    "          test_loss += loss.item()\n",
    "      \n",
    "    test_loss_list.append(test_loss/(batch_idx+1))\n",
    "    test_regret=pyepo.metric.regret(predmodel, optmodel, testloader)\n",
    "    test_regret_list.append(test_regret)\n",
    "    print((\"Epoch : %3d, training regret : %2.4f,\" + \\\n",
    "        \"test regret : %2.4f\") % (epoch, train_regret, test_regret))'''"
   ]
  },
  {
   "cell_type": "code",
   "execution_count": null,
   "metadata": {
    "colab": {
     "base_uri": "https://localhost:8080/"
    },
    "id": "YvsvTWkXuPht",
    "outputId": "5801f8f4-76b5-4548-c15f-0833e523ab5a"
   },
   "outputs": [
    {
     "name": "stdout",
     "output_type": "stream",
     "text": [
      "Regret on Training Set: 0.1357\n",
      "Regret on Test Set: 0.2336\n"
     ]
    }
   ],
   "source": [
    "# eval\n",
    "print(\"Regret on Training Set: {:.4f}\".format(pyepo.metric.regret(predmodel, optmodel, trainloader)))\n",
    "print(\"Regret on Test Set: {:.4f}\".format(pyepo.metric.regret(predmodel, optmodel, testloader)))"
   ]
  },
  {
   "cell_type": "code",
   "execution_count": null,
   "metadata": {
    "colab": {
     "base_uri": "https://localhost:8080/",
     "height": 295
    },
    "id": "YaE94LKJ1rWx",
    "outputId": "f55662e3-c78f-4703-982f-a365c390b20b"
   },
   "outputs": [
    {
     "data": {
      "image/png": "[encoded data removed]",
      "text/plain": [
       "<Figure size 432x288 with 1 Axes>"
      ]
     },
     "metadata": {},
     "output_type": "display_data"
    }
   ],
   "source": [
    "import matplotlib.pyplot as plt\n",
    "plt.plot(range(len(train_loss_list)), train_loss_list, 'b')\n",
    "plt.plot(range(len(test_loss_list)), test_loss_list, 'r')\n",
    "plt.xlabel(\"Number of epochs\")\n",
    "plt.ylabel(\"Loss\")\n",
    "plt.title(\"Training Loss vs Number of epochs\")\n",
    "plt.legend(['train','test'])\n",
    "plt.show()"
   ]
  },
  {
   "cell_type": "code",
   "execution_count": null,
   "metadata": {
    "colab": {
     "base_uri": "https://localhost:8080/",
     "height": 295
    },
    "id": "BMbzBJGu1wT_",
    "outputId": "30d932c4-eff0-4f84-810f-eb6e5abdb3a2"
   },
   "outputs": [
    {
     "data": {
      "image/png": "[encoded data removed]",
      "text/plain": [
       "<Figure size 432x288 with 1 Axes>"
      ]
     },
     "metadata": {},
     "output_type": "display_data"
    }
   ],
   "source": [
    "plt.plot(range(len(train_regret_list)), train_regret_list, 'b')\n",
    "plt.plot(range(len(test_regret_list)), test_regret_list, 'r')\n",
    "plt.xlabel(\"Number of epochs\")\n",
    "plt.ylabel(\"Regret\")\n",
    "plt.title(\"Training Regret and Validation Accuracy vs Number of epochs\")\n",
    "plt.legend(['train','test'])\n",
    "plt.show()"
   ]
  },
  {
   "cell_type": "code",
   "execution_count": null,
   "metadata": {
    "colab": {
     "base_uri": "https://localhost:8080/"
    },
    "id": "rLuKZiflXSl8",
    "outputId": "a5a4b2bf-d9e8-47ae-c00a-217b41b2bf60"
   },
   "outputs": [
    {
     "name": "stdout",
     "output_type": "stream",
     "text": [
      "odict_keys(['linear.weight', 'linear.bias'])\n"
     ]
    }
   ],
   "source": [
    "print(predmodel.state_dict().keys())                                # 输出模型参数名称\n",
    " \n",
    "# 保存模型参数到路径\"./data/model_parameter.pkl\"\n",
    "torch.save(predmodel.state_dict(), \"./model_parameter.pkl\")                                         # 进行使用"
   ]
  },
  {
   "cell_type": "code",
   "execution_count": null,
   "metadata": {
    "colab": {
     "base_uri": "https://localhost:8080/"
    },
    "id": "J8W9UqT1NDFj",
    "outputId": "19d667bc-5213-4e52-bccc-b63b0d1a2c53"
   },
   "outputs": [
    {
     "data": {
      "text/plain": [
       "Parameter containing:\n",
       "tensor([[ 4.0695e-01,  7.0315e-03, -1.2506e-02,  4.0442e-01,  3.2143e-01],\n",
       "        [-4.8706e-02,  5.5737e-01,  3.6789e-01, -1.3693e-02,  4.2348e-01],\n",
       "        [ 1.9326e-03,  1.7070e-02, -6.7492e-03,  1.1635e-02, -1.7618e-02],\n",
       "        [ 2.9658e-01,  5.0517e-01,  3.5932e-01, -3.7297e-02,  3.1881e-01],\n",
       "        [-1.8502e-02,  7.2575e-03, -1.4016e-03,  3.4380e-01,  3.3901e-01],\n",
       "        [ 3.1541e-01, -1.6286e-01,  4.8901e-01,  4.5300e-01,  3.8357e-01],\n",
       "        [ 3.8810e-01, -5.6692e-03,  4.3967e-01,  5.2598e-01,  4.1919e-02],\n",
       "        [-3.1852e-02,  4.5908e-01,  3.8931e-01,  2.9822e-01,  3.5631e-01],\n",
       "        [ 2.9350e-01,  4.3852e-01,  4.8136e-02, -1.6624e-02,  3.0807e-01],\n",
       "        [ 1.5330e-02, -4.0407e-02,  3.9116e-01,  1.2152e-02,  3.8498e-01],\n",
       "        [ 3.8264e-01, -1.1429e-01,  4.2871e-01,  4.8143e-01,  3.6056e-01],\n",
       "        [ 3.8275e-01,  4.6353e-03, -1.4864e-02,  4.1787e-01,  1.8696e-02],\n",
       "        [ 2.6415e-01,  5.0877e-01,  3.8754e-01,  3.1680e-01,  2.6135e-01],\n",
       "        [-7.3661e-02,  3.6464e-01,  3.2370e-01,  3.2997e-01,  2.8759e-01],\n",
       "        [ 4.1398e-01, -1.1676e-01,  5.0816e-01,  7.0260e-03,  4.7278e-01],\n",
       "        [-6.9153e-02,  3.9490e-01,  3.3809e-01,  3.1818e-01,  2.8710e-01],\n",
       "        [ 3.6583e-01,  4.4562e-01,  4.2338e-01,  2.0292e-02, -5.3902e-03],\n",
       "        [ 2.7474e-03,  2.7489e-02,  3.3679e-01, -1.4586e-03,  2.5900e-02],\n",
       "        [-5.5758e-04,  3.8348e-01,  4.0480e-01,  3.3011e-01,  6.3632e-03],\n",
       "        [ 2.9329e-01, -1.0657e-01,  3.6050e-01,  3.8307e-01,  3.9541e-01],\n",
       "        [ 3.8519e-01,  1.5614e-03, -2.9797e-02,  4.2947e-01,  6.5060e-03],\n",
       "        [-1.8883e-03,  1.2617e-02,  3.7531e-01,  1.3938e-02,  2.8901e-02],\n",
       "        [ 4.4513e-03, -5.9198e-02,  4.6338e-01,  4.7050e-01,  3.6989e-01],\n",
       "        [ 3.2706e-01, -3.3587e-02,  2.6034e-02, -2.2925e-02,  1.9483e-02],\n",
       "        [-2.4201e-02, -3.7214e-03,  1.7709e-02,  2.9224e-02,  3.6055e-01],\n",
       "        [ 4.5064e-01, -4.2234e-03,  4.4861e-01,  6.1456e-01,  3.9830e-02],\n",
       "        [ 3.5947e-01,  7.3601e-03,  4.1795e-01,  1.8237e-02,  3.2573e-01],\n",
       "        [ 3.2423e-01,  1.0300e-02,  4.2535e-01,  2.9225e-03,  4.0276e-01],\n",
       "        [ 1.3599e-02,  3.4679e-01, -1.1666e-02,  3.2833e-01,  6.5722e-03],\n",
       "        [-3.9097e-02,  4.4825e-01,  1.1938e-02, -3.5862e-02,  3.6479e-01],\n",
       "        [ 2.5458e-02, -2.5032e-02,  3.5579e-01,  3.7750e-01,  2.4016e-02],\n",
       "        [ 2.5594e-01,  4.5620e-01,  3.4032e-01,  3.2666e-01,  2.8630e-01],\n",
       "        [ 1.6559e-02, -1.8473e-02,  3.8970e-01,  4.9791e-01,  5.2079e-03],\n",
       "        [-6.5547e-02,  4.8688e-01,  2.7960e-01, -9.7864e-03,  3.7354e-01],\n",
       "        [-8.8193e-05,  1.0702e-03, -2.1612e-02, -2.0539e-02, -3.7590e-02],\n",
       "        [-5.2860e-02,  4.7042e-01,  3.9740e-02, -4.2270e-02,  3.6374e-01],\n",
       "        [ 4.0519e-01,  4.8772e-03,  3.6998e-01,  5.0650e-01,  2.5023e-02],\n",
       "        [-5.8529e-02,  4.3701e-01,  1.6845e-02, -2.7966e-02,  4.3421e-01],\n",
       "        [-2.2612e-02,  4.4513e-01,  3.5506e-01,  2.7799e-02,  3.5194e-03],\n",
       "        [ 3.0319e-02, -1.3976e-03,  3.4161e-01,  1.2468e-04, -8.2558e-03]],\n",
       "       requires_grad=True)"
      ]
     },
     "execution_count": 90,
     "metadata": {},
     "output_type": "execute_result"
    }
   ],
   "source": [
    "predmodel.linear.weight"
   ]
  },
  {
   "cell_type": "code",
   "execution_count": null,
   "metadata": {
    "colab": {
     "base_uri": "https://localhost:8080/"
    },
    "id": "JVOXJ1nGrBmk",
    "outputId": "b5af2de3-8e52-4226-d8a3-9bdfed0a93c7"
   },
   "outputs": [
    {
     "name": "stdout",
     "output_type": "stream",
     "text": [
      "Num of cores: 0\n",
      "Num of cores: 0\n",
      "Num of cores: 0\n",
      "Num of cores: 0\n",
      "Num of cores: 0\n",
      "Num of cores: 0\n",
      "Num of cores: 0\n",
      "Num of cores: 0\n",
      "Num of cores: 0\n",
      "Num of cores: 0\n"
     ]
    }
   ],
   "source": [
    "regret = []\n",
    "for i in range (10):\n",
    "  # init\n",
    "  predmodel_spo = LinearRegression_double()\n",
    "  predmodel_spo.linear1.weight=predmodel.linear.weight\n",
    "  predmodel_spo.linear1.weight.requires_grad=False\n",
    "  predmodel_spo.linear1.bias=predmodel.linear.bias\n",
    "  predmodel_spo.linear1.bias.requires_grad=False\n",
    "  # set optimizer\n",
    "  optimizer = torch.optim.Adam(predmodel_spo.parameters(), lr=1e-2)\n",
    "  # init SPO+ loss\n",
    "  spo = pyepo.func.SPOPlus(optmodel, processes=0)\n",
    "\n",
    "\n",
    "  train_loss_list = []\n",
    "  test_loss_list = []\n",
    "  train_regret_list = []\n",
    "  test_regret_list = []\n",
    "  # training\n",
    "  num_epochs = 30\n",
    "\n",
    "  for epoch in range(num_epochs):\n",
    "      train_loss = 0\n",
    "      for batch_idx,data in enumerate(trainloader):\n",
    "          x, c, w, z = data\n",
    "          # forward pass\n",
    "          cp = predmodel_spo(x)\n",
    "          loss = spo(cp, c, w, z).mean()\n",
    "          # backward pass\n",
    "          optimizer.zero_grad()\n",
    "          loss.backward()\n",
    "          optimizer.step()\n",
    "\n",
    "          train_loss += loss.item()\n",
    "      train_loss_list.append(train_loss/(batch_idx+1))\n",
    "      train_regret=pyepo.metric.regret(predmodel_spo, optmodel, trainloader)\n",
    "      train_regret_list.append(train_regret)\n",
    "\n",
    "  '''    test_loss = 0\n",
    "      with torch.inference_mode():\n",
    "        for batch_idx,data in enumerate(testloader):\n",
    "            x, c, w, z = data\n",
    "            # forward pass\n",
    "            cp = predmodel_spo(x)\n",
    "            loss = spo(cp, c, w, z).mean()\n",
    "\n",
    "            test_loss += loss.item()\n",
    "      \n",
    "      test_loss_list.append(test_loss/(batch_idx+1))\n",
    "      test_regret=pyepo.metric.regret(predmodel_spo, optmodel, testloader)\n",
    "      test_regret_list.append(test_regret)\n",
    "      print((\"Epoch : %3d, training regret : %2.4f,\" + \\\n",
    "        \"test regret : %2.4f\") % (epoch, train_regret, test_regret))'''\n",
    "  regret.append(pyepo.metric.regret(predmodel_spo, optmodel, testloader))"
   ]
  },
  {
   "cell_type": "code",
   "execution_count": null,
   "metadata": {
    "colab": {
     "base_uri": "https://localhost:8080/"
    },
    "id": "WTw5bRwpCsak",
    "outputId": "fe53e9f6-a629-4ce1-dd23-ac5fe83da1aa"
   },
   "outputs": [
    {
     "name": "stdout",
     "output_type": "stream",
     "text": [
      "Num of cores: 0\n"
     ]
    }
   ],
   "source": [
    "# init \n",
    "predmodel_spo = LinearRegression_double()\n",
    "predmodel_spo.linear1.weight=predmodel.linear.weight\n",
    "predmodel_spo.linear1.weight.requires_grad=False\n",
    "predmodel_spo.linear1.bias=predmodel.linear.bias\n",
    "predmodel_spo.linear1.bias.requires_grad=False\n",
    "  # set optimizer\n",
    "optimizer = torch.optim.Adam(predmodel_spo.parameters(), lr=1e-2)\n",
    "  # init SPO+ loss\n",
    "spo = pyepo.func.SPOPlus(optmodel, processes=0)\n",
    "\n",
    "\n",
    "train_loss_list = []\n",
    "test_loss_list = []\n",
    "train_regret_list = []\n",
    "test_regret_list = []\n",
    "  # training\n",
    "num_epochs = 30\n",
    "\n",
    "for epoch in range(num_epochs):\n",
    "    train_loss = 0\n",
    "    for batch_idx,data in enumerate(trainloader):\n",
    "        x, c, w, z = data\n",
    "          # forward pass\n",
    "        cp = predmodel_spo(x)\n",
    "        loss = spo(cp, c, w, z).mean()\n",
    "          # backward pass\n",
    "        optimizer.zero_grad()\n",
    "        loss.backward()\n",
    "        optimizer.step()\n",
    "\n",
    "        train_loss += loss.item()\n",
    "    train_loss_list.append(train_loss/(batch_idx+1))\n",
    "    train_regret=pyepo.metric.regret(predmodel_spo, optmodel, trainloader)\n",
    "    train_regret_list.append(train_regret)"
   ]
  },
  {
   "cell_type": "code",
   "execution_count": null,
   "metadata": {
    "id": "kNw1yw8LHLWG"
   },
   "outputs": [],
   "source": [
    "data=[]\n",
    "data=regret"
   ]
  },
  {
   "cell_type": "code",
   "execution_count": null,
   "metadata": {
    "id": "6nd5ZfW2PmwI"
   },
   "outputs": [],
   "source": [
    "data2=[]\n",
    "data2=regret"
   ]
  },
  {
   "cell_type": "code",
   "execution_count": null,
   "metadata": {
    "colab": {
     "base_uri": "https://localhost:8080/",
     "height": 265
    },
    "id": "_afRdnn8yJMn",
    "outputId": "14b88a6e-0656-454f-af58-6367f053a2e3"
   },
   "outputs": [
    {
     "data": {
      "image/png": "[encoded data removed]",
      "text/plain": [
       "<Figure size 432x288 with 1 Axes>"
      ]
     },
     "metadata": {},
     "output_type": "display_data"
    }
   ],
   "source": [
    "import matplotlib.pyplot as plt\n",
    "\n",
    "#regret1=regret\n",
    "\n",
    "fig=plt.figure()\n",
    " \n",
    "# patch_artist=True填充箱体颜色\n",
    "\n",
    "plt.boxplot(data2,patch_artist=True) \n",
    " \n",
    "plt.show()"
   ]
  },
  {
   "cell_type": "code",
   "execution_count": null,
   "metadata": {
    "colab": {
     "base_uri": "https://localhost:8080/"
    },
    "id": "02wI0GH0LBgq",
    "outputId": "5c2d18df-6aa5-48f0-c32b-e5a32835305c"
   },
   "outputs": [
    {
     "name": "stdout",
     "output_type": "stream",
     "text": [
      "Regret on Training Set: 0.0593\n",
      "Regret on Test Set: 0.1458\n"
     ]
    }
   ],
   "source": [
    "# eval\n",
    "print(\"Regret on Training Set: {:.4f}\".format(pyepo.metric.regret(predmodel_spo, optmodel, trainloader)))\n",
    "print(\"Regret on Test Set: {:.4f}\".format(pyepo.metric.regret(predmodel_spo, optmodel, testloader)))"
   ]
  },
  {
   "cell_type": "code",
   "execution_count": null,
   "metadata": {
    "colab": {
     "base_uri": "https://localhost:8080/",
     "height": 295
    },
    "id": "VVcXDpvTGVDl",
    "outputId": "b672beb5-5a63-4582-c23c-b7f887713953"
   },
   "outputs": [
    {
     "data": {
      "image/png": "[encoded data removed]",
      "text/plain": [
       "<Figure size 432x288 with 1 Axes>"
      ]
     },
     "metadata": {},
     "output_type": "display_data"
    }
   ],
   "source": [
    "import matplotlib.pyplot as plt\n",
    "plt.plot(range(len(train_loss_list)), train_loss_list, 'b')\n",
    "plt.plot(range(len(test_loss_list)), test_loss_list, 'r')\n",
    "plt.xlabel(\"Number of epochs\")\n",
    "plt.ylabel(\"Loss\")\n",
    "plt.title(\"Training Loss vs Number of epochs\")\n",
    "plt.legend(['train','test'])\n",
    "plt.show()"
   ]
  },
  {
   "cell_type": "code",
   "execution_count": null,
   "metadata": {
    "colab": {
     "base_uri": "https://localhost:8080/",
     "height": 295
    },
    "id": "QS7yYzceBhJF",
    "outputId": "b5d83ee7-dd2f-4255-fc66-9d7ee1818c35"
   },
   "outputs": [
    {
     "data": {
      "image/png": "[encoded data removed]",
      "text/plain": [
       "<Figure size 432x288 with 1 Axes>"
      ]
     },
     "metadata": {},
     "output_type": "display_data"
    }
   ],
   "source": [
    "plt.plot(range(len(train_regret_list)), train_regret_list, 'b')\n",
    "plt.plot(range(len(test_regret_list)), test_regret_list, 'r')\n",
    "plt.xlabel(\"Number of epochs\")\n",
    "plt.ylabel(\"Regret\")\n",
    "plt.title(\"Training Regret and Validation Accuracy vs Number of epochs\")\n",
    "plt.legend(['train','test'])\n",
    "plt.show()"
   ]
  },
  {
   "cell_type": "code",
   "execution_count": null,
   "metadata": {
    "id": "psE-PwEVbiM-"
   },
   "outputs": [],
   "source": []
  }
 ],
 "metadata": {
  "accelerator": "GPU",
  "colab": {
   "machine_shape": "hm",
   "provenance": []
  },
  "gpuClass": "standard",
  "kernelspec": {
   "display_name": "Gurobi Environment",
   "language": "python",
   "name": "gurobi_env"
  },
  "language_info": {
   "codemirror_mode": {
    "name": "ipython",
    "version": 3
   },
   "file_extension": ".py",
   "mimetype": "text/x-python",
   "name": "python",
   "nbconvert_exporter": "python",
   "pygments_lexer": "ipython3",
   "version": "3.8.16"
  }
 },
 "nbformat": 4,
 "nbformat_minor": 1
}
